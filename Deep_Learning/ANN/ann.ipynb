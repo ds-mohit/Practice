{
 "cells": [
  {
   "cell_type": "markdown",
   "id": "6038ebe2",
   "metadata": {},
   "source": [
    "### Artificial Neural Network "
   ]
  },
  {
   "cell_type": "code",
   "execution_count": 1,
   "id": "d48756a4",
   "metadata": {},
   "outputs": [],
   "source": [
    "import numpy as np\n",
    "import tensorflow as tf\n",
    "from tensorflow import keras\n",
    "from sklearn.model_selection import train_test_split\n",
    "from tensorflow.keras import layers\n",
    "import pandas as pd"
   ]
  },
  {
   "cell_type": "code",
   "execution_count": 2,
   "id": "6161858d",
   "metadata": {},
   "outputs": [],
   "source": [
    "df = pd.DataFrame({\n",
    "    \"soil_moisture\": [0.10, 0.15, 0.20, 0.25, 0.40, 0.60, 0.35, 0.18,\n",
    "                      0.45, 0.05, 0.80, 0.27, 0.55, 0.70, 0.12, 0.30],\n",
    "    \"temperature_c\": [34, 30, 26, 22, 28, 30, 19, 22,\n",
    "                      35, 24, 33, 33, 21, 25, 20, 29],\n",
    "    \"sunlight_hours\": [9, 8, 7, 4, 8, 10, 3, 10,\n",
    "                       12, 5, 9, 11, 2, 6, 1, 9],\n",
    "    \"needs_water\": [1, 1, 1, 0, 0, 0, 0, 1,\n",
    "                    0, 1, 0, 1, 0, 0, 1, 1]\n",
    "})"
   ]
  },
  {
   "cell_type": "code",
   "execution_count": null,
   "id": "ee040b3c",
   "metadata": {},
   "outputs": [],
   "source": []
  }
 ],
 "metadata": {
  "kernelspec": {
   "display_name": "Python 3",
   "language": "python",
   "name": "python3"
  },
  "language_info": {
   "codemirror_mode": {
    "name": "ipython",
    "version": 3
   },
   "file_extension": ".py",
   "mimetype": "text/x-python",
   "name": "python",
   "nbconvert_exporter": "python",
   "pygments_lexer": "ipython3",
   "version": "3.11.9"
  }
 },
 "nbformat": 4,
 "nbformat_minor": 5
}
