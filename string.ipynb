{
 "cells": [
  {
   "cell_type": "markdown",
   "id": "0c5c0a7c",
   "metadata": {},
   "source": [
    "## This is the practice file for string"
   ]
  },
  {
   "cell_type": "code",
   "execution_count": 3,
   "id": "0dd2bf93",
   "metadata": {},
   "outputs": [
    {
     "name": "stdout",
     "output_type": "stream",
     "text": [
      "65\n",
      "129315\n"
     ]
    }
   ],
   "source": [
    "a= \"A\"\n",
    "print(ord(a))\n",
    "\n",
    "b= \"🤣\"\n",
    "print(ord(b))"
   ]
  },
  {
   "cell_type": "code",
   "execution_count": 11,
   "id": "10589c15",
   "metadata": {},
   "outputs": [
    {
     "name": "stdout",
     "output_type": "stream",
     "text": [
      "o\n",
      "d\n"
     ]
    }
   ],
   "source": [
    "## Indexing \n",
    "a= \"Hello World\"\n",
    "print(a[4]) ## to print single word\n",
    "print(a[-1]) ## to print using negative integer"
   ]
  },
  {
   "cell_type": "code",
   "execution_count": 16,
   "id": "5551388e",
   "metadata": {},
   "outputs": [
    {
     "name": "stdout",
     "output_type": "stream",
     "text": [
      "Hello\n",
      "Hlow\n",
      "ello world\n",
      "He\n",
      "Hello world\n"
     ]
    }
   ],
   "source": [
    "## Slicing\n",
    "a = \"Hello world\"\n",
    "print(a[0:5])\n",
    "print(a[0:8:2]) ## Starting point : Ending point : steps \n",
    "print(a[1::1]) ## in this we don't give ending point so it will go to last\n",
    "print(a[:2:1]) ## in this we don't give starting point so it will start from first word\n",
    "print(a[::]) ## in this it will print all string beacuse we don't provide any starting & ending point so it \n",
    "## will take default values "
   ]
  },
  {
   "cell_type": "code",
   "execution_count": null,
   "id": "31032854",
   "metadata": {},
   "outputs": [
    {
     "name": "stdout",
     "output_type": "stream",
     "text": [
      "<class 'int'>\n",
      "<class 'str'>\n",
      "True\n",
      "False\n"
     ]
    }
   ],
   "source": [
    "## type conversion\n",
    "## 1. Explicit conversion --> conversion by user\n",
    "a = 12\n",
    "print(type(a))\n",
    "\n",
    "a=str(a)\n",
    "print(type(a))\n",
    "\n",
    "a= 12\n",
    "print(bool(a))\n",
    "\n",
    "## there are some flasy value which will print zero in boolean \n",
    "## and other values will print true \n",
    "\n",
    "## so all flasy 7 values are --> False , 0 , 0.0 , () , {} ,[] \" \"\n",
    "# for e.g\n",
    "b = \"\"\n",
    "print(bool(b)) "
   ]
  },
  {
   "cell_type": "code",
   "execution_count": null,
   "id": "2697aeff",
   "metadata": {},
   "outputs": [
    {
     "name": "stdout",
     "output_type": "stream",
     "text": [
      "5.0\n"
     ]
    }
   ],
   "source": [
    "## 2. Implicit conversion\n",
    "a = 15\n",
    "print(a/3) ## 5.0 this is string conversion by python "
   ]
  },
  {
   "cell_type": "code",
   "execution_count": 27,
   "id": "0f3c25a5",
   "metadata": {},
   "outputs": [
    {
     "name": "stdout",
     "output_type": "stream",
     "text": [
      "hello\\nworld\n",
      "hello big bro you are 15 years old\n"
     ]
    }
   ],
   "source": [
    "## how to print Raw string and Formatted string\n",
    "## 1. Raw string\n",
    "a = r\"hello\\nworld\"\n",
    "print(a)\n",
    "\n",
    "## 2. Fromatted string\n",
    "name = \"big bro\"\n",
    "age = 15\n",
    "print(f\"hello {name} you are {age} years old\")"
   ]
  },
  {
   "cell_type": "code",
   "execution_count": null,
   "id": "77dcc870",
   "metadata": {},
   "outputs": [],
   "source": []
  }
 ],
 "metadata": {
  "kernelspec": {
   "display_name": "Python 3",
   "language": "python",
   "name": "python3"
  },
  "language_info": {
   "codemirror_mode": {
    "name": "ipython",
    "version": 3
   },
   "file_extension": ".py",
   "mimetype": "text/x-python",
   "name": "python",
   "nbconvert_exporter": "python",
   "pygments_lexer": "ipython3",
   "version": "3.11.9"
  }
 },
 "nbformat": 4,
 "nbformat_minor": 5
}
