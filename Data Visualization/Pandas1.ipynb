{
 "cells": [
  {
   "cell_type": "markdown",
   "id": "189cd808",
   "metadata": {},
   "source": [
    "``` Origin story of Pandas ``` :\n",
    "1. in 2008 , the pandas development team was created by Wes McKinney and the other members of the Data Wrangling for Python (PyData) community.\n",
    "2. The first version of pandas was released in 2009."
   ]
  },
  {
   "cell_type": "markdown",
   "id": "9acdedba",
   "metadata": {},
   "source": [
    "``` Pandas ``` : \n",
    "pandas is a Python library that is used for analyzing and manipulating data. It is known for its data structures and data analysis tools.\n",
    "\n",
    "``` Use Cases ``` :\n",
    "1. Data Cleaning\n",
    "2. Data Analysis\n",
    "3. Data Transformation\n",
    "4. Data Visualization (Basic level)\n",
    "5. Data Aggregation\n",
    "6. File Handling\n",
    "7. Data Filtering and Selection\n",
    "8. Time Series Analysis"
   ]
  },
  {
   "cell_type": "markdown",
   "id": "ae4d360a",
   "metadata": {},
   "source": [
    "``` Series ```:\n",
    "A series is a one dimensional labeled array that can hold any data type (integer, string, float, python objects, etc.). The axis labels are collectively called the index.\n"
   ]
  },
  {
   "cell_type": "code",
   "execution_count": 9,
   "id": "cd8d9e5e",
   "metadata": {},
   "outputs": [],
   "source": [
    "## multiple ways to create a Series.\n",
    "import numpy as np\n",
    "import pandas as pd\n"
   ]
  },
  {
   "cell_type": "code",
   "execution_count": 10,
   "metadata": {},
   "outputs": [],
   "source": [
    "labels = ['a','b','c','d']\n",
    "my_list = [10,20,30,40]\n",
    "arr = np.array([10,20,30,40])\n",
    "d = {'d':10,'b':20,'e':30,'d':40}"
   ]
  },
  {
   "cell_type": "code",
   "execution_count": 11,
   "id": "2cb87e66",
   "metadata": {},
   "outputs": [
    {
     "data": {
      "text/plain": [
       "0    10\n",
       "1    20\n",
       "2    30\n",
       "3    40\n",
       "dtype: int64"
      ]
     },
     "execution_count": 11,
     "metadata": {},
     "output_type": "execute_result"
    }
   ],
   "source": [
    "pd.Series(my_list)"
   ]
  },
  {
   "cell_type": "code",
   "execution_count": 12,
   "id": "46074d1c",
   "metadata": {},
   "outputs": [
    {
     "data": {
      "text/plain": [
       "a    10\n",
       "b    20\n",
       "c    30\n",
       "d    40\n",
       "dtype: int64"
      ]
     },
     "execution_count": 12,
     "metadata": {},
     "output_type": "execute_result"
    }
   ],
   "source": [
    "pd.Series(data=my_list,index=labels)"
   ]
  },
  {
   "cell_type": "code",
   "execution_count": 13,
   "id": "d96836fe",
   "metadata": {},
   "outputs": [
    {
     "data": {
      "text/plain": [
       "0    10\n",
       "1    20\n",
       "2    30\n",
       "3    40\n",
       "dtype: int32"
      ]
     },
     "execution_count": 13,
     "metadata": {},
     "output_type": "execute_result"
    }
   ],
   "source": [
    "pd.Series(arr)"
   ]
  },
  {
   "cell_type": "code",
   "execution_count": 14,
   "metadata": {},
   "outputs": [
    {
     "data": {
      "text/plain": [
       "d    40\n",
       "b    20\n",
       "e    30\n",
       "dtype: int64"
      ]
     },
     "execution_count": 14,
     "metadata": {},
     "output_type": "execute_result"
    }
   ],
   "source": [
    "pd.Series(d)"
   ]
  },
  {
   "cell_type": "markdown",
   "id": "23392a5b",
   "metadata": {},
   "source": []
  }
 ],
 "metadata": {
  "kernelspec": {
   "display_name": "Python 3",
   "language": "python",
   "name": "python3"
  },
  "language_info": {
   "codemirror_mode": {
    "name": "ipython",
    "version": 3
   },
   "file_extension": ".py",
   "mimetype": "text/x-python",
   "name": "python",
   "nbconvert_exporter": "python",
   "pygments_lexer": "ipython3",
   "version": "3.11.9"
  }
 },
 "nbformat": 4,
 "nbformat_minor": 5
}
