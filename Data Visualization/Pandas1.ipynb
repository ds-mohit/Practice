{
 "cells": [
  {
   "cell_type": "markdown",
   "id": "189cd808",
   "metadata": {},
   "source": [
    "``` Origin story of Pandas ``` :\n",
    "1. in 2008 , the pandas development team was created by Wes McKinney and the other members of the Data Wrangling for Python (PyData) community.\n",
    "2. The first version of pandas was released in 2009."
   ]
  },
  {
   "cell_type": "markdown",
   "id": "9acdedba",
   "metadata": {},
   "source": [
    "``` Pandas ``` : \n",
    "pandas is a Python library that is used for analyzing and manipulating data. It is known for its data structures and data analysis tools.\n",
    "\n",
    "``` Use Cases ``` :\n",
    "1. Data Cleaning\n",
    "2. Data Analysis\n",
    "3. Data Transformation\n",
    "4. Data Visualization (Basic level)\n",
    "5. Data Aggregation\n",
    "6. File Handling\n",
    "7. Data Filtering and Selection\n",
    "8. Time Series Analysis"
   ]
  },
  {
   "cell_type": "markdown",
   "id": "ae4d360a",
   "metadata": {},
   "source": [
    "``` Series ```:\n",
    "A series is a one dimensional labeled array that can hold any data type (integer, string, float, python objects, etc.). The axis labels are collectively called the index.\n"
   ]
  },
  {
   "cell_type": "code",
   "execution_count": 1,
   "id": "cd8d9e5e",
   "metadata": {},
   "outputs": [
    {
     "name": "stdout",
     "output_type": "stream",
     "text": [
      "0    1\n",
      "1    2\n",
      "2    3\n",
      "3    4\n",
      "4    5\n",
      "dtype: int64\n"
     ]
    }
   ],
   "source": [
    "## multiple ways to create a Series.\n",
    "\n",
    "import pandas as pd\n",
    "\n",
    "a = pd.Series([1,2,3,4,5])\n",
    "print(a)"
   ]
  },
  {
   "cell_type": "code",
   "execution_count": null,
   "metadata": {},
   "outputs": [],
   "source": []
  },
  {
   "cell_type": "code",
   "execution_count": null,
   "id": "2cb87e66",
   "metadata": {},
   "outputs": [],
   "source": []
  },
  {
   "cell_type": "code",
   "execution_count": null,
   "id": "46074d1c",
   "metadata": {},
   "outputs": [],
   "source": []
  },
  {
   "cell_type": "code",
   "execution_count": null,
   "id": "d96836fe",
   "metadata": {},
   "outputs": [],
   "source": []
  },
  {
   "cell_type": "code",
   "execution_count": null,
   "metadata": {},
   "outputs": [],
   "source": []
  },
  {
   "cell_type": "markdown",
   "id": "23392a5b",
   "metadata": {},
   "source": []
  }
 ],
 "metadata": {
  "kernelspec": {
   "display_name": "Python 3",
   "language": "python",
   "name": "python3"
  },
  "language_info": {
   "codemirror_mode": {
    "name": "ipython",
    "version": 3
   },
   "file_extension": ".py",
   "mimetype": "text/x-python",
   "name": "python",
   "nbconvert_exporter": "python",
   "pygments_lexer": "ipython3",
   "version": "3.11.9"
  }
 },
 "nbformat": 4,
 "nbformat_minor": 5
}
