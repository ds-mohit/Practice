{
 "cells": [
  {
   "cell_type": "markdown",
   "id": "cf695be4",
   "metadata": {},
   "source": [
    "``` Distribution plot```:\n",
    "we use distribution plot to visualize the distribution of a dataset.These plots are :\n",
    "1. distplot/histplot\n",
    "2. jointplot\n",
    "3. pairplot\n",
    "4. rugplot"
   ]
  },
  {
   "cell_type": "markdown",
   "id": "ab8d2184",
   "metadata": {},
   "source": []
  }
 ],
 "metadata": {
  "language_info": {
   "name": "python"
  }
 },
 "nbformat": 4,
 "nbformat_minor": 5
}
