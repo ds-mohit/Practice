{
 "cells": [
  {
   "cell_type": "markdown",
   "id": "c2cd4b69",
   "metadata": {},
   "source": [
    "``` Matplotlib ```: \n",
    "Matplotlib is a python library for creating static, animated and interactive visualizations in Python."
   ]
  },
  {
   "cell_type": "markdown",
   "id": "1fbdc714",
   "metadata": {},
   "source": []
  }
 ],
 "metadata": {
  "language_info": {
   "name": "python"
  }
 },
 "nbformat": 4,
 "nbformat_minor": 5
}
