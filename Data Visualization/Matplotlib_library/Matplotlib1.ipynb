{
 "cells": [
  {
   "cell_type": "markdown",
   "id": "c2cd4b69",
   "metadata": {},
   "source": [
    "``` Matplotlib ```: \n",
    "Matplotlib is a python library for creating static, animated and interactive visualizations in Python."
   ]
  },
  {
   "cell_type": "code",
   "execution_count": 1,
   "id": "bcc38f8e",
   "metadata": {},
   "outputs": [],
   "source": [
    "import numpy as np\n",
    "import pandas as pd\n",
    "import matplotlib.pyplot as plt"
   ]
  },
  {
   "cell_type": "markdown",
   "id": "1fbdc714",
   "metadata": {},
   "source": []
  }
 ],
 "metadata": {
  "kernelspec": {
   "display_name": "Python 3",
   "language": "python",
   "name": "python3"
  },
  "language_info": {
   "codemirror_mode": {
    "name": "ipython",
    "version": 3
   },
   "file_extension": ".py",
   "mimetype": "text/x-python",
   "name": "python",
   "nbconvert_exporter": "python",
   "pygments_lexer": "ipython3",
   "version": "3.11.9"
  }
 },
 "nbformat": 4,
 "nbformat_minor": 5
}
