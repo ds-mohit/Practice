{
 "cells": [
  {
   "cell_type": "markdown",
   "id": "af4991e3",
   "metadata": {},
   "source": [
    "### ``` Numpy ``` :\n",
    " Brief :\n",
    " 1. In 1995 jim Hugunin created Numeric library for array but it's not that powerful. \n",
    " 2. In early 2000's Space Telescope Science Institute (STScI) created Numarray but still not compatible .\n",
    "\n",
    "3. In 2005 , Numpy was created by Travis Oliphant . Numpy is a library for array manipulation and data analysis .\n"
   ]
  },
  {
   "cell_type": "markdown",
   "id": "3db96089",
   "metadata": {},
   "source": []
  }
 ],
 "metadata": {
  "language_info": {
   "name": "python"
  }
 },
 "nbformat": 4,
 "nbformat_minor": 5
}
