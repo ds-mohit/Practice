{
 "cells": [
  {
   "cell_type": "markdown",
   "id": "af4991e3",
   "metadata": {},
   "source": [
    "### ``` Numpy ``` :\n",
    " It is a third party library which is used to perform various "
   ]
  },
  {
   "cell_type": "markdown",
   "id": "3db96089",
   "metadata": {},
   "source": []
  }
 ],
 "metadata": {
  "language_info": {
   "name": "python"
  }
 },
 "nbformat": 4,
 "nbformat_minor": 5
}
