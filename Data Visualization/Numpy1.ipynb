{
 "cells": [
  {
   "cell_type": "markdown",
   "id": "af4991e3",
   "metadata": {},
   "source": [
    "### ``` Numpy ``` :\n",
    " Brief :\n",
    " 1. In 1995 jim Hugunin created Numeric library for array but it's not that powerful. \n",
    " 2. In early 2000's Space Telescope Science Institute (STScI) created Numarray but still not compatible .\n",
    "\n",
    "3. In 2005 , Numpy was created by Travis Oliphant . Numpy is a library for array manipulation and data analysis .\n"
   ]
  },
  {
   "cell_type": "markdown",
   "id": "3db96089",
   "metadata": {},
   "source": [
    "Numpy is written in c which are compiled and superfast. "
   ]
  },
  {
   "cell_type": "markdown",
   "id": "3f1d9081",
   "metadata": {},
   "source": [
    "### ``` Numpy Arrays ``` :\n",
    "\n",
    "1. Numpy arrays are used to store same data type only.\n",
    "2. performance is much faster\n",
    "3. Memory efficiency is much higher.\n",
    "4. Vector operations are easy and fast."
   ]
  },
  {
   "cell_type": "code",
   "execution_count": null,
   "id": "5232a727",
   "metadata": {},
   "outputs": [],
   "source": [
    "import numpy as np"
   ]
  },
  {
   "cell_type": "code",
   "execution_count": null,
   "id": "ce7f6a2c",
   "metadata": {},
   "outputs": [],
   "source": []
  }
 ],
 "metadata": {
  "kernelspec": {
   "display_name": "Python 3",
   "language": "python",
   "name": "python3"
  },
  "language_info": {
   "name": "python",
   "version": "3.11.9"
  }
 },
 "nbformat": 4,
 "nbformat_minor": 5
}
