{
 "cells": [
  {
   "cell_type": "markdown",
   "id": "0e825152",
   "metadata": {},
   "source": [
    "``` Machine Learning ```:\n",
    "It is defined as the ability of a computer system to learn from data and make predictions or decisions based on that data."
   ]
  },
  {
   "cell_type": "markdown",
   "id": "a5288931",
   "metadata": {},
   "source": [
    "``` Use Cases of Machine Learning ```:\n",
    "1. Recommendation systems\n",
    "2. Spam Detection\n",
    "3. Voice Assistant\n",
    "4. Self Driving Cars\n",
    "5. Medical Diagnosis"
   ]
  },
  {
   "cell_type": "markdown",
   "id": "64137921",
   "metadata": {},
   "source": [
    "```Difference between Machine Learning and Traditional Learning ```:\n",
    "\n",
    "Traditional Learning :\n",
    "1. Gives rules + data ---> Get result\n",
    "2. Manual logic writing\n",
    "\n",
    "Machine Learning :\n",
    "1. Give data + result ---> Get rules(model)\n",
    "2. Learns pattern automatically"
   ]
  },
  {
   "cell_type": "markdown",
   "id": "edcd5ffd",
   "metadata": {},
   "source": [
    "``` Difference between Ai , Ml ,Dl ```:\n",
    "\n",
    "1. AI : Artificial Intelligence\n",
    "\n",
    "Ai is the big umbrella - it's the science of making machines smart , just like humans.\n",
    "\n",
    "Examples --> Playing chess like a human\n",
    "\n",
    "--> Talking to Alexa (Ai)\n",
    "\n",
    "--> Driving a car on its own (Ai)\n",
    "\n",
    "2. ML : Machine Learning\n",
    "\n",
    "Ml is a subset of Ai -- This is where machines learn from data and improve over time.\n",
    "\n",
    "Examples --> Youtube recommendations videos\n",
    "\n",
    "--> Spam detection\n",
    "\n",
    "3. DL : Deep Learning\n",
    "\n",
    "It is a subset of Machine learning  -- It uses something called neutral networks , which are inspired by the human brain.\n",
    "\n",
    "Examples --> Face detection , Image classification , Speech recognition"
   ]
  },
  {
   "cell_type": "markdown",
   "id": "585de1df",
   "metadata": {},
   "source": [
    "``` Types of Machine Learning ```:\n",
    "\n",
    "1. Supervised Learning\n",
    "2. Unsupervised Learning\n",
    "3. Reinforcement Learning"
   ]
  },
  {
   "cell_type": "markdown",
   "id": "8867ea24",
   "metadata": {},
   "source": [
    "```Steps for making a machine Learning model ```:\n",
    "\n",
    "1. \n"
   ]
  }
 ],
 "metadata": {
  "language_info": {
   "name": "python"
  }
 },
 "nbformat": 4,
 "nbformat_minor": 5
}
