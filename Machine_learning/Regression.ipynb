{
 "cells": [
  {
   "cell_type": "markdown",
   "id": "0e825152",
   "metadata": {},
   "source": [
    "``` Machine Learning ```:\n",
    "It is defined as the ability of a computer system to learn from data and make predictions or decisions based on that data."
   ]
  },
  {
   "cell_type": "markdown",
   "id": "a5288931",
   "metadata": {},
   "source": []
  }
 ],
 "metadata": {
  "language_info": {
   "name": "python"
  }
 },
 "nbformat": 4,
 "nbformat_minor": 5
}
