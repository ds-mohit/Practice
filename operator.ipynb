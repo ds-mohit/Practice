{
 "cells": [
  {
   "cell_type": "markdown",
   "id": "bda47c01",
   "metadata": {},
   "source": [
    "## Operators"
   ]
  },
  {
   "cell_type": "markdown",
   "id": "14e9dd66",
   "metadata": {},
   "source": [
    "## 1. Arithmetic Operators"
   ]
  },
  {
   "cell_type": "code",
   "execution_count": 4,
   "id": "438d9253",
   "metadata": {},
   "outputs": [],
   "source": [
    "## are--> + , - , * , / , % , // , ** \n"
   ]
  },
  {
   "cell_type": "code",
   "execution_count": null,
   "id": "0fab5b43",
   "metadata": {},
   "outputs": [
    {
     "name": "stdout",
     "output_type": "stream",
     "text": [
      "16\n",
      "8\n",
      "48\n",
      "3.0\n",
      "0\n",
      "3\n",
      "20736\n"
     ]
    }
   ],
   "source": [
    "a = 12 \n",
    "b = 4\n",
    "\n",
    "print(a+b)\n",
    "print(a-b)\n",
    "print(a*b)\n",
    "print(a/b) # this will provide quotient\n",
    "print(a%b) # this will provide remainder\n",
    "print(a//b) # this will provide quotient but it will provide floor value\n",
    "print(a**b)"
   ]
  },
  {
   "cell_type": "code",
   "execution_count": 8,
   "id": "b2840777",
   "metadata": {},
   "outputs": [],
   "source": [
    "## assignment --> = , += , -= , *= , /= , %= , //= , **= , &=\n",
    "## these are used to assign values"
   ]
  },
  {
   "cell_type": "code",
   "execution_count": 9,
   "id": "dde5ea72",
   "metadata": {},
   "outputs": [
    {
     "name": "stdout",
     "output_type": "stream",
     "text": [
      "17\n",
      "12\n",
      "60\n",
      "12.0\n",
      "15\n",
      "3\n",
      "243\n",
      "1\n"
     ]
    }
   ],
   "source": [
    "a = 12\n",
    "## compund assignment operations\n",
    "a += 5\n",
    "print(a)\n",
    "a -= 5\n",
    "print(a)\n",
    "a *= 5\n",
    "print(a)\n",
    "a /= 5\n",
    "print(a)\n",
    "a %= 5\n",
    "\n",
    "a=15\n",
    "print(a)\n",
    "a //= 5\n",
    "print(a)\n",
    "a **= 5\n",
    "print(a)\n",
    "a &= 5\n",
    "print(a)"
   ]
  },
  {
   "cell_type": "code",
   "execution_count": 10,
   "id": "eeb44ad4",
   "metadata": {},
   "outputs": [],
   "source": [
    "## Comparison Operators --> == , != , > , < , >= , <=\n",
    "## these are used to compare values"
   ]
  },
  {
   "cell_type": "code",
   "execution_count": null,
   "id": "f4202979",
   "metadata": {},
   "outputs": [
    {
     "name": "stdout",
     "output_type": "stream",
     "text": [
      "True\n",
      "False\n",
      "False\n",
      "False\n",
      "True\n",
      "True\n"
     ]
    }
   ],
   "source": [
    "a = 20\n",
    "b = 20\n",
    "print(a==b)\n",
    "print(a!=b)\n",
    "print(a>b)\n",
    "print(a<b)\n",
    "print(a>=b)\n",
    "print(a<=b)"
   ]
  },
  {
   "cell_type": "code",
   "execution_count": null,
   "id": "f9ded414",
   "metadata": {},
   "outputs": [],
   "source": []
  }
 ],
 "metadata": {
  "kernelspec": {
   "display_name": "Python 3",
   "language": "python",
   "name": "python3"
  },
  "language_info": {
   "codemirror_mode": {
    "name": "ipython",
    "version": 3
   },
   "file_extension": ".py",
   "mimetype": "text/x-python",
   "name": "python",
   "nbconvert_exporter": "python",
   "pygments_lexer": "ipython3",
   "version": "3.11.9"
  }
 },
 "nbformat": 4,
 "nbformat_minor": 5
}
