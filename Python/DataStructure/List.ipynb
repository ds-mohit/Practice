{
 "cells": [
  {
   "cell_type": "markdown",
   "id": "8ae7a3a3",
   "metadata": {},
   "source": [
    "## List are Ordered, Mutable, Allow Duplicates , Heterogeneous"
   ]
  },
  {
   "cell_type": "code",
   "execution_count": 3,
   "id": "72247e83",
   "metadata": {},
   "outputs": [
    {
     "name": "stdout",
     "output_type": "stream",
     "text": [
      "[12, 13, 14, 5, 6, 3.5, 'hello']\n"
     ]
    }
   ],
   "source": [
    "lst1 = [12,13,14,5,6,3.5,\"hello\"]\n",
    "print(lst1)"
   ]
  },
  {
   "cell_type": "code",
   "execution_count": 4,
   "id": "8c332487",
   "metadata": {},
   "outputs": [
    {
     "name": "stdout",
     "output_type": "stream",
     "text": [
      "1\n",
      "89\n",
      "[2, 3, 4, 5]\n",
      "[1, 2, 3]\n",
      "[4, 5, 6, 7, 89]\n",
      "[1, 2, 3, 4, 5, 6, 7, 89]\n",
      "[2, 4]\n",
      "[89, 7, 6, 5, 4, 3, 2, 1]\n"
     ]
    }
   ],
   "source": [
    "lst2=[1,2,3,4,5,6,7,89,]\n",
    "print(lst2[0]) ## indexing and printing\n",
    "print(lst2[-1]) ## negative indexing\n",
    "\n",
    "## slicing\n",
    "print(lst2[1:5])\n",
    "print(lst2[:3])\n",
    "print(lst2[3:])\n",
    "print(lst2[:])\n",
    "print(lst2[1:5:2]) ## starting point : ending point : steps\n",
    "print(lst2[::-1]) ## reverse the list\n"
   ]
  },
  {
   "cell_type": "code",
   "execution_count": 5,
   "id": "399ed5c0",
   "metadata": {},
   "outputs": [
    {
     "name": "stdout",
     "output_type": "stream",
     "text": [
      "[25, 35, 45, 50, 65, 75]\n"
     ]
    }
   ],
   "source": [
    "## to change values\n",
    "lst3= [25,35,45,55,65,75,]\n",
    "lst3[3]=50\n",
    "print(lst3)"
   ]
  },
  {
   "cell_type": "code",
   "execution_count": 8,
   "id": "e855d2ab",
   "metadata": {},
   "outputs": [
    {
     "name": "stdout",
     "output_type": "stream",
     "text": [
      "man\n",
      "woman\n",
      "child\n",
      "student\n",
      "teacher\n",
      "man\n",
      "woman\n",
      "child\n",
      "student\n",
      "teacher\n"
     ]
    }
   ],
   "source": [
    "## using for loop for traversing\n",
    "## 1. using index\n",
    "lst4=[\"man\",\"woman\",\"child\",\"student\",\"teacher\"]\n",
    "for i in range(len(lst4)):\n",
    "    print(lst4[i])\n",
    "\n",
    "## 2. using direct on values\n",
    "for i in lst4:\n",
    "    print(i)"
   ]
  },
  {
   "cell_type": "code",
   "execution_count": 11,
   "id": "af26f5ee",
   "metadata": {},
   "outputs": [
    {
     "name": "stdout",
     "output_type": "stream",
     "text": [
      "[1, 2, 3, 4, 5, 6]\n",
      "['mango', 'apple', 'banana', 'grapes']\n"
     ]
    }
   ],
   "source": [
    "## Lists Methods\n",
    "## 1. append\n",
    "lst5=[1,2,3,4,5]\n",
    "lst5.append(6)\n",
    "print(lst5)\n",
    "\n",
    "lst5=[\"mango\",\"apple\",\"banana\"]\n",
    "lst5.append(\"grapes\")\n",
    "print(lst5)"
   ]
  },
  {
   "cell_type": "code",
   "execution_count": 10,
   "id": "f4546170",
   "metadata": {},
   "outputs": [
    {
     "name": "stdout",
     "output_type": "stream",
     "text": [
      "[1, 2, 6, 3, 4, 5]\n"
     ]
    }
   ],
   "source": [
    "## 2. insert\n",
    "lst6=[1,2,3,4,5]\n",
    "lst6.insert(2,6)\n",
    "print(lst6)"
   ]
  },
  {
   "cell_type": "code",
   "execution_count": 12,
   "id": "04192057",
   "metadata": {},
   "outputs": [
    {
     "name": "stdout",
     "output_type": "stream",
     "text": [
      "[1, 2, 3, 4, 5, 6, 7, 8, 9, 10]\n"
     ]
    }
   ],
   "source": [
    "## 3. extend\n",
    "lst7=[1,2,3,4,5]\n",
    "lst8=[6,7,8,9,10]\n",
    "lst7.extend(lst8)\n",
    "print(lst7)"
   ]
  },
  {
   "cell_type": "code",
   "execution_count": null,
   "id": "cd7bcd7c",
   "metadata": {},
   "outputs": [
    {
     "name": "stdout",
     "output_type": "stream",
     "text": [
      "[1, 2, 4, 5]\n",
      "[1, 2, 4]\n",
      "[2, 4]\n",
      "[]\n"
     ]
    }
   ],
   "source": [
    "## 4. pop\n",
    "lst9=[1,2,3,4,5]\n",
    "lst9.pop(2)\n",
    "print(lst9)\n",
    "lst9.pop()## in this case it will remove the last element\n",
    "print(lst9)\n",
    "lst9.pop(0)\n",
    "print(lst9)\n",
    "lst9.clear()\n",
    "print(lst9)"
   ]
  },
  {
   "cell_type": "code",
   "execution_count": 14,
   "id": "fc975787",
   "metadata": {},
   "outputs": [
    {
     "name": "stdout",
     "output_type": "stream",
     "text": [
      "[1, 2, 3, 5]\n"
     ]
    }
   ],
   "source": [
    "## 5. remove\n",
    "lst10=[1,2,3,4,5]\n",
    "lst10.remove(4)\n",
    "print(lst10)\n",
    "## if the element is not present in the list then it will throw error"
   ]
  },
  {
   "cell_type": "code",
   "execution_count": 35,
   "id": "a1683a88",
   "metadata": {},
   "outputs": [
    {
     "name": "stdout",
     "output_type": "stream",
     "text": [
      "[1, 2, 3, 4, 5]\n",
      "[5, 4, 3, 2, 1]\n"
     ]
    }
   ],
   "source": [
    "## 6. sort\n",
    "lst11=[1,2,3,4,5]\n",
    "lst11.sort()\n",
    "print(lst11)\n",
    "lst11.sort(reverse=True)\n",
    "print(lst11)\n"
   ]
  },
  {
   "cell_type": "code",
   "execution_count": 36,
   "id": "a1f3806b",
   "metadata": {},
   "outputs": [
    {
     "name": "stdout",
     "output_type": "stream",
     "text": [
      "[5, 4, 3, 2, 1]\n"
     ]
    }
   ],
   "source": [
    "## 7. reverse\n",
    "lst12=[1,2,3,4,5]\n",
    "lst12.reverse()\n",
    "print(lst12)"
   ]
  },
  {
   "cell_type": "code",
   "execution_count": 37,
   "id": "689d1097",
   "metadata": {},
   "outputs": [
    {
     "name": "stdout",
     "output_type": "stream",
     "text": [
      "[1, 2, 3, 4, 5]\n",
      "[-1, -2, -3, -4, -5]\n"
     ]
    }
   ],
   "source": [
    "## som questions on list are -->\n",
    "## print positive and negative elements of an list\n",
    "\n",
    "elements=[1,2,3,4,5,-1,-2,-3,-4,-5]\n",
    "pos=[]\n",
    "neg=[]\n",
    "for i in elements:\n",
    "    if i>0:\n",
    "        pos.append(i)\n",
    "    else:\n",
    "        neg.append(i)\n",
    "print(pos)\n",
    "print(neg)"
   ]
  },
  {
   "cell_type": "code",
   "execution_count": 41,
   "id": "ef3d55e0",
   "metadata": {},
   "outputs": [
    {
     "name": "stdout",
     "output_type": "stream",
     "text": [
      "3.0\n"
     ]
    }
   ],
   "source": [
    "## mean of an list\n",
    "\n",
    "elements=[1,2,3,4,5]\n",
    "sum=0\n",
    "for i in elements:\n",
    "    sum+=i\n",
    "print(sum/len(elements))"
   ]
  },
  {
   "cell_type": "code",
   "execution_count": 44,
   "id": "381a8d22",
   "metadata": {},
   "outputs": [
    {
     "name": "stdout",
     "output_type": "stream",
     "text": [
      "Your largest number is 65 and its index is 3\n"
     ]
    }
   ],
   "source": [
    "## Find the greatest element and print its index\n",
    "elements=[25,35,15,65,45]\n",
    "big=elements[0]\n",
    "index=0\n",
    "for i in range(len(elements)):\n",
    "    if elements[i]>big:\n",
    "        big=elements[i]\n",
    "        index=i\n",
    "print(f\"Your largest number is {big} and its index is {index}\")"
   ]
  },
  {
   "cell_type": "code",
   "execution_count": 50,
   "id": "cb1cfc73",
   "metadata": {},
   "outputs": [
    {
     "name": "stdout",
     "output_type": "stream",
     "text": [
      "99 65\n"
     ]
    }
   ],
   "source": [
    "## Find the second greatest element\n",
    "l=[20,30,40,60,99,44,65]\n",
    "largest=l[0]\n",
    "sec_largest=l[0]\n",
    "for i in l:\n",
    "    if i > largest:\n",
    "        sec_largest=largest\n",
    "        largest=i\n",
    "    elif i>sec_largest:\n",
    "        sec_largest=i\n",
    "print(largest,sec_largest)"
   ]
  },
  {
   "cell_type": "code",
   "execution_count": 52,
   "id": "e255c2ff",
   "metadata": {},
   "outputs": [
    {
     "name": "stdout",
     "output_type": "stream",
     "text": [
      "List is not sorted\n"
     ]
    }
   ],
   "source": [
    "## check if list is sorted or not\n",
    "lst=[2,3,56,1,2,36]\n",
    "for i in range(len(lst)-1):\n",
    "    if lst[i]>lst[i+1]:\n",
    "        continue\n",
    "    else:\n",
    "        print(\"List is not sorted\")\n",
    "        break\n",
    "else:\n",
    "    print(\"List is sorted\")"
   ]
  },
  {
   "cell_type": "code",
   "execution_count": null,
   "id": "0dfc85ca",
   "metadata": {},
   "outputs": [],
   "source": []
  },
  {
   "cell_type": "code",
   "execution_count": null,
   "metadata": {},
   "outputs": [],
   "source": []
  },
  {
   "cell_type": "code",
   "execution_count": null,
   "id": "7eda224e",
   "metadata": {},
   "outputs": [],
   "source": []
  },
  {
   "cell_type": "code",
   "execution_count": null,
   "id": "4e5b8df2",
   "metadata": {},
   "outputs": [],
   "source": []
  }
 ],
 "metadata": {
  "kernelspec": {
   "display_name": "Python 3",
   "language": "python",
   "name": "python3"
  },
  "language_info": {
   "codemirror_mode": {
    "name": "ipython",
    "version": 3
   },
   "file_extension": ".py",
   "mimetype": "text/x-python",
   "name": "python",
   "nbconvert_exporter": "python",
   "pygments_lexer": "ipython3",
   "version": "3.11.9"
  }
 },
 "nbformat": 4,
 "nbformat_minor": 5
}
