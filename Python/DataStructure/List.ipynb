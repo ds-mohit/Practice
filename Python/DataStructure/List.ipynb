{
 "cells": [
  {
   "cell_type": "markdown",
   "id": "8ae7a3a3",
   "metadata": {},
   "source": [
    "## List are Ordered, Mutable, Allow Duplicates , Heterogeneous"
   ]
  },
  {
   "cell_type": "code",
   "execution_count": 2,
   "id": "72247e83",
   "metadata": {},
   "outputs": [
    {
     "name": "stdout",
     "output_type": "stream",
     "text": [
      "[12, 13, 14, 5, 6]\n"
     ]
    }
   ],
   "source": [
    "lst1 = [12,13,14,5,6]\n",
    "print(lst1)"
   ]
  },
  {
   "cell_type": "code",
   "execution_count": null,
   "id": "8c332487",
   "metadata": {},
   "outputs": [],
   "source": []
  }
 ],
 "metadata": {
  "kernelspec": {
   "display_name": "Python 3",
   "language": "python",
   "name": "python3"
  },
  "language_info": {
   "codemirror_mode": {
    "name": "ipython",
    "version": 3
   },
   "file_extension": ".py",
   "mimetype": "text/x-python",
   "name": "python",
   "nbconvert_exporter": "python",
   "pygments_lexer": "ipython3",
   "version": "3.11.9"
  }
 },
 "nbformat": 4,
 "nbformat_minor": 5
}
