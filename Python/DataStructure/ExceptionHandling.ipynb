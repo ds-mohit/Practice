{
 "cells": [
  {
   "cell_type": "markdown",
   "id": "9af9b624",
   "metadata": {},
   "source": [
    "#### Error occur due to mistakes in code that prevent it from running. These can be syntax errors or logical errors. --> syntax , indendation and tab"
   ]
  },
  {
   "cell_type": "markdown",
   "id": "0d088cdc",
   "metadata": {},
   "source": [
    "### Now comes exception handling"
   ]
  },
  {
   "cell_type": "markdown",
   "id": "cae03da5",
   "metadata": {},
   "source": []
  },
  {
   "cell_type": "code",
   "execution_count": null,
   "id": "ec7af1fa",
   "metadata": {},
   "outputs": [],
   "source": []
  },
  {
   "cell_type": "code",
   "execution_count": null,
   "id": "12fcf17f",
   "metadata": {},
   "outputs": [],
   "source": []
  },
  {
   "cell_type": "markdown",
   "id": "57a3abb1",
   "metadata": {},
   "source": []
  }
 ],
 "metadata": {
  "language_info": {
   "name": "python"
  }
 },
 "nbformat": 4,
 "nbformat_minor": 5
}
