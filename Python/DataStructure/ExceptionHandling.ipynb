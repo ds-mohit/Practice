{
 "cells": [
  {
   "cell_type": "markdown",
   "id": "9af9b624",
   "metadata": {},
   "source": [
    "#### Error occur due to mistakes in code that prevent it from running. These can be syntax errors or logical errors. --> syntax , indendation and tab"
   ]
  },
  {
   "cell_type": "markdown",
   "id": "0d088cdc",
   "metadata": {},
   "source": [
    "### Now comes exception handling"
   ]
  },
  {
   "cell_type": "markdown",
   "id": "cae03da5",
   "metadata": {},
   "source": [
    "### Exception are unexcepted events or errors that occurs during the execution of a program. They can be handled by the program to prevent it from crashing."
   ]
  },
  {
   "cell_type": "code",
   "execution_count": null,
   "id": "ec7af1fa",
   "metadata": {},
   "outputs": [
    {
     "ename": "ZeroDivisionError",
     "evalue": "division by zero",
     "output_type": "error",
     "traceback": [
      "\u001b[31m---------------------------------------------------------------------------\u001b[39m",
      "\u001b[31mZeroDivisionError\u001b[39m                         Traceback (most recent call last)",
      "\u001b[36mCell\u001b[39m\u001b[36m \u001b[39m\u001b[32mIn[1]\u001b[39m\u001b[32m, line 3\u001b[39m\n\u001b[32m      1\u001b[39m \u001b[38;5;66;03m## zero devision error\u001b[39;00m\n\u001b[32m      2\u001b[39m i= \u001b[38;5;28mint\u001b[39m(\u001b[38;5;28minput\u001b[39m(\u001b[33m\"\u001b[39m\u001b[33menter a no.\u001b[39m\u001b[33m\"\u001b[39m))\n\u001b[32m----> \u001b[39m\u001b[32m3\u001b[39m \u001b[38;5;28mprint\u001b[39m(\u001b[32;43m10\u001b[39;49m\u001b[43m/\u001b[49m\u001b[43mi\u001b[49m)\n",
      "\u001b[31mZeroDivisionError\u001b[39m: division by zero"
     ]
    }
   ],
   "source": [
    "## zero devision error\n",
    "i= int(input(\"enter a no.\"))\n",
    "print(10/i) ## i=0"
   ]
  },
  {
   "cell_type": "code",
   "execution_count": 3,
   "id": "50f9e6ed",
   "metadata": {},
   "outputs": [],
   "source": [
    "## try --> wrap the block of code that might cause an exception\n",
    "\n",
    "## except --> handle the exception if it occurs\n",
    "\n",
    "## else --> Run code only if no exception occurs\n",
    "\n",
    "## finally --> Run code no matter if an exception occurs or not\n",
    "\n",
    "## raise --> Manually throw an exception"
   ]
  },
  {
   "cell_type": "code",
   "execution_count": 9,
   "id": "12fcf17f",
   "metadata": {},
   "outputs": [
    {
     "name": "stdout",
     "output_type": "stream",
     "text": [
      "Entered no is 0\n",
      "Sorry You can't divide by zero.\n"
     ]
    }
   ],
   "source": [
    "try : ## try always run with except or finally\n",
    "    i= int(input(\"enter a no.\"))\n",
    "    print(f\"Entered no is {i}\")\n",
    "    print(10/i)\n",
    "except Exception as ZeroDivisionError:\n",
    "    print(\"Sorry You can't divide by zero.\")"
   ]
  },
  {
   "cell_type": "code",
   "execution_count": null,
   "id": "b0fa3e73",
   "metadata": {},
   "outputs": [
    {
     "name": "stdout",
     "output_type": "stream",
     "text": [
      "Your error is division by zero\n"
     ]
    }
   ],
   "source": [
    "## if there are multiple errors that can occur and to find / catch them\n",
    "i= int(input(\"Enter a no.\"))\n",
    "try:\n",
    "    print(10/i)\n",
    "\n",
    "except Exception as err:\n",
    "    print(f\"Your error is {err}\")"
   ]
  },
  {
   "cell_type": "code",
   "execution_count": 12,
   "id": "a858d1ea",
   "metadata": {},
   "outputs": [
    {
     "name": "stdout",
     "output_type": "stream",
     "text": [
      "Your error is unsupported operand type(s) for /: 'int' and 'str'\n"
     ]
    }
   ],
   "source": [
    "## if there are multiple errors that can occur and to find / catch them\n",
    "i= input(\"Enter a no.\")\n",
    "try:\n",
    "    print(10/i)\n",
    "\n",
    "except Exception as err:\n",
    "    print(f\"Your error is {err}\")"
   ]
  },
  {
   "cell_type": "code",
   "execution_count": 15,
   "id": "fe0657fd",
   "metadata": {},
   "outputs": [
    {
     "name": "stdout",
     "output_type": "stream",
     "text": [
      "2.0\n",
      "No error\n"
     ]
    }
   ],
   "source": [
    "## else --> if exception run then else will not run\n",
    "i= int(input(\"Enter a no\"))\n",
    "try:\n",
    "    print(10/i)\n",
    "except Exception as err:\n",
    "    print(f\"Your error is {err}\")\n",
    "else:\n",
    "    print(\"No error\")"
   ]
  },
  {
   "cell_type": "code",
   "execution_count": 14,
   "id": "11e1d9a2",
   "metadata": {},
   "outputs": [
    {
     "name": "stdout",
     "output_type": "stream",
     "text": [
      "Your error is division by zero\n",
      "I will run no matter what\n"
     ]
    }
   ],
   "source": [
    "## finally\n",
    "i= int(input(\"Enter a no\"))\n",
    "try:\n",
    "    print(10/i)\n",
    "except Exception as err:\n",
    "    print(f\"Your error is {err}\")\n",
    "else:\n",
    "    print(\"No error\")\n",
    "finally:\n",
    "    print(\"I will run no matter what\")"
   ]
  },
  {
   "cell_type": "code",
   "execution_count": null,
   "id": "c948db9d",
   "metadata": {},
   "outputs": [],
   "source": [
    "##"
   ]
  }
 ],
 "metadata": {
  "kernelspec": {
   "display_name": "Python 3",
   "language": "python",
   "name": "python3"
  },
  "language_info": {
   "codemirror_mode": {
    "name": "ipython",
    "version": 3
   },
   "file_extension": ".py",
   "mimetype": "text/x-python",
   "name": "python",
   "nbconvert_exporter": "python",
   "pygments_lexer": "ipython3",
   "version": "3.11.9"
  }
 },
 "nbformat": 4,
 "nbformat_minor": 5
}
