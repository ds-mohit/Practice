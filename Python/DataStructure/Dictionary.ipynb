{
 "cells": [
  {
   "cell_type": "markdown",
   "id": "dc9da4fc",
   "metadata": {},
   "source": [
    "## Dictionary --> key value pair\n",
    "muttable , ordered(insertion method) , indexed , heterogeneous"
   ]
  },
  {
   "cell_type": "code",
   "execution_count": 1,
   "id": "38e4d020",
   "metadata": {},
   "outputs": [
    {
     "name": "stdout",
     "output_type": "stream",
     "text": [
      "{'name': 'Rohit', 'age': 20, 'marks': 90}\n"
     ]
    }
   ],
   "source": [
    "dict={\n",
    "    \"name\":\"Rohit\",\n",
    "    \"age\":20,\n",
    "    \"marks\":90\n",
    "}\n",
    "print(dict)"
   ]
  },
  {
   "cell_type": "code",
   "execution_count": 2,
   "id": "e175d824",
   "metadata": {},
   "outputs": [
    {
     "name": "stdout",
     "output_type": "stream",
     "text": [
      "Rohit\n"
     ]
    }
   ],
   "source": [
    "print(dict[\"name\"])"
   ]
  },
  {
   "cell_type": "code",
   "execution_count": 3,
   "id": "8387d55f",
   "metadata": {},
   "outputs": [
    {
     "name": "stdout",
     "output_type": "stream",
     "text": [
      "{'name': 'Rohit', 'age': 20, 'marks': 100}\n"
     ]
    }
   ],
   "source": [
    "dict[\"marks\"]=100\n",
    "print(dict)"
   ]
  },
  {
   "cell_type": "code",
   "execution_count": 5,
   "id": "6e8e0cb4",
   "metadata": {},
   "outputs": [
    {
     "name": "stdout",
     "output_type": "stream",
     "text": [
      "{'name': 'Rohit', 'age': 20, 'marks': 100, 'city': 'Delhi'}\n"
     ]
    }
   ],
   "source": [
    "dict[\"city\"]=\"Delhi\" ## creating new key value\n",
    "print(dict)"
   ]
  },
  {
   "cell_type": "code",
   "execution_count": 6,
   "id": "4ec3b587",
   "metadata": {},
   "outputs": [
    {
     "name": "stdout",
     "output_type": "stream",
     "text": [
      "{'name': 'Rohit', 'age': 20, 'marks': 100}\n"
     ]
    }
   ],
   "source": [
    "del(dict[\"city\"]) ## deleting key value\n",
    "print(dict)"
   ]
  },
  {
   "cell_type": "code",
   "execution_count": 8,
   "id": "8e9f6fbf",
   "metadata": {},
   "outputs": [
    {
     "name": "stdout",
     "output_type": "stream",
     "text": [
      "100\n",
      "10\n",
      "200\n",
      "20\n",
      "300\n",
      "30\n",
      "400\n",
      "40\n",
      "500\n",
      "50\n"
     ]
    }
   ],
   "source": [
    "## traversing\n",
    "d={10:100,20:200,30:300,40:400,50:500}\n",
    "for i in d:\n",
    "    print(d[i])\n",
    "    print(i)"
   ]
  },
  {
   "cell_type": "code",
   "execution_count": 9,
   "id": "e6880e76",
   "metadata": {},
   "outputs": [
    {
     "name": "stdout",
     "output_type": "stream",
     "text": [
      "100\n",
      "200\n",
      "300\n",
      "400\n",
      "500\n"
     ]
    }
   ],
   "source": [
    "for i in d.values():\n",
    "    print(i)"
   ]
  },
  {
   "cell_type": "code",
   "execution_count": 11,
   "id": "fbb963cd",
   "metadata": {},
   "outputs": [
    {
     "name": "stdout",
     "output_type": "stream",
     "text": [
      "dict_keys([10, 20, 30, 40, 50])\n",
      "dict_values([100, 200, 300, 400, 500])\n",
      "dict_items([(10, 100), (20, 200), (30, 300), (40, 400), (50, 500)])\n",
      "200\n",
      "100\n",
      "{20: 200, 30: 300, 40: 400, 50: 500}\n",
      "(50, 500)\n",
      "{20: 200, 30: 300, 40: 400}\n"
     ]
    }
   ],
   "source": [
    "## methods \n",
    "d={10:100,20:200,30:300,40:400,50:500}\n",
    "print(d.keys())\n",
    "print(d.values())\n",
    "print(d.items())\n",
    "print(d.get(20))\n",
    "print(d.pop(10))\n",
    "print(d)\n",
    "print(d.popitem())\n",
    "print(d)"
   ]
  },
  {
   "cell_type": "code",
   "execution_count": 14,
   "id": "ee7ea2af",
   "metadata": {},
   "outputs": [
    {
     "name": "stdout",
     "output_type": "stream",
     "text": [
      "{10: 1000, 20: 200, 30: 300, 40: 400, 50: 500}\n",
      "{10: 1000, 20: 200, 30: 300, 40: 400, 50: 500}\n",
      "{10: 100, 20: 200, 30: 300, 40: 400, 50: 500}\n",
      "{10: 100, 20: 200, 30: 300, 40: 400, 50: 500, 100: 1000}\n"
     ]
    }
   ],
   "source": [
    "d1={10:100,20:200,30:300,40:400,50:500}\n",
    "d2=d1 ## deep copy of d1 which means changes in d2 will replect on d1 also\n",
    "d2[10]=1000\n",
    "print(d1)\n",
    "print(d2)\n",
    "d1={10:100,20:200,30:300,40:400,50:500}\n",
    "d2=d1.copy() ## shallow copy of d1 which means changes in d2 will not reflect on d1\n",
    "d2[100]=1000\n",
    "print(d1)\n",
    "print(d2)"
   ]
  },
  {
   "cell_type": "code",
   "execution_count": 15,
   "id": "c5d3aab2",
   "metadata": {},
   "outputs": [
    {
     "name": "stdout",
     "output_type": "stream",
     "text": [
      "{10: 100, 20: 200, 30: 300, 40: 400, 50: 500}\n"
     ]
    }
   ],
   "source": [
    "d1={10:100 , 20:200 ,30:300}\n",
    "d2={40:400 , 50:500 }\n",
    "for i in d2:\n",
    "    d1[i]=d2[i]\n",
    "print(d1)"
   ]
  },
  {
   "cell_type": "code",
   "execution_count": 16,
   "id": "1d59a144",
   "metadata": {},
   "outputs": [
    {
     "name": "stdout",
     "output_type": "stream",
     "text": [
      "{10: 100, 20: 200, 30: 300, 40: 500, 50: 500, 60: 600}\n"
     ]
    }
   ],
   "source": [
    "d1={10:100 , 20:200 ,30:300 ,40:400}\n",
    "d2={40:500 , 50:500 , 60:600}\n",
    "for i in d2:\n",
    "    d1[i]=d2[i]\n",
    "print(d1)"
   ]
  },
  {
   "cell_type": "code",
   "execution_count": null,
   "id": "f094c2a2",
   "metadata": {},
   "outputs": [
    {
     "name": "stdout",
     "output_type": "stream",
     "text": [
      "1000\n"
     ]
    }
   ],
   "source": [
    "## sum of all values in dictionary\n",
    "d1={10:100 , 20:200 ,30:300 ,40:400}\n",
    "sum = 0\n",
    "for i in d1:\n",
    "    sum = sum + d1[i]\n",
    "print(sum)"
   ]
  },
  {
   "cell_type": "code",
   "execution_count": 21,
   "id": "75b123e6",
   "metadata": {},
   "outputs": [
    {
     "name": "stdout",
     "output_type": "stream",
     "text": [
      "{1: 4, 2: 4, 3: 4, 4: 2, 5: 2, 6: 2, 7: 2, 8: 2, 9: 2, 10: 2}\n"
     ]
    }
   ],
   "source": [
    "## count the frequency of each element in list\n",
    "l=[1,2,3,4,1,2,3,1,2,3,5,6,7,8,9,10,1,2,3,4,5,6,7,8,9,10]\n",
    "d={}\n",
    "for i in l:\n",
    "    if i in d:\n",
    "        d[i]+=1\n",
    "    else:\n",
    "        d[i]=1\n",
    "print(d)"
   ]
  },
  {
   "cell_type": "code",
   "execution_count": 22,
   "id": "33461a89",
   "metadata": {},
   "outputs": [
    {
     "name": "stdout",
     "output_type": "stream",
     "text": [
      "{10: 100, 20: 200, 30: 300, 40: 900, 50: 500, 60: 600}\n"
     ]
    }
   ],
   "source": [
    "## write a program to combine two dictionaries and add values of common keys\n",
    "d1={10:100 , 20:200 ,30:300 ,40:400}\n",
    "d2={40:500 , 50:500 , 60:600}\n",
    "for i in d2:\n",
    "    if i in d1:\n",
    "        d1[i]+=d2[i]\n",
    "    else:\n",
    "        d1[i]=d2[i]\n",
    "print(d1)"
   ]
  },
  {
   "cell_type": "code",
   "execution_count": null,
   "id": "64fcfcec",
   "metadata": {},
   "outputs": [],
   "source": []
  }
 ],
 "metadata": {
  "kernelspec": {
   "display_name": "Python 3",
   "language": "python",
   "name": "python3"
  },
  "language_info": {
   "codemirror_mode": {
    "name": "ipython",
    "version": 3
   },
   "file_extension": ".py",
   "mimetype": "text/x-python",
   "name": "python",
   "nbconvert_exporter": "python",
   "pygments_lexer": "ipython3",
   "version": "3.11.9"
  }
 },
 "nbformat": 4,
 "nbformat_minor": 5
}
