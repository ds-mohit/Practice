{
 "cells": [
  {
   "cell_type": "markdown",
   "id": "dc9da4fc",
   "metadata": {},
   "source": [
    "## Dictionary --> key value pair\n",
    "muttable , ordered(insertion method) , indexed , heterogeneous"
   ]
  },
  {
   "cell_type": "code",
   "execution_count": 1,
   "id": "38e4d020",
   "metadata": {},
   "outputs": [
    {
     "name": "stdout",
     "output_type": "stream",
     "text": [
      "{'name': 'Rohit', 'age': 20, 'marks': 90}\n"
     ]
    }
   ],
   "source": [
    "dict={\n",
    "    \"name\":\"Rohit\",\n",
    "    \"age\":20,\n",
    "    \"marks\":90\n",
    "}\n",
    "print(dict)"
   ]
  },
  {
   "cell_type": "code",
   "execution_count": 2,
   "id": "e175d824",
   "metadata": {},
   "outputs": [
    {
     "name": "stdout",
     "output_type": "stream",
     "text": [
      "Rohit\n"
     ]
    }
   ],
   "source": [
    "print(dict[\"name\"])"
   ]
  },
  {
   "cell_type": "code",
   "execution_count": 3,
   "id": "8387d55f",
   "metadata": {},
   "outputs": [
    {
     "name": "stdout",
     "output_type": "stream",
     "text": [
      "{'name': 'Rohit', 'age': 20, 'marks': 100}\n"
     ]
    }
   ],
   "source": [
    "dict[\"marks\"]=100\n",
    "print(dict)"
   ]
  },
  {
   "cell_type": "code",
   "execution_count": 5,
   "id": "6e8e0cb4",
   "metadata": {},
   "outputs": [
    {
     "name": "stdout",
     "output_type": "stream",
     "text": [
      "{'name': 'Rohit', 'age': 20, 'marks': 100, 'city': 'Delhi'}\n"
     ]
    }
   ],
   "source": [
    "dict[\"city\"]=\"Delhi\" ## creating new key value\n",
    "print(dict)"
   ]
  },
  {
   "cell_type": "code",
   "execution_count": 6,
   "id": "4ec3b587",
   "metadata": {},
   "outputs": [
    {
     "name": "stdout",
     "output_type": "stream",
     "text": [
      "{'name': 'Rohit', 'age': 20, 'marks': 100}\n"
     ]
    }
   ],
   "source": [
    "del(dict[\"city\"]) ## deleting key value\n",
    "print(dict)"
   ]
  },
  {
   "cell_type": "code",
   "execution_count": 8,
   "id": "8e9f6fbf",
   "metadata": {},
   "outputs": [
    {
     "name": "stdout",
     "output_type": "stream",
     "text": [
      "100\n",
      "10\n",
      "200\n",
      "20\n",
      "300\n",
      "30\n",
      "400\n",
      "40\n",
      "500\n",
      "50\n"
     ]
    }
   ],
   "source": [
    "## traversing\n",
    "d={10:100,20:200,30:300,40:400,50:500}\n",
    "for i in d:\n",
    "    print(d[i])\n",
    "    print(i)"
   ]
  },
  {
   "cell_type": "code",
   "execution_count": 9,
   "id": "e6880e76",
   "metadata": {},
   "outputs": [
    {
     "name": "stdout",
     "output_type": "stream",
     "text": [
      "100\n",
      "200\n",
      "300\n",
      "400\n",
      "500\n"
     ]
    }
   ],
   "source": [
    "for i in d.values():\n",
    "    print(i)"
   ]
  },
  {
   "cell_type": "code",
   "execution_count": null,
   "id": "fbb963cd",
   "metadata": {},
   "outputs": [],
   "source": []
  }
 ],
 "metadata": {
  "kernelspec": {
   "display_name": "Python 3",
   "language": "python",
   "name": "python3"
  },
  "language_info": {
   "codemirror_mode": {
    "name": "ipython",
    "version": 3
   },
   "file_extension": ".py",
   "mimetype": "text/x-python",
   "name": "python",
   "nbconvert_exporter": "python",
   "pygments_lexer": "ipython3",
   "version": "3.11.9"
  }
 },
 "nbformat": 4,
 "nbformat_minor": 5
}
