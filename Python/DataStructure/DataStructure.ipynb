{
 "cells": [
  {
   "cell_type": "markdown",
   "id": "703ed62c",
   "metadata": {},
   "source": [
    "## DataStructures\n",
    "##### DataStructures --> are used to store , organise, and manipulate data efficiently"
   ]
  },
  {
   "cell_type": "markdown",
   "id": "98bbc7e0",
   "metadata": {},
   "source": [
    "###### Data structures are --> 1. List ,2. Tuple , 3. Set , 4. Dictionary"
   ]
  },
  {
   "cell_type": "markdown",
   "id": "6887a0d9",
   "metadata": {},
   "source": [
    "### List are --> ordered and mutttable"
   ]
  },
  {
   "cell_type": "markdown",
   "id": "5eb988aa",
   "metadata": {},
   "source": [
    "### Tuple are --> ordered and immutable"
   ]
  },
  {
   "cell_type": "markdown",
   "id": "0865ca18",
   "metadata": {},
   "source": [
    "### Set are --> unordered and mutable"
   ]
  },
  {
   "cell_type": "markdown",
   "id": "d5dcddea",
   "metadata": {},
   "source": [
    "### Dictionary are --> unordered and mutable"
   ]
  },
  {
   "cell_type": "markdown",
   "id": "74f49f62",
   "metadata": {},
   "source": [
    "# Custom DataStructures are --> 1. Stack , 2. Queue , 3. linkedlist , 4. Graph etc. "
   ]
  },
  {
   "cell_type": "markdown",
   "id": "70644b10",
   "metadata": {},
   "source": []
  }
 ],
 "metadata": {
  "language_info": {
   "name": "python"
  }
 },
 "nbformat": 4,
 "nbformat_minor": 5
}
