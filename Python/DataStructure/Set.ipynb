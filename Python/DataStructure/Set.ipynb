{
 "cells": [
  {
   "cell_type": "markdown",
   "id": "736c331e",
   "metadata": {},
   "source": [
    "## Set --> muttable , unordered , no duplicates , "
   ]
  }
 ],
 "metadata": {
  "language_info": {
   "name": "python"
  }
 },
 "nbformat": 4,
 "nbformat_minor": 5
}
