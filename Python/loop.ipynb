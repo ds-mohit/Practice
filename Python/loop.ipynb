{
 "cells": [
  {
   "cell_type": "markdown",
   "id": "c448ffd5",
   "metadata": {},
   "source": [
    "### Loops in python are --> for , while"
   ]
  },
  {
   "cell_type": "code",
   "execution_count": 44,
   "id": "6a1d41be",
   "metadata": {},
   "outputs": [
    {
     "name": "stdout",
     "output_type": "stream",
     "text": [
      "1\n",
      "2\n",
      "3\n",
      "4\n",
      "5\n",
      "6\n",
      "7\n",
      "8\n",
      "9\n",
      "1\n",
      "2\n",
      "3\n",
      "4\n",
      "5\n",
      "6\n",
      "7\n",
      "8\n",
      "9\n"
     ]
    }
   ],
   "source": [
    "## for loop\n",
    "\n",
    "## range() there are three SSS in range function\n",
    "## 1. start\n",
    "## 2. stop\n",
    "## 3. step\n",
    "\n",
    "a = range(1,10,1)\n",
    "\n",
    "for i in a:\n",
    "    print(i)\n",
    " \n",
    "## or\n",
    "for i in range(1,10,1):\n",
    "    print(i)"
   ]
  },
  {
   "cell_type": "code",
   "execution_count": 45,
   "id": "9fcdaae4",
   "metadata": {},
   "outputs": [
    {
     "name": "stdout",
     "output_type": "stream",
     "text": [
      "0\n",
      "1\n",
      "2\n",
      "3\n",
      "4\n"
     ]
    }
   ],
   "source": [
    "for i in range(5):\n",
    "    print(i)"
   ]
  },
  {
   "cell_type": "code",
   "execution_count": 46,
   "id": "75ed4826",
   "metadata": {},
   "outputs": [
    {
     "name": "stdout",
     "output_type": "stream",
     "text": [
      "15\n",
      "14\n",
      "13\n",
      "12\n",
      "11\n",
      "10\n",
      "9\n",
      "8\n",
      "7\n",
      "6\n",
      "5\n",
      "4\n",
      "3\n",
      "2\n",
      "1\n"
     ]
    }
   ],
   "source": [
    "## to use range in reverse order\n",
    "\n",
    "for i in range(15,0,-1):\n",
    "    print(i)"
   ]
  },
  {
   "cell_type": "code",
   "execution_count": 47,
   "id": "9d0b88a0",
   "metadata": {},
   "outputs": [
    {
     "name": "stdout",
     "output_type": "stream",
     "text": [
      "-3\n",
      "-4\n",
      "-5\n",
      "-6\n",
      "-7\n",
      "-8\n",
      "-9\n",
      "-10\n",
      "-11\n",
      "-12\n",
      "-13\n",
      "-14\n"
     ]
    }
   ],
   "source": [
    "for i in range(-3,-15,-1):\n",
    "    print(i)"
   ]
  },
  {
   "cell_type": "code",
   "execution_count": 48,
   "id": "8b4e9267",
   "metadata": {},
   "outputs": [
    {
     "name": "stdout",
     "output_type": "stream",
     "text": [
      "5\n",
      "10\n",
      "15\n",
      "20\n",
      "25\n",
      "30\n",
      "35\n",
      "40\n",
      "45\n",
      "50\n",
      "5\n",
      "10\n",
      "15\n",
      "20\n",
      "25\n",
      "30\n",
      "35\n",
      "40\n",
      "45\n",
      "50\n"
     ]
    }
   ],
   "source": [
    "## print a table of 5\n",
    "for i in range(1,11):\n",
    "    print(i*5)\n",
    "\n",
    "## or\n",
    "for i in range(5,51,5):\n",
    "    print(i)"
   ]
  },
  {
   "cell_type": "code",
   "execution_count": 49,
   "id": "937c751c",
   "metadata": {},
   "outputs": [
    {
     "name": "stdout",
     "output_type": "stream",
     "text": [
      "5\n",
      "10\n",
      "15\n",
      "20\n",
      "25\n",
      "30\n",
      "35\n",
      "40\n",
      "45\n",
      "50\n"
     ]
    }
   ],
   "source": [
    "## printing table via user input\n",
    "a = int(input(\"Enter a no :\"))\n",
    "for i in range(a,(a*10)+1,a):\n",
    "    print(i)"
   ]
  },
  {
   "cell_type": "markdown",
   "id": "4ccb73f5",
   "metadata": {},
   "source": [
    "## For loop in string"
   ]
  },
  {
   "cell_type": "code",
   "execution_count": 50,
   "id": "d9fcc068",
   "metadata": {},
   "outputs": [
    {
     "name": "stdout",
     "output_type": "stream",
     "text": [
      "c\n",
      "h\n",
      "o\n",
      "t\n",
      "a\n",
      "b\n",
      "h\n",
      "e\n",
      "e\n",
      "m\n"
     ]
    }
   ],
   "source": [
    "## using index for accessing a string\n",
    "b = \"chotabheem\"\n",
    "for i in range(len(b)):\n",
    "    print(b[i])"
   ]
  },
  {
   "cell_type": "code",
   "execution_count": 51,
   "id": "d3d3f888",
   "metadata": {},
   "outputs": [
    {
     "name": "stdout",
     "output_type": "stream",
     "text": [
      "c\n",
      "h\n",
      "o\n",
      "t\n",
      "a\n",
      "b\n",
      "h\n",
      "e\n",
      "e\n",
      "m\n"
     ]
    }
   ],
   "source": [
    "## directly on string\n",
    "a= \"chotabheem\"\n",
    "for i in a:\n",
    "    print(i)"
   ]
  },
  {
   "cell_type": "code",
   "execution_count": 52,
   "id": "2bbc6383",
   "metadata": {},
   "outputs": [
    {
     "name": "stdout",
     "output_type": "stream",
     "text": [
      "1\n",
      "2\n",
      "3\n",
      "4\n",
      "1\n",
      "2\n",
      "3\n",
      "4\n",
      "6\n",
      "7\n",
      "8\n",
      "9\n",
      "10\n"
     ]
    }
   ],
   "source": [
    "## Break , Continue \n",
    "\n",
    "for i in range(1,11):\n",
    "    if i == 5: ## in this it will stop from printing 5 and furthur\n",
    "        break\n",
    "    print(i)\n",
    "\n",
    "for i in range(1,11):\n",
    "    if i == 5: ## in this it will skip 5\n",
    "        continue\n",
    "    print(i)"
   ]
  },
  {
   "cell_type": "code",
   "execution_count": 53,
   "id": "4b69eab1",
   "metadata": {},
   "outputs": [
    {
     "name": "stdout",
     "output_type": "stream",
     "text": [
      "1\n",
      "2\n",
      "3\n",
      "4\n",
      "break statement is executed\n"
     ]
    }
   ],
   "source": [
    "for i in range(1,11):\n",
    "    if i == 5:\n",
    "        print(\"break statement is executed\")\n",
    "        break\n",
    "    print(i)\n",
    "\n",
    "else:\n",
    "    print(\"break is not executed\")"
   ]
  },
  {
   "cell_type": "code",
   "execution_count": 54,
   "id": "91edf755",
   "metadata": {},
   "outputs": [
    {
     "name": "stdout",
     "output_type": "stream",
     "text": [
      "Hello world\n",
      "Hello world\n",
      "Hello world\n",
      "Hello world\n",
      "Hello world\n"
     ]
    }
   ],
   "source": [
    "## Accept an integer and print hello world n times\n",
    "num = int(input(\"Enter the integer to print hello world that times :\"))\n",
    "for i in range(num):\n",
    "    print(\"Hello world\")"
   ]
  },
  {
   "cell_type": "code",
   "execution_count": 2,
   "id": "4c68b3a7",
   "metadata": {},
   "outputs": [
    {
     "name": "stdout",
     "output_type": "stream",
     "text": [
      "1\n",
      "2\n",
      "3\n",
      "4\n",
      "5\n",
      "6\n"
     ]
    }
   ],
   "source": [
    "# Print natural number upto to n\n",
    "\n",
    "num = int(input(\"Enter a no to print natural no upto that no:\"))\n",
    "if num<1:\n",
    "    print(\"please enter a valid integer for natural no.\")\n",
    "else:\n",
    "    for i in range(1,num+1):\n",
    "        print(i)"
   ]
  },
  {
   "cell_type": "code",
   "execution_count": 56,
   "id": "ea6d371f",
   "metadata": {},
   "outputs": [
    {
     "name": "stdout",
     "output_type": "stream",
     "text": [
      "5\n",
      "4\n",
      "3\n",
      "2\n",
      "1\n"
     ]
    }
   ],
   "source": [
    "## Reverse for loops . Print n to 1\n",
    "\n",
    "num = int(input(\"Enter a no to print natural no upto that no:\"))\n",
    "if num<1:\n",
    "    print(\"please enter a valid integer for natural no.\")\n",
    "else:\n",
    "    for i in range(num,0,-1):\n",
    "        print(i)"
   ]
  },
  {
   "cell_type": "code",
   "execution_count": 57,
   "id": "b6749a18",
   "metadata": {},
   "outputs": [
    {
     "name": "stdout",
     "output_type": "stream",
     "text": [
      "5 *1 = 5\n",
      "5 *2 = 10\n",
      "5 *3 = 15\n",
      "5 *4 = 20\n",
      "5 *5 = 25\n",
      "5 *6 = 30\n",
      "5 *7 = 35\n",
      "5 *8 = 40\n",
      "5 *9 = 45\n",
      "5 *10 = 50\n"
     ]
    }
   ],
   "source": [
    "## Take a number as input and print its table\n",
    "\n",
    "n = int(input(\"Enter a no to print its table:\"))\n",
    "for i in range(1,11):\n",
    "    print(f\"{n} *{i} = {n*i}\")\n",
    "\n"
   ]
  },
  {
   "cell_type": "code",
   "execution_count": 58,
   "id": "e1a52ad1",
   "metadata": {},
   "outputs": [
    {
     "name": "stdout",
     "output_type": "stream",
     "text": [
      "Sum upto 5 is --> 15\n"
     ]
    }
   ],
   "source": [
    "# Sum upto n terms\n",
    "n = int(input(\"Enter a no to print total sum till no:\"))\n",
    "sum = 0\n",
    "\n",
    "for i in range(1,n+1):\n",
    "    sum +=i\n",
    "print(f\"Sum upto {n} is --> {sum}\")\n",
    "\n"
   ]
  },
  {
   "cell_type": "code",
   "execution_count": 69,
   "id": "e699a699",
   "metadata": {},
   "outputs": [
    {
     "name": "stdout",
     "output_type": "stream",
     "text": [
      "Your factorial is 120\n"
     ]
    }
   ],
   "source": [
    "# Factorial of a number\n",
    "n = int(input(\"enter a no\"))\n",
    "fact=1\n",
    "\n",
    "for i in range(1,n+1):\n",
    "    fact = fact*i\n",
    "print(f\"Your factorial is {fact}\")"
   ]
  },
  {
   "cell_type": "code",
   "execution_count": null,
   "id": "04c84e97",
   "metadata": {},
   "outputs": [
    {
     "name": "stdout",
     "output_type": "stream",
     "text": [
      "sum of even and odd till 10 is for even 30 and odd is 25\n"
     ]
    }
   ],
   "source": [
    "# Print the sum of all even and odd number in a range\n",
    "n= int(input(\"tell your no.\"))\n",
    "even = 0\n",
    "odd = 0\n",
    "for i in range(1,n+1):\n",
    "    if i%2 == 0:\n",
    "        even+=i\n",
    "    else:\n",
    "        odd+=i\n",
    "print(f\"sum of even and odd till {n} is even = {even} and odd = {odd}\")\n"
   ]
  },
  {
   "cell_type": "code",
   "execution_count": 75,
   "id": "7dad7ef9",
   "metadata": {},
   "outputs": [
    {
     "name": "stdout",
     "output_type": "stream",
     "text": [
      "1\n",
      "2\n",
      "3\n",
      "4\n",
      "6\n",
      "12\n"
     ]
    }
   ],
   "source": [
    "## print all the factors of a number\n",
    "n= int(input(\"enter a no.\"))\n",
    "for i in range(1,n+1):\n",
    "    if n%i==0:\n",
    "        print(i)"
   ]
  },
  {
   "cell_type": "code",
   "execution_count": 77,
   "id": "b06e07f4",
   "metadata": {},
   "outputs": [
    {
     "name": "stdout",
     "output_type": "stream",
     "text": [
      "your no is a perfect no\n"
     ]
    }
   ],
   "source": [
    "## Accept a number and check if it a perfect number or not\n",
    "## A number whose sum of factors is equal to the number itself\n",
    "## ex - 6 = 1,2,3 = 6\n",
    "n= int(input(\"enter a no.\"))\n",
    "sum = 0\n",
    "for i in range(1,n):\n",
    "    if n%i == 0:\n",
    "        sum = sum +i\n",
    "\n",
    "if sum == n:\n",
    "    print(\"your no is a perfect no\")\n",
    "else:\n",
    "    print(\"your no is not perfect no\")"
   ]
  },
  {
   "cell_type": "code",
   "execution_count": 80,
   "id": "f7c8fc7f",
   "metadata": {},
   "outputs": [
    {
     "name": "stdout",
     "output_type": "stream",
     "text": [
      "your no is not prime\n"
     ]
    }
   ],
   "source": [
    "## check whether the number is prime or not\n",
    "\n",
    "n= int(input(\"enter a no.\"))\n",
    "count = 0\n",
    "for i in range(1,n+1):\n",
    "    if n%i == 0:\n",
    "        count= count + 1\n",
    "\n",
    "if count ==2:\n",
    "    print(\"your no is prime\")\n",
    "else:\n",
    "    print(\"your no is not prime\")\n"
   ]
  },
  {
   "cell_type": "code",
   "execution_count": 81,
   "id": "efa326f6",
   "metadata": {},
   "outputs": [
    {
     "name": "stdout",
     "output_type": "stream",
     "text": [
      "meehbatohhc"
     ]
    }
   ],
   "source": [
    "## Reverse a string without using inbuilt functions\n",
    "a= \"chhotabheem\"\n",
    "for i in range(len(a)-1,-1,-1):\n",
    "    print(a[i],end=\"\")"
   ]
  },
  {
   "cell_type": "code",
   "execution_count": 82,
   "id": "18d084c7",
   "metadata": {},
   "outputs": [
    {
     "name": "stdout",
     "output_type": "stream",
     "text": [
      "your string is a palidrome\n"
     ]
    }
   ],
   "source": [
    "# check string is a palidrome or not\n",
    "a = \"naman\"\n",
    "b = \"\"\n",
    "for i in range(len(a)-1,-1,-1):\n",
    "    b = b + a[i]\n",
    "if a == b:\n",
    "    print(\"your string is a palidrome\")\n",
    "else:\n",
    "    print(\"your string is not a palidrome\")"
   ]
  },
  {
   "cell_type": "code",
   "execution_count": 86,
   "id": "7eaf5ba0",
   "metadata": {},
   "outputs": [
    {
     "name": "stdout",
     "output_type": "stream",
     "text": [
      "your string has 4 letters , \n",
      " 4 digits and \n",
      "4 special char\n"
     ]
    }
   ],
   "source": [
    "# count all letters , digits and special char in a string\n",
    "a = \"asdf12@#34$%\"\n",
    "dig = 0\n",
    "char = 0\n",
    "specialchr = 0\n",
    "for i in a:\n",
    "    if i.isalpha():\n",
    "        char+=1\n",
    "    elif i.isdigit():\n",
    "        dig+=1\n",
    "    else:\n",
    "        specialchr+=1\n",
    "print(f\"your string has {char} letters , \\n {dig} digits and \\n{specialchr} special char\")\n",
    "    "
   ]
  },
  {
   "cell_type": "markdown",
   "id": "62863d48",
   "metadata": {},
   "source": [
    "## While loop"
   ]
  },
  {
   "cell_type": "code",
   "execution_count": 1,
   "id": "7fdeeaa2",
   "metadata": {},
   "outputs": [
    {
     "name": "stdout",
     "output_type": "stream",
     "text": [
      "1\n",
      "2\n",
      "3\n",
      "4\n",
      "5\n",
      "6\n",
      "7\n",
      "8\n",
      "9\n",
      "10\n",
      "11\n",
      "12\n",
      "13\n",
      "14\n",
      "15\n",
      "16\n",
      "17\n",
      "18\n",
      "19\n",
      "20\n",
      "21\n",
      "22\n",
      "23\n",
      "24\n",
      "25\n",
      "26\n",
      "27\n",
      "28\n",
      "29\n",
      "30\n"
     ]
    }
   ],
   "source": [
    "## print 1 to 30 using while loop\n",
    "a = 1\n",
    "while a<=30:\n",
    "    print(a)\n",
    "    a+=1"
   ]
  },
  {
   "cell_type": "code",
   "execution_count": 3,
   "id": "81e12da6",
   "metadata": {},
   "outputs": [
    {
     "name": "stdout",
     "output_type": "stream",
     "text": [
      "6\n",
      "5\n",
      "2\n"
     ]
    }
   ],
   "source": [
    "## separate each digit of a number and print it on the new line\n",
    "n = int(input(\"enter a no.\"))\n",
    "while n>0:\n",
    "    print(n%10)\n",
    "    n = n//10"
   ]
  },
  {
   "cell_type": "code",
   "execution_count": 6,
   "id": "777e8c2a",
   "metadata": {},
   "outputs": [
    {
     "name": "stdout",
     "output_type": "stream",
     "text": [
      "987654321123456789\n"
     ]
    }
   ],
   "source": [
    "## Accept a number and print its reverse\n",
    "\n",
    "n = int(input(\"enter a no.\"))\n",
    "while n>0:\n",
    "    print(n%10 , end=\"\")\n",
    "    n=n//10\n",
    "\n",
    "## or\n",
    "\n",
    "n = int(input(\"enter a no.\"))\n",
    "rev = 0\n",
    "while n>0:\n",
    "    rev = rev*10 + n%10\n",
    "    n = n//10\n",
    "\n",
    "print(rev)"
   ]
  },
  {
   "cell_type": "code",
   "execution_count": 7,
   "id": "5411a143",
   "metadata": {},
   "outputs": [
    {
     "name": "stdout",
     "output_type": "stream",
     "text": [
      "your no is a palindrome\n"
     ]
    }
   ],
   "source": [
    "## Accept a number and check if it is a palindrome number or not\n",
    "n = int(input(\"enter a no.\"))\n",
    "copy = n\n",
    "rev = 0\n",
    "while n>0:\n",
    "    rev = rev*10 + n%10\n",
    "    n = n//10\n",
    "\n",
    "if copy == rev:\n",
    "    print(\"your no is a palindrome\")\n",
    "else:\n",
    "    print(\"your no is not a palindrome\")"
   ]
  },
  {
   "cell_type": "code",
   "execution_count": 11,
   "id": "bccae0c4",
   "metadata": {},
   "outputs": [
    {
     "name": "stdout",
     "output_type": "stream",
     "text": [
      "too high\n",
      "too high\n",
      "too low\n",
      "too high\n",
      "too high\n",
      "too low\n",
      "too low\n",
      "you won in no of tries 8\n"
     ]
    }
   ],
   "source": [
    "## create a random number guessing game with python\n",
    "\n",
    "import random\n",
    "\n",
    "n = random.randint(1,100)\n",
    "chances = 0\n",
    "while True:\n",
    "    guess = int(input(\"guess a no.\"))\n",
    "    if guess == n:\n",
    "        chances +=1\n",
    "        print(f\"you won in no of tries {chances}\")\n",
    "        break\n",
    "    elif guess > n:\n",
    "        print(\"too high\")\n",
    "        chances +=1\n",
    "    else:\n",
    "        print(\"too low\")\n",
    "        chances+=1"
   ]
  },
  {
   "cell_type": "code",
   "execution_count": null,
   "id": "608c14c9",
   "metadata": {},
   "outputs": [],
   "source": []
  }
 ],
 "metadata": {
  "kernelspec": {
   "display_name": "Python 3",
   "language": "python",
   "name": "python3"
  },
  "language_info": {
   "codemirror_mode": {
    "name": "ipython",
    "version": 3
   },
   "file_extension": ".py",
   "mimetype": "text/x-python",
   "name": "python",
   "nbconvert_exporter": "python",
   "pygments_lexer": "ipython3",
   "version": "3.11.9"
  }
 },
 "nbformat": 4,
 "nbformat_minor": 5
}
