{
 "cells": [
  {
   "cell_type": "markdown",
   "id": "39478f60",
   "metadata": {},
   "source": [
    "## Conditional Statements\n",
    "#### these are used to control the flow of the program"
   ]
  },
  {
   "cell_type": "markdown",
   "id": "bc8c4826",
   "metadata": {},
   "source": [
    "##### are --> ``` if , elif , else```"
   ]
  },
  {
   "cell_type": "code",
   "execution_count": 3,
   "id": "cbcdb4fa",
   "metadata": {},
   "outputs": [
    {
     "name": "stdout",
     "output_type": "stream",
     "text": [
      "a is greater than 10\n"
     ]
    }
   ],
   "source": [
    "### 1. if \n",
    "a =15\n",
    "if a> 10 :\n",
    "    print(\"a is greater than 10\")"
   ]
  },
  {
   "cell_type": "code",
   "execution_count": 4,
   "id": "a7598ac5",
   "metadata": {},
   "outputs": [
    {
     "name": "stdout",
     "output_type": "stream",
     "text": [
      "b is greater than a\n"
     ]
    }
   ],
   "source": [
    "## if -else\n",
    "a = 10\n",
    "b = 16\n",
    "if a>b:\n",
    "    print(\"a is greater than b\")\n",
    "else:\n",
    "    print(\"b is greater than a\")"
   ]
  },
  {
   "cell_type": "code",
   "execution_count": 5,
   "id": "14bf4adf",
   "metadata": {},
   "outputs": [
    {
     "name": "stdout",
     "output_type": "stream",
     "text": [
      "a and b are equal\n"
     ]
    }
   ],
   "source": [
    "## elif\n",
    "a = 10\n",
    "b = 10\n",
    "if a>b:\n",
    "    print(\"a is greater than b\")\n",
    "elif a<b:\n",
    "    print(\"b is greater than a\")\n",
    "else:\n",
    "    print(\"a and b are equal\")"
   ]
  },
  {
   "cell_type": "code",
   "execution_count": null,
   "id": "c8fb0b93",
   "metadata": {},
   "outputs": [],
   "source": []
  }
 ],
 "metadata": {
  "kernelspec": {
   "display_name": "Python 3",
   "language": "python",
   "name": "python3"
  },
  "language_info": {
   "codemirror_mode": {
    "name": "ipython",
    "version": 3
   },
   "file_extension": ".py",
   "mimetype": "text/x-python",
   "name": "python",
   "nbconvert_exporter": "python",
   "pygments_lexer": "ipython3",
   "version": "3.11.9"
  }
 },
 "nbformat": 4,
 "nbformat_minor": 5
}
