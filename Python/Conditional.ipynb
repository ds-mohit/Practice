{
 "cells": [
  {
   "cell_type": "markdown",
   "id": "39478f60",
   "metadata": {},
   "source": [
    "## Conditional Statements\n",
    "#### these are used to control the flow of the program"
   ]
  },
  {
   "cell_type": "markdown",
   "id": "bc8c4826",
   "metadata": {},
   "source": [
    "##### are --> ``` if , elif , else```"
   ]
  },
  {
   "cell_type": "code",
   "execution_count": 3,
   "id": "cbcdb4fa",
   "metadata": {},
   "outputs": [
    {
     "name": "stdout",
     "output_type": "stream",
     "text": [
      "a is greater than 10\n"
     ]
    }
   ],
   "source": [
    "### 1. if \n",
    "a =15\n",
    "if a> 10 :\n",
    "    print(\"a is greater than 10\")"
   ]
  },
  {
   "cell_type": "code",
   "execution_count": 4,
   "id": "a7598ac5",
   "metadata": {},
   "outputs": [
    {
     "name": "stdout",
     "output_type": "stream",
     "text": [
      "b is greater than a\n"
     ]
    }
   ],
   "source": [
    "## if -else\n",
    "a = 10\n",
    "b = 16\n",
    "if a>b:\n",
    "    print(\"a is greater than b\")\n",
    "else:\n",
    "    print(\"b is greater than a\")"
   ]
  },
  {
   "cell_type": "code",
   "execution_count": 5,
   "id": "14bf4adf",
   "metadata": {},
   "outputs": [
    {
     "name": "stdout",
     "output_type": "stream",
     "text": [
      "a and b are equal\n"
     ]
    }
   ],
   "source": [
    "## elif\n",
    "a = 10\n",
    "b = 10\n",
    "if a>b:\n",
    "    print(\"a is greater than b\")\n",
    "elif a<b:\n",
    "    print(\"b is greater than a\")\n",
    "else:\n",
    "    print(\"a and b are equal\")"
   ]
  },
  {
   "cell_type": "code",
   "execution_count": null,
   "id": "c8fb0b93",
   "metadata": {},
   "outputs": [
    {
     "name": "stdout",
     "output_type": "stream",
     "text": [
      "26 is greater than 23\n",
      "hello sir\n",
      "a is even\n",
      "dollu you are not a valid voter\n",
      "2026 is not a leap year\n"
     ]
    }
   ],
   "source": [
    "###  questions\n",
    "## accept two no and print the greatest between them\n",
    "a = int(input(\"enter a no a :\"))\n",
    "b = int(input(\"enter a no b :\"))\n",
    "if a>b:\n",
    "    print(f\"{a} is greater than {b}\")\n",
    "elif a<b:\n",
    "    print(f\"{b} is greater than {a}\")\n",
    "else:\n",
    "    print(f\"{a} and {b} are equal\")\n",
    "\n",
    "## accept the gender from the user as char and print the respecctive greeting message\n",
    "gender = input(\"enter your gender (M or F) :\")\n",
    "if gender == \"M\" or gender == \"m\":\n",
    "    print(\"hello sir\")\n",
    "elif gender == \"F\" or gender == \"f\":\n",
    "    print(\"hello madam\")\n",
    "else:\n",
    "    print(\"invalid gender\")\n",
    "\n",
    "## Accept an integer and check whether it is a even no or odd\n",
    "a = int(input(\"enter a integer :\"))\n",
    "if a%2==0:\n",
    "    print(\"a is even\")\n",
    "else:\n",
    "    print(\"a is odd\")\n",
    "## Accept name and age from the user . Check if the user is a  valid voter or not \n",
    "name= input(\"enter your name :\")\n",
    "age= int(input(\"enter your age :\"))\n",
    "if age>=18:\n",
    "    print(f\"{name} are a valid voter\")\n",
    "else:\n",
    "    print(f\"{name} you are not a valid voter\")\n",
    "\n",
    "## Accept a year anf check if it is a leap year or not\n",
    "year = int(input(\"enter a year :\"))\n",
    "if year%4==0 and year%100!=0 or year%400==0:\n",
    "    print(f\"{year } is a leap year\")\n",
    "else:\n",
    "    print(f\"{year } is a normal year\")"
   ]
  },
  {
   "cell_type": "code",
   "execution_count": 1,
   "id": "afb03010",
   "metadata": {},
   "outputs": [
    {
     "name": "stdout",
     "output_type": "stream",
     "text": [
      "bholuu you are not a valid voter\n",
      "3 years are remaining to become a valid voter\n"
     ]
    }
   ],
   "source": [
    "## to check whether the voter is valid or not and if not then\n",
    "#  how many year are remaining in becoming a valid voter\n",
    "\n",
    "name= input(\"enter your name :\")\n",
    "age= int(input(\"enter your age :\"))\n",
    "if age>=18:\n",
    "    print(f\"{name} are a valid voter\")\n",
    "else:\n",
    "    print(f\"{name} you are not a valid voter\")\n",
    "    print(f\"{18-age} years are remaining to become a valid voter\")\n"
   ]
  },
  {
   "cell_type": "code",
   "execution_count": 3,
   "id": "04be59c7",
   "metadata": {},
   "outputs": [
    {
     "name": "stdout",
     "output_type": "stream",
     "text": [
      "very hot\n"
     ]
    }
   ],
   "source": [
    "## if elif ladder questions\n",
    "temp = int(input(\"enter the temperature :\"))\n",
    "if temp<0:\n",
    "    print(\"Freezing cold\")\n",
    "elif temp>0 and temp<10:\n",
    "    print (\"very cold\")\n",
    "elif temp>10 and temp<20:\n",
    "    print(\"cold\")\n",
    "elif temp>20 and temp<30:\n",
    "    print(\"normal\")\n",
    "elif temp>30 and temp<40:\n",
    "    print(\"hot\")\n",
    "else:\n",
    "    print(\"very hot\")\n"
   ]
  },
  {
   "cell_type": "code",
   "execution_count": null,
   "id": "07ead07b",
   "metadata": {},
   "outputs": [],
   "source": []
  }
 ],
 "metadata": {
  "kernelspec": {
   "display_name": "Python 3",
   "language": "python",
   "name": "python3"
  },
  "language_info": {
   "codemirror_mode": {
    "name": "ipython",
    "version": 3
   },
   "file_extension": ".py",
   "mimetype": "text/x-python",
   "name": "python",
   "nbconvert_exporter": "python",
   "pygments_lexer": "ipython3",
   "version": "3.11.9"
  }
 },
 "nbformat": 4,
 "nbformat_minor": 5
}
