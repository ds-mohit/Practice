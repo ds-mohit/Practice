{
 "cells": [
  {
   "cell_type": "markdown",
   "id": "dfda260d",
   "metadata": {},
   "source": [
    "##### A decorator is just a function that modifies another function without changing its actual / source code."
   ]
  },
  {
   "cell_type": "code",
   "execution_count": null,
   "id": "b8dd9a77",
   "metadata": {},
   "outputs": [
    {
     "data": {
      "text/plain": [
       "<bound method Animal.show of <__main__.Animal object at 0x00000281E5369D10>>"
      ]
     },
     "execution_count": 3,
     "metadata": {},
     "output_type": "execute_result"
    }
   ],
   "source": [
    "class Animal:\n",
    "    def show(self):\n",
    "        print(\"How are you? \")\n",
    "\n",
    "obj = Animal()\n",
    "obj.show ## to call without using () we gona use @property"
   ]
  },
  {
   "cell_type": "code",
   "execution_count": 5,
   "id": "90f351c0",
   "metadata": {},
   "outputs": [
    {
     "name": "stdout",
     "output_type": "stream",
     "text": [
      "How are you? \n"
     ]
    }
   ],
   "source": [
    "class Animal:\n",
    "    @property\n",
    "    def show(self):\n",
    "        print(\"How are you? \")\n",
    "\n",
    "obj = Animal()\n",
    "obj.show"
   ]
  },
  {
   "cell_type": "code",
   "execution_count": 7,
   "id": "8f3cde10",
   "metadata": {},
   "outputs": [
    {
     "name": "stdout",
     "output_type": "stream",
     "text": [
      "i will print before function\n",
      "I am bhalu\n",
      "i will print after function\n"
     ]
    }
   ],
   "source": [
    "## How to create a decorator\n",
    "def decorate(func):\n",
    "    ## wrapper function\n",
    "    def wrapper():\n",
    "        print(\"i will print before function\")\n",
    "        func()\n",
    "        print(\"i will print after function\")\n",
    "    return wrapper ## this will return this func to @decorate\n",
    "\n",
    "\n",
    "@decorate ## naam koi sa bhi de sakte hai\n",
    "def hello():\n",
    "    print(\"I am bhalu\")\n",
    "\n",
    "hello()\n"
   ]
  },
  {
   "cell_type": "code",
   "execution_count": null,
   "id": "22ccf973",
   "metadata": {},
   "outputs": [
    {
     "name": "stdout",
     "output_type": "stream",
     "text": [
      "The addition of two no are ::\n",
      "51\n",
      "I hope u like it\n"
     ]
    }
   ],
   "source": [
    "def decorate(func):\n",
    "    def wrapper(a,b):\n",
    "        print(\"The addition of two no are ::\")\n",
    "        func(a,b)\n",
    "        print(\"I hope u like it\")\n",
    "    return wrapper\n",
    "\n",
    "@decorate\n",
    "def add(a,b):\n",
    "    print(a+b)\n",
    "add(15,36)\n",
    "## if we don't know the no of inputs a person will give \n",
    "## so we can't change the decorator again and again\n",
    "## so will use *args"
   ]
  },
  {
   "cell_type": "markdown",
   "id": "a152e1c6",
   "metadata": {},
   "source": [
    "#### what are *args and **kwargs\n",
    "--> these are the special keywords in python used in function definations to accept a flexible number of arguments\n",
    "\n",
    "we don't have to write args and kwargs we can use any name we have to write * /** before the name\n",
    "\n",
    "so *args is used for multiple arguments and **kwargs is used for keyword arguments\n",
    "\n",
    "And args become the tuple and kwargs become the dictionary"
   ]
  },
  {
   "cell_type": "code",
   "execution_count": 13,
   "id": "5044914e",
   "metadata": {},
   "outputs": [
    {
     "name": "stdout",
     "output_type": "stream",
     "text": [
      "(1, 2, 3, 4, 5)\n"
     ]
    }
   ],
   "source": [
    "## using *args\n",
    "def add(*args):\n",
    "    print(args)\n",
    "\n",
    "add(1,2,3,4,5)\n"
   ]
  },
  {
   "cell_type": "code",
   "execution_count": 14,
   "id": "d8468d3c",
   "metadata": {},
   "outputs": [
    {
     "data": {
      "text/plain": [
       "15"
      ]
     },
     "execution_count": 14,
     "metadata": {},
     "output_type": "execute_result"
    }
   ],
   "source": [
    "def addition(*add):\n",
    "    sum = 0\n",
    "    for i in add:\n",
    "        sum += i\n",
    "    return sum\n",
    "addition(1,2,3,4,5)"
   ]
  },
  {
   "cell_type": "code",
   "execution_count": 15,
   "id": "6adb533c",
   "metadata": {},
   "outputs": [
    {
     "name": "stdout",
     "output_type": "stream",
     "text": [
      "{'a': 1, 'b': 2, 'c': 3}\n"
     ]
    }
   ],
   "source": [
    "## using **kwargs\n",
    "def add(**kwargs):## keyword arguments like a= ,b= ,c= ,etc.\n",
    "    print(kwargs)\n",
    "\n",
    "add(a=1,b=2,c=3)"
   ]
  },
  {
   "cell_type": "code",
   "execution_count": 19,
   "id": "ab578108",
   "metadata": {},
   "outputs": [
    {
     "name": "stdout",
     "output_type": "stream",
     "text": [
      " Your info is \n",
      "\n",
      "\n",
      "name : bholu \n",
      "age : 15\n",
      "domain : DataScience\n"
     ]
    }
   ],
   "source": [
    "def information(**kwargs):\n",
    "    print(\" Your info is \\n\\n\")\n",
    "    for i in kwargs:\n",
    "        print(f\"{i} : {kwargs[i]}\")\n",
    "\n",
    "information(name = \"bholu \" , age= 15 , domain = \"DataScience\")"
   ]
  },
  {
   "cell_type": "code",
   "execution_count": 25,
   "id": "13f54a88",
   "metadata": {},
   "outputs": [
    {
     "name": "stdout",
     "output_type": "stream",
     "text": [
      " The addition of your choice is ::\n",
      "the addition of arguments is : 15\n",
      "The additon of keyword arguments is : 6\n",
      "Thankyou for using me\n"
     ]
    }
   ],
   "source": [
    "## using decorator with * and **\n",
    "\n",
    "def decorate(func):\n",
    "    def wrapper(*args,**kwargs):\n",
    "        print(\" The addition of your choice is ::\")\n",
    "        func(*args,**kwargs)\n",
    "        print(\"Thankyou for using me\")\n",
    "    return wrapper\n",
    "\n",
    "@decorate\n",
    "def addition(*add ,**kadd):\n",
    "    sum = 0\n",
    "    sum1 = 0\n",
    "    for i in add:\n",
    "        sum += i\n",
    "    print(f\"the addition of arguments is : {sum}\")\n",
    "    for i in kadd:\n",
    "        sum1 += kadd[i]\n",
    "    print(f\"The additon of keyword arguments is : {sum1}\")\n",
    "\n",
    "addition(1,2,3,4,5,a=1,b=2,c=3)"
   ]
  },
  {
   "cell_type": "code",
   "execution_count": null,
   "id": "a985307e",
   "metadata": {},
   "outputs": [],
   "source": []
  }
 ],
 "metadata": {
  "kernelspec": {
   "display_name": "Python 3",
   "language": "python",
   "name": "python3"
  },
  "language_info": {
   "codemirror_mode": {
    "name": "ipython",
    "version": 3
   },
   "file_extension": ".py",
   "mimetype": "text/x-python",
   "name": "python",
   "nbconvert_exporter": "python",
   "pygments_lexer": "ipython3",
   "version": "3.11.9"
  }
 },
 "nbformat": 4,
 "nbformat_minor": 5
}
