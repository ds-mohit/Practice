{
 "cells": [
  {
   "cell_type": "markdown",
   "id": "20946b2b",
   "metadata": {},
   "source": [
    "### Map is used for applying a function to multiple items .\n",
    "1. take a list (or any sequence).\n",
    "2. applies the same function to every item in that list.\n",
    "3. gives you back a new list "
   ]
  },
  {
   "cell_type": "code",
   "execution_count": 3,
   "id": "a56f3c8c",
   "metadata": {},
   "outputs": [
    {
     "name": "stdout",
     "output_type": "stream",
     "text": [
      "[1, 4, 9, 16, 25, 36]\n"
     ]
    }
   ],
   "source": [
    "a = [1,2,3,4,5,6]\n",
    "\n",
    "b = list(map(lambda x:x**2,a))## function , iterable like list ,set ,dict\n",
    "print(b)"
   ]
  },
  {
   "cell_type": "code",
   "execution_count": 11,
   "id": "e467aa59",
   "metadata": {},
   "outputs": [
    {
     "name": "stdout",
     "output_type": "stream",
     "text": [
      "[1, 2, 3, 4, 5]\n",
      "[2, 4, 6, 8, 10]\n"
     ]
    }
   ],
   "source": [
    "# a = int,map(input(\"enter the integer :\").split())\n",
    "# print(a)\n",
    "# b = list(map(lambda x : x+x , a))\n",
    "# print(b)\n",
    "a = list(map(int, input(\"enter the integer : \").split()))\n",
    "print(a)\n",
    "b = list(map(lambda x: x + x, a))\n",
    "print(b)\n"
   ]
  },
  {
   "cell_type": "markdown",
   "id": "44aab90a",
   "metadata": {},
   "source": [
    "#### Filter function\n",
    "1. As the name suggest it is used to filter out the stuff.\n",
    "2. takes a list(or any iterable)\n",
    "3. checks each item in that list using a function(a test)\n",
    "4. keeps only the items that pass the test.(return test)"
   ]
  },
  {
   "cell_type": "code",
   "execution_count": 12,
   "id": "1427019a",
   "metadata": {},
   "outputs": [
    {
     "name": "stdout",
     "output_type": "stream",
     "text": [
      "[2, 4, 6, 8]\n",
      "[1, 3, 5, 7, 9]\n"
     ]
    }
   ],
   "source": [
    "numbers = [1,2,3,4,5,6,7,8,9]\n",
    "\n",
    "even = list(filter(lambda x : x%2==0 , numbers))\n",
    "print(even)\n",
    "odd = list(filter(lambda x : x%2!=0 , numbers))\n",
    "print(odd)"
   ]
  },
  {
   "cell_type": "code",
   "execution_count": 13,
   "id": "9e1cb74c",
   "metadata": {},
   "outputs": [
    {
     "name": "stdout",
     "output_type": "stream",
     "text": [
      "[2, 4, 6, 8]\n"
     ]
    }
   ],
   "source": [
    "def even(x):\n",
    "    if x%2 == 0:\n",
    "        return True\n",
    "    else:\n",
    "        return False\n",
    "even = list(filter(even , numbers))\n",
    "print(even)\n",
    "\n",
    "\n"
   ]
  },
  {
   "cell_type": "code",
   "execution_count": null,
   "id": "0195656b",
   "metadata": {},
   "outputs": [],
   "source": []
  }
 ],
 "metadata": {
  "kernelspec": {
   "display_name": "Python 3",
   "language": "python",
   "name": "python3"
  },
  "language_info": {
   "codemirror_mode": {
    "name": "ipython",
    "version": 3
   },
   "file_extension": ".py",
   "mimetype": "text/x-python",
   "name": "python",
   "nbconvert_exporter": "python",
   "pygments_lexer": "ipython3",
   "version": "3.11.9"
  }
 },
 "nbformat": 4,
 "nbformat_minor": 5
}
