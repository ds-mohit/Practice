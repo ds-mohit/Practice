{
 "cells": [
  {
   "cell_type": "markdown",
   "id": "20946b2b",
   "metadata": {},
   "source": [
    "### Map is used for applying a function to multiple items .\n",
    "1. take a list (or any sequence).\n",
    "2. applies the same function to every item in that list.\n",
    "3. gives you back a new list "
   ]
  },
  {
   "cell_type": "code",
   "execution_count": null,
   "id": "a56f3c8c",
   "metadata": {},
   "outputs": [],
   "source": []
  }
 ],
 "metadata": {
  "language_info": {
   "name": "python"
  }
 },
 "nbformat": 4,
 "nbformat_minor": 5
}
