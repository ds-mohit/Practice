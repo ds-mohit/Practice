{
 "cells": [
  {
   "cell_type": "markdown",
   "id": "db0ae400",
   "metadata": {},
   "source": [
    "#### ```Comphrehension``` is a way to create a ```list, tuple, set ```using ```a single line of code```"
   ]
  },
  {
   "cell_type": "markdown",
   "id": "a349019b",
   "metadata": {},
   "source": [
    "##### All the codes are written in a single line"
   ]
  },
  {
   "cell_type": "code",
   "execution_count": null,
   "id": "963989b3",
   "metadata": {},
   "outputs": [
    {
     "data": {
      "text/plain": [
       "[2, 4, 6, 8, 10, 12, 14, 16, 18, 20]"
      ]
     },
     "execution_count": 3,
     "metadata": {},
     "output_type": "execute_result"
    }
   ],
   "source": [
    "## list comphrehension\n",
    "## filtering if (for loop at first then condition)\n",
    "l = [i for i in range(1,21) if i%2==0 ]\n",
    "l"
   ]
  },
  {
   "cell_type": "code",
   "execution_count": null,
   "id": "c49a13b5",
   "metadata": {},
   "outputs": [
    {
     "data": {
      "text/plain": [
       "['odd', 'even', 'odd', 'even', 'odd', 'even', 'odd', 'even', 'odd', 'even']"
      ]
     },
     "execution_count": 14,
     "metadata": {},
     "output_type": "execute_result"
    }
   ],
   "source": [
    "## this is the second format of list comphrehenesion\n",
    "## in this if we using if else and some statement then \n",
    "## it's format should be -->\n",
    "## condition first then for loop \n",
    "# [expression_if_true if condition else expression_if_false for item in iterable]\n",
    "\n",
    "l =[\"even\" if i % 2 == 0 else \"odd\" for i in range(1, 11)]\n",
    "l"
   ]
  },
  {
   "cell_type": "code",
   "execution_count": null,
   "id": "5f28058e",
   "metadata": {},
   "outputs": [
    {
     "data": {
      "text/plain": [
       "55"
      ]
     },
     "execution_count": 9,
     "metadata": {},
     "output_type": "execute_result"
    }
   ],
   "source": [
    "## to do the sum of list\n",
    "total = sum([i for i in range(1,11)])\n",
    "total"
   ]
  },
  {
   "cell_type": "code",
   "execution_count": 10,
   "id": "184414a9",
   "metadata": {},
   "outputs": [
    {
     "data": {
      "text/plain": [
       "{1: 1, 2: 4, 3: 9, 4: 16, 5: 25, 6: 36, 7: 49, 8: 64, 9: 81, 10: 100}"
      ]
     },
     "execution_count": 10,
     "metadata": {},
     "output_type": "execute_result"
    }
   ],
   "source": [
    "## dictionary comphrehension\n",
    "l = {i:i**2 for i in range(1,11)}\n",
    "l"
   ]
  },
  {
   "cell_type": "code",
   "execution_count": 11,
   "id": "886d45f3",
   "metadata": {},
   "outputs": [
    {
     "data": {
      "text/plain": [
       "{1, 4, 9, 16, 25, 36, 49, 64, 81, 100}"
      ]
     },
     "execution_count": 11,
     "metadata": {},
     "output_type": "execute_result"
    }
   ],
   "source": [
    "## set comphrehension\n",
    "l = {i**2 for i in range(1,11)}\n",
    "l"
   ]
  },
  {
   "cell_type": "code",
   "execution_count": 16,
   "id": "7ac9c620",
   "metadata": {},
   "outputs": [
    {
     "data": {
      "text/plain": [
       "[1, 4, 27, 256, 3125, 46656, 823543, 16777216, 387420489, 10000000000]"
      ]
     },
     "execution_count": 16,
     "metadata": {},
     "output_type": "execute_result"
    }
   ],
   "source": [
    "l= [i**i for i in range(1,11)]\n",
    "l"
   ]
  },
  {
   "cell_type": "markdown",
   "id": "d110cbd9",
   "metadata": {},
   "source": [
    "### Lambda function\n",
    " --> These are anonymous function , inline function defined usinf lambda keyword.\n",
    "\n",
    " It's often used for short and simple functions that are used only once or temperorarily.\n",
    "\n",
    " You can have multiple arguments but there will be only one expression.\n",
    " "
   ]
  },
  {
   "cell_type": "code",
   "execution_count": 20,
   "id": "8ee18ff7",
   "metadata": {},
   "outputs": [
    {
     "name": "stdout",
     "output_type": "stream",
     "text": [
      "27\n"
     ]
    }
   ],
   "source": [
    "square = lambda x : x**x \n",
    "print(square(3))"
   ]
  },
  {
   "cell_type": "code",
   "execution_count": 21,
   "id": "896b6375",
   "metadata": {},
   "outputs": [
    {
     "name": "stdout",
     "output_type": "stream",
     "text": [
      "11\n"
     ]
    }
   ],
   "source": [
    "add = lambda x,y : x+y\n",
    "print(add(5,6))"
   ]
  },
  {
   "cell_type": "code",
   "execution_count": null,
   "id": "16d3ed9a",
   "metadata": {},
   "outputs": [
    {
     "name": "stdout",
     "output_type": "stream",
     "text": [
      "Odd\n"
     ]
    }
   ],
   "source": [
    "even_odd = lambda a : \"Even \" if a%2==0 else \"Odd\"\n",
    "print(even_odd(5))"
   ]
  },
  {
   "cell_type": "code",
   "execution_count": null,
   "id": "fd49232c",
   "metadata": {},
   "outputs": [],
   "source": []
  }
 ],
 "metadata": {
  "kernelspec": {
   "display_name": "Python 3",
   "language": "python",
   "name": "python3"
  },
  "language_info": {
   "codemirror_mode": {
    "name": "ipython",
    "version": 3
   },
   "file_extension": ".py",
   "mimetype": "text/x-python",
   "name": "python",
   "nbconvert_exporter": "python",
   "pygments_lexer": "ipython3",
   "version": "3.11.9"
  }
 },
 "nbformat": 4,
 "nbformat_minor": 5
}
