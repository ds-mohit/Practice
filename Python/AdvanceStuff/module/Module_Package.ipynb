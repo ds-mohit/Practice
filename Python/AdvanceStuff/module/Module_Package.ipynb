{
 "cells": [
  {
   "cell_type": "markdown",
   "id": "f2e90901",
   "metadata": {},
   "source": [
    "#### Module is just a single file containing code anf we can use this file code in other file by importing\n",
    "\n",
    "1. A single python file\n",
    "2. contains functions , variables and classes\n",
    "3. Used to organise and reuse the code\n",
    "4. python comes with lots of ready to use modules like math , random etc\n"
   ]
  },
  {
   "cell_type": "code",
   "execution_count": null,
   "id": "c9889293",
   "metadata": {},
   "outputs": [
    {
     "name": "stdout",
     "output_type": "stream",
     "text": [
      "2.23606797749979\n"
     ]
    }
   ],
   "source": [
    "import math ## pre-defined module\n",
    "print(math.sqrt(5))"
   ]
  },
  {
   "cell_type": "code",
   "execution_count": null,
   "id": "5efcb687",
   "metadata": {},
   "outputs": [
    {
     "name": "stdout",
     "output_type": "stream",
     "text": [
      "5\n",
      "6\n",
      "-1\n"
     ]
    }
   ],
   "source": [
    "## user - defined module\n",
    "import Python.AdvanceStuff.module.Packagess.maths as maths\n",
    "print(maths.add(2,3))\n",
    "print(maths.multi(2,3))\n",
    "print(maths.sub(2,3))"
   ]
  },
  {
   "cell_type": "markdown",
   "id": "82884c22",
   "metadata": {},
   "source": [
    "#### Package \n",
    "1. A Package is a folder that contains one or more modules . It may also contain sub-packages\n",
    "2. And u just have to use form and import keywords to use these things.\n",
    "3. These are third party pakages as well as ready to use modules like numpy, pandas , seaborn ,etc and we have to install them to use them"
   ]
  },
  {
   "cell_type": "code",
   "execution_count": 7,
   "id": "52d28d6f",
   "metadata": {},
   "outputs": [
    {
     "name": "stdout",
     "output_type": "stream",
     "text": [
      "hello\n",
      "None\n",
      "bye\n",
      "None\n",
      "5\n",
      "6\n",
      "-1\n"
     ]
    }
   ],
   "source": [
    "from Packagess import hello , maths\n",
    "print(hello.hello())\n",
    "print(hello.bye())\n",
    "print(maths.add(2,3))\n",
    "print(maths.multi(2,3))\n",
    "print(maths.sub(2,3))"
   ]
  },
  {
   "cell_type": "markdown",
   "id": "a41d2856",
   "metadata": {},
   "source": [
    "##### if the modules are in sub folder then we use\n",
    "```from Packagess.subfolder_name import module_name```"
   ]
  },
  {
   "cell_type": "markdown",
   "id": "51b1a5ab",
   "metadata": {},
   "source": []
  }
 ],
 "metadata": {
  "kernelspec": {
   "display_name": "Python 3",
   "language": "python",
   "name": "python3"
  },
  "language_info": {
   "codemirror_mode": {
    "name": "ipython",
    "version": 3
   },
   "file_extension": ".py",
   "mimetype": "text/x-python",
   "name": "python",
   "nbconvert_exporter": "python",
   "pygments_lexer": "ipython3",
   "version": "3.11.9"
  }
 },
 "nbformat": 4,
 "nbformat_minor": 5
}
