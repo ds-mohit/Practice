{
 "cells": [
  {
   "cell_type": "markdown",
   "id": "60fa736e",
   "metadata": {},
   "source": [
    "## This is a project that uses all file handling methods // C R U D in file handling"
   ]
  },
  {
   "cell_type": "code",
   "execution_count": null,
   "id": "b8f5c46b",
   "metadata": {},
   "outputs": [],
   "source": []
  }
 ],
 "metadata": {
  "language_info": {
   "name": "python"
  }
 },
 "nbformat": 4,
 "nbformat_minor": 5
}
