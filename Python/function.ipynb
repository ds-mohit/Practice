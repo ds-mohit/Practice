{
 "cells": [
  {
   "cell_type": "markdown",
   "id": "7edfb5ec",
   "metadata": {},
   "source": [
    "## Function in Python"
   ]
  },
  {
   "cell_type": "markdown",
   "id": "51c07f8d",
   "metadata": {},
   "source": [
    "### function are block of code that performs a specific task"
   ]
  },
  {
   "cell_type": "code",
   "execution_count": 1,
   "id": "d074c646",
   "metadata": {},
   "outputs": [
    {
     "name": "stdout",
     "output_type": "stream",
     "text": [
      "hello world\n"
     ]
    }
   ],
   "source": [
    "def hello():\n",
    "    print(\"hello world\")\n",
    "hello()"
   ]
  },
  {
   "cell_type": "code",
   "execution_count": 2,
   "id": "a5204f9c",
   "metadata": {},
   "outputs": [
    {
     "name": "stdout",
     "output_type": "stream",
     "text": [
      "5\n"
     ]
    }
   ],
   "source": [
    "## parameterized function\n",
    "## parameters are variables listed inside function\n",
    "\n",
    "def sum(a,b): ## a,b are parameters which accept user's input data\n",
    "    print(a+b)\n",
    "sum(2,3) ## 2,3 are arguments which user provided"
   ]
  },
  {
   "cell_type": "code",
   "execution_count": null,
   "id": "ec680578",
   "metadata": {},
   "outputs": [],
   "source": [
    "## types of arguments\n",
    "## 1. positional arguments\n",
    "## 2. keyword arguments\n",
    "## 3. default arguments"
   ]
  },
  {
   "cell_type": "code",
   "execution_count": 3,
   "id": "3fbc54fe",
   "metadata": {},
   "outputs": [
    {
     "name": "stdout",
     "output_type": "stream",
     "text": [
      "1\n"
     ]
    }
   ],
   "source": [
    "## 1. Positional Arguments\n",
    "def sub(a,b):\n",
    "    print(a-b)\n",
    "sub(3,2)"
   ]
  },
  {
   "cell_type": "code",
   "execution_count": null,
   "id": "4c70e582",
   "metadata": {},
   "outputs": [
    {
     "name": "stdout",
     "output_type": "stream",
     "text": [
      "-1\n"
     ]
    }
   ],
   "source": [
    "## 2. Keyword Arguments\n",
    "def sub(a,b):\n",
    "    print(a-b)\n",
    "sub(b=3,a=2) ## here b ,a are keyword arguments"
   ]
  },
  {
   "cell_type": "code",
   "execution_count": null,
   "id": "a4f4201d",
   "metadata": {},
   "outputs": [
    {
     "name": "stdout",
     "output_type": "stream",
     "text": [
      "1\n",
      "42\n"
     ]
    }
   ],
   "source": [
    "## 3. Default Arguments\n",
    "def sub(a,b=2): ## here b is default argument\n",
    "    print(a-b)\n",
    "sub(3)\n",
    "sub(45,3) ## here b=3 will replace the default value"
   ]
  },
  {
   "cell_type": "code",
   "execution_count": 8,
   "id": "95b6c79a",
   "metadata": {},
   "outputs": [
    {
     "name": "stdout",
     "output_type": "stream",
     "text": [
      "madam is a palindrome\n",
      "hello is not a palindrome\n"
     ]
    }
   ],
   "source": [
    "def palindrome(st):\n",
    "    rev= \"\"\n",
    "    for i in range(len(st)-1,-1,-1):\n",
    "        rev = rev + st[i]\n",
    "    \n",
    "    if rev == st:\n",
    "        print(f\"{st} is a palindrome\")\n",
    "    else:\n",
    "        print(f\"{st} is not a palindrome\")\n",
    "    \n",
    "palindrome(\"madam\")\n",
    "palindrome(\"hello\")"
   ]
  },
  {
   "cell_type": "code",
   "execution_count": 9,
   "id": "461743be",
   "metadata": {},
   "outputs": [
    {
     "name": "stdout",
     "output_type": "stream",
     "text": [
      "hello world\n"
     ]
    }
   ],
   "source": [
    "def hello():\n",
    "    return \"hello world\"\n",
    "print(hello())"
   ]
  },
  {
   "cell_type": "code",
   "execution_count": 10,
   "id": "43844a38",
   "metadata": {},
   "outputs": [
    {
     "name": "stdout",
     "output_type": "stream",
     "text": [
      "madam is a palindrome\n",
      "hello is not a palindrome\n"
     ]
    }
   ],
   "source": [
    "def palindrome(st):\n",
    "    rev= \"\"\n",
    "    for i in range(len(st)-1,-1,-1):\n",
    "        rev = rev + st[i]\n",
    "    \n",
    "    if rev == st:\n",
    "        return f\"{st} is a palindrome\"\n",
    "    else:\n",
    "        return f\"{st} is not a palindrome\"\n",
    "    \n",
    "print(palindrome(\"madam\"))\n",
    "print(palindrome(\"hello\"))"
   ]
  },
  {
   "cell_type": "code",
   "execution_count": null,
   "id": "a9daf8cb",
   "metadata": {},
   "outputs": [],
   "source": []
  }
 ],
 "metadata": {
  "kernelspec": {
   "display_name": "Python 3",
   "language": "python",
   "name": "python3"
  },
  "language_info": {
   "codemirror_mode": {
    "name": "ipython",
    "version": 3
   },
   "file_extension": ".py",
   "mimetype": "text/x-python",
   "name": "python",
   "nbconvert_exporter": "python",
   "pygments_lexer": "ipython3",
   "version": "3.11.9"
  }
 },
 "nbformat": 4,
 "nbformat_minor": 5
}
