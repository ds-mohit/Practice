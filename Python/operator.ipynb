{
 "cells": [
  {
   "cell_type": "markdown",
   "id": "bda47c01",
   "metadata": {},
   "source": [
    "## Operators"
   ]
  },
  {
   "cell_type": "markdown",
   "id": "14e9dd66",
   "metadata": {},
   "source": [
    "## 1. Arithmetic Operators"
   ]
  },
  {
   "cell_type": "code",
   "execution_count": 4,
   "id": "438d9253",
   "metadata": {},
   "outputs": [],
   "source": [
    "## are--> + , - , * , / , % , // , ** \n"
   ]
  },
  {
   "cell_type": "code",
   "execution_count": null,
   "id": "0fab5b43",
   "metadata": {},
   "outputs": [
    {
     "name": "stdout",
     "output_type": "stream",
     "text": [
      "16\n",
      "8\n",
      "48\n",
      "3.0\n",
      "0\n",
      "3\n",
      "20736\n"
     ]
    }
   ],
   "source": [
    "a = 12 \n",
    "b = 4\n",
    "\n",
    "print(a+b)\n",
    "print(a-b)\n",
    "print(a*b)\n",
    "print(a/b) # this will provide quotient\n",
    "print(a%b) # this will provide remainder\n",
    "print(a//b) # this will provide quotient but it will provide floor value\n",
    "print(a**b)"
   ]
  },
  {
   "cell_type": "code",
   "execution_count": null,
   "id": "b2840777",
   "metadata": {},
   "outputs": [],
   "source": [
    "## 2. assignment --> = , += , -= , *= , /= , %= , //= , **= , &=\n",
    "## these are used to assign values"
   ]
  },
  {
   "cell_type": "code",
   "execution_count": 9,
   "id": "dde5ea72",
   "metadata": {},
   "outputs": [
    {
     "name": "stdout",
     "output_type": "stream",
     "text": [
      "17\n",
      "12\n",
      "60\n",
      "12.0\n",
      "15\n",
      "3\n",
      "243\n",
      "1\n"
     ]
    }
   ],
   "source": [
    "a = 12\n",
    "## compund assignment operations\n",
    "a += 5\n",
    "print(a)\n",
    "a -= 5\n",
    "print(a)\n",
    "a *= 5\n",
    "print(a)\n",
    "a /= 5\n",
    "print(a)\n",
    "a %= 5\n",
    "\n",
    "a=15\n",
    "print(a)\n",
    "a //= 5\n",
    "print(a)\n",
    "a **= 5\n",
    "print(a)\n",
    "a &= 5\n",
    "print(a)"
   ]
  },
  {
   "cell_type": "code",
   "execution_count": null,
   "id": "eeb44ad4",
   "metadata": {},
   "outputs": [],
   "source": [
    "## 3. Comparison Operators --> == , != , > , < , >= , <=\n",
    "## these are used to compare values"
   ]
  },
  {
   "cell_type": "code",
   "execution_count": null,
   "id": "f4202979",
   "metadata": {},
   "outputs": [
    {
     "name": "stdout",
     "output_type": "stream",
     "text": [
      "True\n",
      "False\n",
      "False\n",
      "False\n",
      "True\n",
      "True\n"
     ]
    }
   ],
   "source": [
    "a = 20\n",
    "b = 20\n",
    "print(a==b)\n",
    "print(a!=b)\n",
    "print(a>b)\n",
    "print(a<b)\n",
    "print(a>=b)\n",
    "print(a<=b)"
   ]
  },
  {
   "cell_type": "code",
   "execution_count": 15,
   "id": "96437463",
   "metadata": {},
   "outputs": [
    {
     "name": "stdout",
     "output_type": "stream",
     "text": [
      "65\n",
      "66\n",
      "False\n",
      "True\n",
      "False\n",
      "True\n",
      "False\n",
      "True\n"
     ]
    }
   ],
   "source": [
    "## to compare string we need to use their ascii values\n",
    "a = \"A\"\n",
    "b = \"B\"\n",
    "print(ord(a))\n",
    "print(ord(b))\n",
    "print(a==b)\n",
    "print(a!=b)\n",
    "print(a>b)\n",
    "print(a<b)\n",
    "print(a>=b)\n",
    "print(a<=b)"
   ]
  },
  {
   "cell_type": "code",
   "execution_count": 12,
   "id": "f9ded414",
   "metadata": {},
   "outputs": [],
   "source": [
    "## 4. Logical Operators --> and , or , not\n",
    "## these are used to combine conditions"
   ]
  },
  {
   "cell_type": "code",
   "execution_count": 17,
   "id": "a9a2f4a8",
   "metadata": {},
   "outputs": [
    {
     "name": "stdout",
     "output_type": "stream",
     "text": [
      "False\n",
      "True\n",
      "False\n",
      "True\n"
     ]
    }
   ],
   "source": [
    "a = True\n",
    "b = False\n",
    "print(a and b) ## this return true when both are true only\n",
    "print(a or b)  ## this rerurn true when any one is true\n",
    "print(not a)  ## this return false when condition is true\n",
    "print(not b)"
   ]
  },
  {
   "cell_type": "code",
   "execution_count": 19,
   "id": "3e77dfa2",
   "metadata": {},
   "outputs": [
    {
     "name": "stdout",
     "output_type": "stream",
     "text": [
      "False\n",
      "True\n",
      "True\n"
     ]
    }
   ],
   "source": [
    "print(15 >10 and 15 > 20)  ## t and f = f\n",
    "print(15 >10 or 15 > 20)   ## t or f = t\n",
    "print(15 >10 and 15 < 20)  ## t and t = t"
   ]
  },
  {
   "cell_type": "code",
   "execution_count": 23,
   "id": "6274e012",
   "metadata": {},
   "outputs": [
    {
     "name": "stdout",
     "output_type": "stream",
     "text": [
      "True\n"
     ]
    }
   ],
   "source": [
    "print ( 150>100 and 100<200 and 100==100 and 100!=10 )"
   ]
  },
  {
   "cell_type": "code",
   "execution_count": 25,
   "id": "057e99fe",
   "metadata": {},
   "outputs": [
    {
     "name": "stdout",
     "output_type": "stream",
     "text": [
      "True\n"
     ]
    }
   ],
   "source": [
    "print(12 >10 and 10<12 or 12>10 and 10>12)"
   ]
  },
  {
   "cell_type": "code",
   "execution_count": 26,
   "id": "fba8c97a",
   "metadata": {},
   "outputs": [
    {
     "name": "stdout",
     "output_type": "stream",
     "text": [
      "False\n",
      "True\n",
      "True\n",
      "False\n"
     ]
    }
   ],
   "source": [
    "print(126 > 130)\n",
    "print(456 == 456 )!= (235 == 236)\n",
    "print(12<10 or 45 == 56 or 69 > 70 or 15!= 13)\n",
    "print(True and bool(0))"
   ]
  },
  {
   "cell_type": "code",
   "execution_count": null,
   "id": "17f10c23",
   "metadata": {},
   "outputs": [],
   "source": []
  }
 ],
 "metadata": {
  "kernelspec": {
   "display_name": "Python 3",
   "language": "python",
   "name": "python3"
  },
  "language_info": {
   "codemirror_mode": {
    "name": "ipython",
    "version": 3
   },
   "file_extension": ".py",
   "mimetype": "text/x-python",
   "name": "python",
   "nbconvert_exporter": "python",
   "pygments_lexer": "ipython3",
   "version": "3.11.9"
  }
 },
 "nbformat": 4,
 "nbformat_minor": 5
}
