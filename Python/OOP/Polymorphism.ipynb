{
 "cells": [
  {
   "cell_type": "markdown",
   "id": "a6ba9459",
   "metadata": {},
   "source": [
    "## Polymorphism --> multiple forms\n",
    "\n",
    "it allows the same interface or method name to behave differently depending on the object or context"
   ]
  },
  {
   "cell_type": "markdown",
   "id": "64657996",
   "metadata": {},
   "source": [
    "Types of Polymorphism :\n",
    "\n",
    "### 1. Method Overloading (this doesn't work in python)\n",
    "    --> same method name with different parameters\n",
    "\n",
    "### 2. Method Overriding \n",
    "    --> same method name with same parameters"
   ]
  },
  {
   "cell_type": "code",
   "execution_count": 4,
   "id": "ce9cadd9",
   "metadata": {},
   "outputs": [
    {
     "name": "stdout",
     "output_type": "stream",
     "text": [
      "Your Child name is bholu and your age is 16 and your gender is male\n"
     ]
    }
   ],
   "source": [
    "## method overriding\n",
    "class Parent:\n",
    "    def __init__(self,name, age,gender):\n",
    "        self.name = name\n",
    "        self.age = age\n",
    "        self.gender = gender\n",
    "    \n",
    "    def show(self,name,age):\n",
    "        print(f\"Your Parent name is {name} and your age is {age}\")\n",
    "\n",
    "class Child(Parent):\n",
    "    def show(self,name,age,gender):\n",
    "        print(f\"Your Child name is {name} and your age is {age} and your gender is {gender}\")\n",
    "\n",
    "obj = Child(\"bholu\",16,\"male\")\n",
    "# obj.show(\"bholu\",16 )\n",
    "obj.show(\"bholu\",16,\"male\")\n"
   ]
  },
  {
   "cell_type": "code",
   "execution_count": 5,
   "id": "84b06bc5",
   "metadata": {},
   "outputs": [],
   "source": [
    "## method overloading doesn't work in python"
   ]
  },
  {
   "cell_type": "code",
   "execution_count": 6,
   "id": "4a2fd64c",
   "metadata": {},
   "outputs": [
    {
     "name": "stdout",
     "output_type": "stream",
     "text": [
      "I am a human\n",
      "I am an animal\n"
     ]
    }
   ],
   "source": [
    "## Duck Typing\n",
    "\n",
    "class Animal:\n",
    "    def show(self): \n",
    "        print(\"I am an animal\")\n",
    "\n",
    "class Human:\n",
    "    def show(self):\n",
    "        print(\"I am a human\")\n",
    "\n",
    "obj = Human()\n",
    "obj.show()\n",
    "obj = Animal()\n",
    "obj.show()"
   ]
  }
 ],
 "metadata": {
  "kernelspec": {
   "display_name": "Python 3",
   "language": "python",
   "name": "python3"
  },
  "language_info": {
   "codemirror_mode": {
    "name": "ipython",
    "version": 3
   },
   "file_extension": ".py",
   "mimetype": "text/x-python",
   "name": "python",
   "nbconvert_exporter": "python",
   "pygments_lexer": "ipython3",
   "version": "3.11.9"
  }
 },
 "nbformat": 4,
 "nbformat_minor": 5
}
