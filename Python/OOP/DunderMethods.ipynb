{
 "cells": [
  {
   "cell_type": "markdown",
   "id": "38354880",
   "metadata": {},
   "source": [
    "#### Dunder Methods are special methods in python that start with __ and end with __ . e.g. __init__ , __str__ etc.\n"
   ]
  },
  {
   "cell_type": "markdown",
   "id": "762b99e6",
   "metadata": {},
   "source": [
    "#### they automatically get called when you perform certain actions on an object"
   ]
  },
  {
   "cell_type": "markdown",
   "id": "3b9d6f7f",
   "metadata": {},
   "source": [
    "#### they help us :-->\n",
    "1. customize the behaviour of a class\n",
    "2. make your class objects behave like built-in data types . e.g. str() , int() ,lists ,etc"
   ]
  },
  {
   "cell_type": "code",
   "execution_count": 3,
   "id": "dcdcb5bd",
   "metadata": {},
   "outputs": [
    {
     "name": "stdout",
     "output_type": "stream",
     "text": [
      "Hello your name is bholu\n"
     ]
    }
   ],
   "source": [
    "class Animal:\n",
    "    def __init__(self,name):\n",
    "        self.name = name\n",
    "\n",
    "    def __str__(self):\n",
    "        return f\"Hello your name is {self.name}\"\n",
    "    \n",
    "obj = Animal(\"bholu\")\n",
    "print(obj)"
   ]
  },
  {
   "cell_type": "code",
   "execution_count": 9,
   "id": "52f0592d",
   "metadata": {},
   "outputs": [
    {
     "name": "stdout",
     "output_type": "stream",
     "text": [
      "Your sum of ages are 32\n"
     ]
    }
   ],
   "source": [
    "## __add__ dunder method\n",
    "class Animal:\n",
    "    def __init__(self,name,age):\n",
    "        self.name = name\n",
    "        self.age = age\n",
    "\n",
    "    def __str__(self):\n",
    "        return f\"Hello your name is {self.name}\"\n",
    "    \n",
    "    def __add__(self,other):\n",
    "        return f\"Your sum of ages are {self.age + other.age}\" ## self.name + other.name\n",
    "    \n",
    "obj = Animal(\"bholu\",16)\n",
    "obj1 = Animal(\"dholu\",16)\n",
    "print(obj+obj1)"
   ]
  },
  {
   "cell_type": "code",
   "execution_count": null,
   "id": "8c403e9a",
   "metadata": {},
   "outputs": [],
   "source": []
  }
 ],
 "metadata": {
  "kernelspec": {
   "display_name": "Python 3",
   "language": "python",
   "name": "python3"
  },
  "language_info": {
   "codemirror_mode": {
    "name": "ipython",
    "version": 3
   },
   "file_extension": ".py",
   "mimetype": "text/x-python",
   "name": "python",
   "nbconvert_exporter": "python",
   "pygments_lexer": "ipython3",
   "version": "3.11.9"
  }
 },
 "nbformat": 4,
 "nbformat_minor": 5
}
