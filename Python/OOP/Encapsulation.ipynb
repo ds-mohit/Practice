{
 "cells": [
  {
   "cell_type": "markdown",
   "id": "961f3def",
   "metadata": {},
   "source": [
    "#### ```Encapsualtion``` is defined as the ability of ```a class to hide its internal data ```from the outside world."
   ]
  },
  {
   "cell_type": "markdown",
   "id": "2f29e24e",
   "metadata": {},
   "source": [
    "#### It is also used for binding data and methods together."
   ]
  },
  {
   "cell_type": "markdown",
   "id": "d766e3a7",
   "metadata": {},
   "source": [
    "#### ```Access Modifier ```\n",
    "\n",
    "#### 1. Public --> by default -->attributes and methods\n",
    "it can be accessed by the outside world\n",
    "\n",
    "#### 2. Private --> starting with __ and it can't be access by the outside world\n",
    "\n",
    "#### 3. Protected --> starting with _ but every attributes and methods are accessible outside the class \n",
    "And it has no use in Python but we use it to differentiate bwtween Public and Protected attributes and methods"
   ]
  },
  {
   "cell_type": "markdown",
   "id": "cec461e8",
   "metadata": {},
   "source": []
  },
  {
   "cell_type": "code",
   "execution_count": 1,
   "id": "3e075b9d",
   "metadata": {},
   "outputs": [
    {
     "name": "stdout",
     "output_type": "stream",
     "text": [
      "Welcome to Pune\n"
     ]
    }
   ],
   "source": [
    "## Default Encapsulation\n",
    "class Factory:\n",
    "    a = \"Pune\"\n",
    "\n",
    "    def show(self):\n",
    "        print(\"Welcome to\", self.a)\n",
    "\n",
    "obj = Factory()\n",
    "obj.show()"
   ]
  },
  {
   "cell_type": "code",
   "execution_count": 2,
   "id": "b1b4a624",
   "metadata": {},
   "outputs": [
    {
     "name": "stdout",
     "output_type": "stream",
     "text": [
      "Welcome to Pune\n"
     ]
    }
   ],
   "source": [
    "## Protected Encapsulation\n",
    "class Factory:\n",
    "    _a = \"Pune\"\n",
    "\n",
    "    def show(self):\n",
    "        print(\"Welcome to\", self._a)\n",
    "\n",
    "obj = Factory()\n",
    "obj.show()"
   ]
  },
  {
   "cell_type": "code",
   "execution_count": 17,
   "id": "896d17f8",
   "metadata": {},
   "outputs": [
    {
     "ename": "AttributeError",
     "evalue": "'Factory' object has no attribute '__show'",
     "output_type": "error",
     "traceback": [
      "\u001b[31m---------------------------------------------------------------------------\u001b[39m",
      "\u001b[31mAttributeError\u001b[39m                            Traceback (most recent call last)",
      "\u001b[36mCell\u001b[39m\u001b[36m \u001b[39m\u001b[32mIn[17]\u001b[39m\u001b[32m, line 9\u001b[39m\n\u001b[32m      6\u001b[39m         \u001b[38;5;28mprint\u001b[39m(\u001b[33m\"\u001b[39m\u001b[33mhello to\u001b[39m\u001b[33m\"\u001b[39m, \u001b[38;5;28mself\u001b[39m.__a)\n\u001b[32m      8\u001b[39m obj = Factory()\n\u001b[32m----> \u001b[39m\u001b[32m9\u001b[39m \u001b[43mobj\u001b[49m\u001b[43m.\u001b[49m\u001b[43m__show\u001b[49m() \u001b[38;5;66;03m## this is giving error because \u001b[39;00m\n\u001b[32m     10\u001b[39m \u001b[38;5;66;03m## we are trying to access private variable\u001b[39;00m\n",
      "\u001b[31mAttributeError\u001b[39m: 'Factory' object has no attribute '__show'"
     ]
    }
   ],
   "source": [
    "## Default Encapsulation\n",
    "class Factory:\n",
    "    __a = \"Pune\"\n",
    "\n",
    "    def __show(self):\n",
    "        print(\"hello to\", self.__a)\n",
    "\n",
    "obj = Factory()\n",
    "obj.__show() ## this is giving error because \n",
    "## we are trying to access private variable"
   ]
  },
  {
   "cell_type": "code",
   "execution_count": null,
   "id": "690af7b2",
   "metadata": {},
   "outputs": [
    {
     "name": "stdout",
     "output_type": "stream",
     "text": [
      "Pune\n"
     ]
    }
   ],
   "source": [
    "## Private Encapsulation\n",
    "class Factory:\n",
    "    __a = \"Pune\"\n",
    "\n",
    "    def show(self):\n",
    "        print(Factory.__a) ## this is accessing private virables in class itself\n",
    "        ## which will help in printing variable\n",
    "\n",
    "obj = Factory()\n",
    "obj.show()"
   ]
  },
  {
   "cell_type": "code",
   "execution_count": 19,
   "id": "14f24da0",
   "metadata": {},
   "outputs": [
    {
     "name": "stdout",
     "output_type": "stream",
     "text": [
      "Inside the Class\n",
      " Public   Public Member\n",
      "Protected 21\n",
      " Private  50000\n"
     ]
    }
   ],
   "source": [
    "class Data:\n",
    "    def __init__(self):\n",
    "        self.name = \" Public Member\" ## default\n",
    "        self._age = 21 ## protected\n",
    "        self.__salary = 50000 ## private\n",
    "\n",
    "    def show(self):\n",
    "        print(\"Inside the Class\")\n",
    "        print(\" Public \",self.name)\n",
    "        print(\"Protected\" ,self._age)\n",
    "        print(\" Private \",self.__salary)\n",
    "\n",
    "obj = Data()\n",
    "obj.show()"
   ]
  },
  {
   "cell_type": "code",
   "execution_count": null,
   "id": "1d67e505",
   "metadata": {},
   "outputs": [],
   "source": []
  }
 ],
 "metadata": {
  "kernelspec": {
   "display_name": "Python 3",
   "language": "python",
   "name": "python3"
  },
  "language_info": {
   "codemirror_mode": {
    "name": "ipython",
    "version": 3
   },
   "file_extension": ".py",
   "mimetype": "text/x-python",
   "name": "python",
   "nbconvert_exporter": "python",
   "pygments_lexer": "ipython3",
   "version": "3.11.9"
  }
 },
 "nbformat": 4,
 "nbformat_minor": 5
}
