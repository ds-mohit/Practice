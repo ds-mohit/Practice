{
 "cells": [
  {
   "cell_type": "markdown",
   "id": "2007d29c",
   "metadata": {},
   "source": [
    "#### OOP is object oriented programming"
   ]
  },
  {
   "cell_type": "markdown",
   "id": "0054144c",
   "metadata": {},
   "source": [
    "##### for this we need to create a class and object"
   ]
  },
  {
   "cell_type": "markdown",
   "id": "5367f6a7",
   "metadata": {},
   "source": [
    "##### Class is the blueprint of the object\n",
    "##### object is the instance of the class"
   ]
  },
  {
   "cell_type": "code",
   "execution_count": 11,
   "id": "3ab5278a",
   "metadata": {},
   "outputs": [
    {
     "name": "stdout",
     "output_type": "stream",
     "text": [
      "hello how are you i am getting initialised.\n",
      "12\n",
      "hello\n",
      "None\n"
     ]
    }
   ],
   "source": [
    "class Factory:\n",
    "    a = 12  ## this is a variable but we are declaring it in class then it will known as attribute\n",
    "\n",
    "    def hello(self): ## this is function but we call it method due to it's declared inside class\n",
    "        print(\"hello\")\n",
    "\n",
    "    print(\"hello how are you i am getting initialised.\")\n",
    "\n",
    "print(Factory().a)\n",
    "print(Factory().hello())"
   ]
  },
  {
   "cell_type": "code",
   "execution_count": 12,
   "id": "b519d22f",
   "metadata": {},
   "outputs": [
    {
     "name": "stdout",
     "output_type": "stream",
     "text": [
      "BMW\n",
      "2024\n",
      "hello\n",
      "None\n"
     ]
    }
   ],
   "source": [
    "## now using object\n",
    "class Car:\n",
    "    model=\"BMW\"\n",
    "    age = 2024\n",
    "\n",
    "    def hello(self):\n",
    "        print(\"hello\")\n",
    "\n",
    "obj = Car()\n",
    "print(obj.model)\n",
    "print(obj.age)\n",
    "print(obj.hello())"
   ]
  },
  {
   "cell_type": "code",
   "execution_count": null,
   "id": "4d7bfdf2",
   "metadata": {},
   "outputs": [
    {
     "name": "stdout",
     "output_type": "stream",
     "text": [
      "<__main__.Factory object at 0x000001952BBEBF90>\n"
     ]
    }
   ],
   "source": [
    "## Constructor --> it is a special method which is run automatically when object is created.\n",
    "## it is used to take values / parameters in class\n",
    "\n",
    "class Factory:\n",
    "    def __init__(self , material , zips , pockets): ## we are initializing class using constructor\n",
    "        pass\n",
    "\n",
    "\n",
    "Fastrack = Factory(\"leather\" , 10 , 4)\n",
    "print(obj)\n",
    "\n"
   ]
  },
  {
   "cell_type": "code",
   "execution_count": 20,
   "id": "d96e8b82",
   "metadata": {},
   "outputs": [
    {
     "name": "stdout",
     "output_type": "stream",
     "text": [
      "4\n",
      "Our values are :  leather , 10 , 4 \n"
     ]
    }
   ],
   "source": [
    "## using constructor\n",
    "class Factory:\n",
    "    def __init__(self , material , zips , pockets): ## self is containing the location of object\n",
    "        ## for every object self has different location.\n",
    "        self.material = material ## this is instance variable like obj.material\n",
    "        self.zips = zips\n",
    "        self.pockets = pockets\n",
    "\n",
    "## we are creating method to print the values    \n",
    "    def show(self, material , zips , pockets): \n",
    "        print(f\"Our values are :  {self.material} , {self.zips} , {self.pockets} \")\n",
    "\n",
    "\n",
    "Fastrack = Factory(\"leather\" , 10 , 4)\n",
    "print(Fastrack.pockets) ## here we are directly accessing the instance variable\n",
    "Fastrack.show(\"leather\" , 10 , 4) ## here we are directly accessing the method\n",
    "## to print our all values in method"
   ]
  },
  {
   "cell_type": "code",
   "execution_count": null,
   "id": "30b12a87",
   "metadata": {},
   "outputs": [],
   "source": []
  }
 ],
 "metadata": {
  "kernelspec": {
   "display_name": "Python 3",
   "language": "python",
   "name": "python3"
  },
  "language_info": {
   "codemirror_mode": {
    "name": "ipython",
    "version": 3
   },
   "file_extension": ".py",
   "mimetype": "text/x-python",
   "name": "python",
   "nbconvert_exporter": "python",
   "pygments_lexer": "ipython3",
   "version": "3.11.9"
  }
 },
 "nbformat": 4,
 "nbformat_minor": 5
}
