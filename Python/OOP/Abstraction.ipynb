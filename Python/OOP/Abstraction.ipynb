{
 "cells": [
  {
   "cell_type": "markdown",
   "id": "ac9e724a",
   "metadata": {},
   "source": [
    "#### Abstraction is used to simplifying complex systems by focusing on essential features and hiding unnecessary details\n",
    "\n",
    "or\n",
    "\n",
    "```we want to set up some rules and regulations for the user to follow```"
   ]
  },
  {
   "cell_type": "markdown",
   "id": "3571de6e",
   "metadata": {},
   "source": [
    "##### This also not exist in Python but we can use it by importing ABC and abstractmethod "
   ]
  },
  {
   "cell_type": "markdown",
   "id": "c09511e0",
   "metadata": {},
   "source": [
    "##### Abstract classes are classes that contains one or more abstract methods\n",
    "\n",
    "##### A method that is defined but not implemented in the abstract class , Subclasses must provide the implementation"
   ]
  },
  {
   "cell_type": "code",
   "execution_count": 1,
   "id": "e60a612c",
   "metadata": {},
   "outputs": [],
   "source": [
    "from abc import ABC, abstractmethod"
   ]
  },
  {
   "cell_type": "code",
   "execution_count": null,
   "id": "86152e67",
   "metadata": {},
   "outputs": [],
   "source": []
  }
 ],
 "metadata": {
  "kernelspec": {
   "display_name": "Python 3",
   "language": "python",
   "name": "python3"
  },
  "language_info": {
   "codemirror_mode": {
    "name": "ipython",
    "version": 3
   },
   "file_extension": ".py",
   "mimetype": "text/x-python",
   "name": "python",
   "nbconvert_exporter": "python",
   "pygments_lexer": "ipython3",
   "version": "3.11.9"
  }
 },
 "nbformat": 4,
 "nbformat_minor": 5
}
