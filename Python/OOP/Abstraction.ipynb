{
 "cells": [
  {
   "cell_type": "markdown",
   "id": "ac9e724a",
   "metadata": {},
   "source": [
    "#### Abstraction is used to simplifying complex systems by focusing on essential features and hiding unnecessary details\n",
    "\n",
    "or\n",
    "\n",
    "```we want to set up some rules and regulations for the user to follow```"
   ]
  },
  {
   "cell_type": "markdown",
   "id": "3571de6e",
   "metadata": {},
   "source": [
    "##### This also not exist in Python but we can use it by importing ABC and abstractmethod "
   ]
  },
  {
   "cell_type": "markdown",
   "id": "c09511e0",
   "metadata": {},
   "source": [
    "##### Abstract classes are classes that contains one or more abstract methods\n",
    "\n",
    "##### A method that is defined but not implemented in the abstract class , Subclasses must provide the implementation"
   ]
  },
  {
   "cell_type": "code",
   "execution_count": 1,
   "id": "e60a612c",
   "metadata": {},
   "outputs": [],
   "source": [
    "from abc import ABC, abstractmethod"
   ]
  },
  {
   "cell_type": "code",
   "execution_count": 3,
   "id": "86152e67",
   "metadata": {},
   "outputs": [
    {
     "ename": "TypeError",
     "evalue": "Can't instantiate abstract class Square with abstract methods area, perimeter",
     "output_type": "error",
     "traceback": [
      "\u001b[31m---------------------------------------------------------------------------\u001b[39m",
      "\u001b[31mTypeError\u001b[39m                                 Traceback (most recent call last)",
      "\u001b[36mCell\u001b[39m\u001b[36m \u001b[39m\u001b[32mIn[3]\u001b[39m\u001b[32m, line 17\u001b[39m\n\u001b[32m     14\u001b[39m     \u001b[38;5;28;01mdef\u001b[39;00m\u001b[38;5;250m \u001b[39m\u001b[34m__init__\u001b[39m(\u001b[38;5;28mself\u001b[39m, radius):\n\u001b[32m     15\u001b[39m         \u001b[38;5;28mself\u001b[39m.radius = radius\n\u001b[32m---> \u001b[39m\u001b[32m17\u001b[39m obj = \u001b[43mSquare\u001b[49m\u001b[43m(\u001b[49m\u001b[32;43m10\u001b[39;49m\u001b[43m)\u001b[49m  \n\u001b[32m     18\u001b[39m \u001b[38;5;66;03m## this will raise an error because when we inherit the abstract class we have to \u001b[39;00m\n\u001b[32m     19\u001b[39m \u001b[38;5;66;03m## also need to create the methods and variables defined in the abstract method\u001b[39;00m\n",
      "\u001b[31mTypeError\u001b[39m: Can't instantiate abstract class Square with abstract methods area, perimeter"
     ]
    }
   ],
   "source": [
    "class abstract(ABC):\n",
    "    @abstractmethod\n",
    "    def perimeter(self):\n",
    "        pass\n",
    "    @abstractmethod\n",
    "    def area(self):\n",
    "        pass\n",
    "\n",
    "class Square(abstract):\n",
    "    def __init__(self, side):\n",
    "        self.side = side\n",
    "\n",
    "class Circle(abstract):\n",
    "    def __init__(self, radius):\n",
    "        self.radius = radius\n",
    "\n",
    "obj = Square(10)  \n",
    "## this will raise an error because when we inherit the abstract class we have to \n",
    "## also need to create the methods and variables defined in the abstract method"
   ]
  },
  {
   "cell_type": "code",
   "execution_count": 9,
   "id": "97f1e12a",
   "metadata": {},
   "outputs": [
    {
     "name": "stdout",
     "output_type": "stream",
     "text": [
      "100\n",
      "40\n",
      "314.0\n",
      "62.800000000000004\n"
     ]
    }
   ],
   "source": [
    "class abstract(ABC):\n",
    "    @abstractmethod\n",
    "    def perimeter(self):\n",
    "        pass\n",
    "    @abstractmethod\n",
    "    def area(self):\n",
    "        pass\n",
    "\n",
    "class Square(abstract):\n",
    "    def __init__(self, side):\n",
    "        self.side = side\n",
    "    \n",
    "    def area(self):\n",
    "        return self.side * self.side\n",
    "    \n",
    "    def perimeter(self):\n",
    "        return 4 * self.side\n",
    "\n",
    "class Circle(abstract):\n",
    "    def __init__(self, radius):\n",
    "        self.radius = radius\n",
    "    \n",
    "    def area(self):\n",
    "        return 3.14 * self.radius * self.radius\n",
    "    \n",
    "    def perimeter(self):\n",
    "        return 2 * 3.14 * self.radius\n",
    "\n",
    "obj = Square(10)  \n",
    "print(obj.area())\n",
    "print(obj.perimeter())\n",
    "\n",
    "obj = Circle(10)  \n",
    "print(obj.area())\n",
    "print(obj.perimeter())"
   ]
  },
  {
   "cell_type": "code",
   "execution_count": null,
   "id": "db7af24f",
   "metadata": {},
   "outputs": [],
   "source": []
  }
 ],
 "metadata": {
  "kernelspec": {
   "display_name": "Python 3",
   "language": "python",
   "name": "python3"
  },
  "language_info": {
   "codemirror_mode": {
    "name": "ipython",
    "version": 3
   },
   "file_extension": ".py",
   "mimetype": "text/x-python",
   "name": "python",
   "nbconvert_exporter": "python",
   "pygments_lexer": "ipython3",
   "version": "3.11.9"
  }
 },
 "nbformat": 4,
 "nbformat_minor": 5
}
