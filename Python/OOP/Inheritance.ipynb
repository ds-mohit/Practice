{
 "cells": [
  {
   "cell_type": "markdown",
   "id": "12db34dc",
   "metadata": {},
   "source": [
    "#### This is one of the pillar of OOP"
   ]
  },
  {
   "cell_type": "markdown",
   "id": "6a0f7984",
   "metadata": {},
   "source": [
    "Inheritance is defined as the ability of one class to derive or inherit the properties from another class"
   ]
  },
  {
   "cell_type": "markdown",
   "id": "92a485cd",
   "metadata": {},
   "source": []
  }
 ],
 "metadata": {
  "language_info": {
   "name": "python"
  }
 },
 "nbformat": 4,
 "nbformat_minor": 5
}
