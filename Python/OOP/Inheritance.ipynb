{
 "cells": [
  {
   "cell_type": "markdown",
   "id": "12db34dc",
   "metadata": {},
   "source": [
    "#### This is one of the pillar of OOP"
   ]
  },
  {
   "cell_type": "markdown",
   "id": "6a0f7984",
   "metadata": {},
   "source": [
<<<<<<< HEAD
    "```Inheritance ``` is defined as the ability of  ```one class ( child class) ```to derive or inherit the properties from ```another class (Parent class).```"
=======
    "Inheritance is defined as the ability of one class to derive or inherit the properties from another class . "
>>>>>>> 8c7e5195fb37192835322581a982c4e90fbcd5b5
   ]
  },
  {
   "cell_type": "code",
   "execution_count": 2,
   "id": "d021a745",
   "metadata": {},
   "outputs": [
    {
     "name": "stdout",
     "output_type": "stream",
     "text": [
      " i am attribute of factory class\n",
      "I am method of factory class\n"
     ]
    }
   ],
   "source": [
    "class Factory: ## PArent class / superclass\n",
    "    a = \" i am attribute of factory class\"\n",
    "\n",
    "    def hello(self):\n",
    "        print(\"I am method of factory class\")\n",
    "\n",
    "class Factory1(Factory): ## child class / sub class\n",
    "    pass\n",
    "\n",
    "obj = Factory()\n",
    "print(obj.a)\n",
    "\n",
    "obj2 = Factory1()\n",
    "obj2.hello()"
   ]
  },
  {
   "cell_type": "code",
   "execution_count": 8,
   "id": "ba6ded5b",
   "metadata": {},
   "outputs": [
    {
     "name": "stdout",
     "output_type": "stream",
     "text": [
      "Hello your name is bholu\n"
     ]
    }
   ],
   "source": [
    "## constructor in inheritance\n",
    "class Animal:\n",
    "    def __init__(self,name):\n",
    "        self.name = name \n",
    "\n",
    "    def show(self):\n",
    "        print(f\"Hello your name is {self.name}\")\n",
    "\n",
    "class Human(Animal):\n",
    "    pass\n",
    "\n",
    "obj = Human(\"bholu\")\n",
    "obj.show()"
   ]
  },
  {
   "cell_type": "code",
   "execution_count": 12,
   "id": "a42f1df7",
   "metadata": {},
   "outputs": [
    {
     "name": "stdout",
     "output_type": "stream",
     "text": [
      "Hello your name is bholu and your age is 16\n"
     ]
    }
   ],
   "source": [
    "class Animal:\n",
    "    def __init__(self,name):\n",
    "        self.name = name \n",
    "\n",
    "    def show(self):\n",
    "        print(f\"Hello your name is {self.name} \")\n",
    "\n",
    "class Human(Animal):\n",
    "    def __init__(self,name, age): ## here super will target Animal class\n",
    "        super().__init__(name)\n",
    "        self.age = age\n",
    "    def show(self):\n",
    "        print(f\"Hello your name is {self.name} and your age is {self.age}\")\n",
    "        \n",
    "obj = Human(\"bholu\",16)\n",
    "obj.show()"
   ]
  },
  {
   "cell_type": "code",
   "execution_count": 31,
   "id": "a140e6e8",
   "metadata": {},
   "outputs": [],
   "source": [
    "## Types of Inheritance\n",
    "## 1. Single Inheritance --> 1 parent and 1 child class\n",
    "## 2. Multiple Inheritance --> 2 parent and 1 child class\n",
    "## 3. Multilevel Inheritance --> 1 parent and child class and child class of child\n",
    "## 4. Hierarchical Inheritance --> 1 parent and 2 child class\n",
    "## 5. Hybrid Inheritance --> 2 parent and 2 child class"
   ]
  },
  {
   "cell_type": "code",
   "execution_count": 14,
   "id": "cac8770d",
   "metadata": {},
   "outputs": [
    {
     "name": "stdout",
     "output_type": "stream",
     "text": [
      "Lion\n",
      "Bholu\n",
      "chiti 2.0\n"
     ]
    }
   ],
   "source": [
    "## Multiple inheritance\n",
    "\n",
    "class Animal:\n",
    "    name1 = \"Lion\"\n",
    "\n",
    "class Human:\n",
    "    name2 = \"Bholu\"\n",
    "\n",
    "class Robot(Animal,Human):\n",
    "    name3 = \"chiti 2.0\"\n",
    "obj = Robot()\n",
    "print(obj.name1)\n",
    "print(obj.name2)\n",
    "print(obj.name3)"
   ]
  },
  {
   "cell_type": "code",
   "execution_count": 22,
   "id": "ad8eaf1c",
   "metadata": {},
   "outputs": [
    {
     "name": "stdout",
     "output_type": "stream",
     "text": [
      "bholu1\n",
      "bholu2\n",
      "16\n"
     ]
    }
   ],
   "source": [
    "class Animal:\n",
    "    def __init__(self, name1, **kwargs):\n",
    "        super().__init__(**kwargs)  # Pass remaining args to next class in MRO\n",
    "        self.name1 = name1\n",
    "\n",
    "class Human:\n",
    "    def __init__(self, name2, age, **kwargs):\n",
    "        super().__init__(**kwargs)  # Pass remaining args\n",
    "        self.name2 = name2\n",
    "        self.age = age\n",
    "\n",
    "class Robot(Human, Animal):\n",
    "    name3 = \"chiti 2.0\"\n",
    "    def __init__(self, name1, name2, age):\n",
    "        super().__init__(name1=name1, name2=name2, age=age)\n",
    "\n",
    "obj = Robot(\"bholu1\", \"bholu2\", 16)\n",
    "print(obj.name1)  # bholu1\n",
    "print(obj.name2)  # bholu2\n",
    "print(obj.age)    # 16\n"
   ]
  },
  {
   "cell_type": "code",
   "execution_count": 24,
   "id": "a44e77e1",
   "metadata": {},
   "outputs": [
    {
     "name": "stdout",
     "output_type": "stream",
     "text": [
      "cotton\n",
      "100\n",
      "red\n",
      "5\n"
     ]
    }
   ],
   "source": [
    "## 3. Multilevel inheritance\n",
    "class Factory:\n",
    "    def __init__(self , material , zips ): ## self is containing the location of object\n",
    "        ## for every object self has different location.\n",
    "        self.material = material ## this is instance variable like obj.material\n",
    "        self.zips = zips\n",
    "\n",
    "class FactoryMumbai(Factory):\n",
    "    def __init__(self , material , zips ,colors):\n",
    "        super().__init__(material , zips)\n",
    "        self.colors = colors\n",
    "\n",
    "class FactoryPune(FactoryMumbai):\n",
    "    def __init__(self , material , zips ,colors , pockets):\n",
    "        super().__init__(material , zips , colors )\n",
    "        self.pockets = pockets\n",
    "\n",
    "obj = FactoryPune(\"cotton\" , 100 , \"red\" , 5)\n",
    "print(obj.material)\n",
    "print(obj.zips)\n",
    "print(obj.colors)\n",
    "print(obj.pockets)"
   ]
  },
  {
   "cell_type": "code",
   "execution_count": 30,
   "id": "4684d825",
   "metadata": {},
   "outputs": [
    {
     "name": "stdout",
     "output_type": "stream",
     "text": [
      "cotton\n",
      "100\n",
      "5\n",
      "cotton\n",
      "100\n",
      "red\n"
     ]
    }
   ],
   "source": [
    "## hierarchical inheritance\n",
    "\n",
    "class Factory:\n",
    "    def __init__(self , material , zips ): ## self is containing the location of object\n",
    "        ## for every object self has different location.\n",
    "        self.material = material ## this is instance variable like obj.material\n",
    "        self.zips = zips\n",
    "\n",
    "class FactoryMumbai(Factory):\n",
    "    def __init__(self , material , zips ,colors):\n",
    "        super().__init__(material , zips)\n",
    "        self.colors = colors\n",
    "\n",
    "class FactoryPune(Factory):\n",
    "    def __init__(self , material , zips, pockets):\n",
    "        super().__init__(material , zips )\n",
    "        self.pockets = pockets\n",
    "\n",
    "obj = FactoryPune(\"cotton\" , 100 , 5)\n",
    "print(obj.material)\n",
    "print(obj.zips)\n",
    "print(obj.pockets)\n",
    "\n",
    "obj1= FactoryMumbai(\"cotton\" , 100 , \"red\")\n",
    "print(obj1.material)\n",
    "print(obj1.zips)\n",
    "print(obj1.colors)"
   ]
  },
  {
   "cell_type": "code",
   "execution_count": null,
   "id": "8e089ff5",
   "metadata": {},
   "outputs": [],
   "source": []
  }
 ],
 "metadata": {
  "kernelspec": {
   "display_name": "Python 3",
   "language": "python",
   "name": "python3"
  },
  "language_info": {
   "codemirror_mode": {
    "name": "ipython",
    "version": 3
   },
   "file_extension": ".py",
   "mimetype": "text/x-python",
   "name": "python",
   "nbconvert_exporter": "python",
   "pygments_lexer": "ipython3",
   "version": "3.11.9"
  }
 },
 "nbformat": 4,
 "nbformat_minor": 5
}
