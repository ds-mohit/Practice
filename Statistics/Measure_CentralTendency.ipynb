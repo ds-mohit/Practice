{
 "cells": [
  {
   "cell_type": "markdown",
   "id": "7956bcdc",
   "metadata": {},
   "source": [
    "#### ```In this we analyse the data and find the central tendency```"
   ]
  },
  {
   "cell_type": "markdown",
   "id": "720a20c5",
   "metadata": {},
   "source": [
    "#### ```Measure of Central Tendency```\n",
    "--> is different ways we can come up to describe the middle part of the our data.\n",
    "\n",
    "``` 1. Mean ``` :--> It is the average of the data.\n",
    "mean = sum of all numbers/ total numbers\n",
    "\n",
    "Fancy representation in Statistics :--> $$\\bar{x} = \\frac{\\sum x_i}{n}$$\n",
    "\n",
    "``` 2. Median ``` :--> It is the middle number of the data.\n",
    "for odd length of data :--> directly middle element\n",
    "\n",
    "for even length of data :--> sum of middle two elements / 2\n",
    "\n",
    "``` 3. Mode ``` :--> It is the most frequent number of the data.\n",
    "\n",
    "```case 1 ```:--> when there is ```no mode``` means no element is repeated.\n",
    "\n",
    "```case 2 ```:--> when there is ```one mode ``` means one element is repeated.\n",
    "\n",
    "```case 3``` :--> when there is more than one mode means repeated length of elements are equal like 2,3 both repeated 3 times , means 2 and 3 are modes. this is known as ```bimodal . ```\n"
   ]
  },
  {
   "cell_type": "code",
   "execution_count": 1,
   "id": "9cdfae7b",
   "metadata": {},
   "outputs": [
    {
     "name": "stdout",
     "output_type": "stream",
     "text": [
      "3.0\n"
     ]
    }
   ],
   "source": [
    "def mean(*args):\n",
    "    return sum(args) / len(args)\n",
    "print(mean(1,2,3,4,5))"
   ]
  },
  {
   "cell_type": "markdown",
   "id": "95b01d5f",
   "metadata": {},
   "source": [
    "### ```Measure of Spread ```\n",
    "\n",
    "in this we find central point of our data but we also have to talk about measure of spread , how are data is spreaded out around it's centre.\n",
    "\n",
    "we will talk about Range and IQR(Interquartile range ) , variance and standard deviation "
   ]
  },
  {
   "cell_type": "markdown",
   "id": "d9c77fe2",
   "metadata": {},
   "source": [
    "#### ```Range``` : \n",
    "to find the range we need to substract the highest data point with the smallest data point.\n",
    "\n",
    "Range = max - min\n",
    "\n",
    "#### ```Interquartile range(IQR)``` :\n",
    "for understanding this first we need to understand quartiles because in IQR we are measuring distance between one quarter and another quarter. \n",
    "\n",
    "e.g. 12,12,13,14,{15}Q1 ,17,20,20,28,{28.5 Q2} ,29,31,35,46,{46}Q3,48,51,59,60\n",
    "so IQR is Q3 - Q1 \n",
    "\n",
    "it tells if the IQR is low it means the data is close to the median. \n",
    "\n",
    "if IQR is high it means the data is highly spread from the centre.\n"
   ]
  },
  {
   "cell_type": "markdown",
   "id": "5ef91855",
   "metadata": {},
   "source": [
    "### ```OUTLIERS ```:\n",
    "Outliers can distort measures like mean and standard deviation , making them less representative of the data . \n",
    "\n",
    "\n",
    "in ml, especially regression models, outliers can disproportionately influence the model , leading to poor generalisation . \n",
    "\n",
    "outliers impact our model performance our statistical testing and many other things so we have to get rid of them.\n",
    "\n",
    "so we have to get rid of them by use upper and lower fence in our data and by using that we can get rid of outliers.\n",
    "\n",
    "fence is finded by using IQR so \n",
    "\n",
    "```Upper fence is Q3 + 1.5 * IQR```\n",
    "\n",
    "```Lower fence is Q1 - 1.5 * IQR```\n",
    "\n"
   ]
  },
  {
   "cell_type": "markdown",
   "id": "8e17b841",
   "metadata": {},
   "source": [
    "#### ```5 Number Summary```:\n",
    "The five-number summary is  statistical measure used to describe the distribution of a dataset. It provide a quick overview of the data's spread and centre , and it includes the following five key values:\n",
    "1. minimum\n",
    "2. first quartile (Q1)\n",
    "3. median(Q2)\n",
    "4. third quartile (Q3)\n",
    "5. maximum\n",
    "\n",
    "this ```five number summary``` is used to make ```box plot```"
   ]
  },
  {
   "cell_type": "code",
   "execution_count": 2,
   "id": "088c88e4",
   "metadata": {},
   "outputs": [
    {
     "data": {
      "text/plain": [
       "array([  2,   3,   4,   6,   7,   8,   9,  12,  13,  16,  17,  23,  25,\n",
       "        27,  34,  37, 201])"
      ]
     },
     "execution_count": 2,
     "metadata": {},
     "output_type": "execute_result"
    }
   ],
   "source": [
    "import numpy as np\n",
    "arr= np.array([2,3,4,6,7,8,9,12,13,16,17,23,25,27,34,37,201])\n",
    "arr"
   ]
  },
  {
   "cell_type": "code",
   "execution_count": 7,
   "id": "6b0f2fd8",
   "metadata": {},
   "outputs": [
    {
     "name": "stdout",
     "output_type": "stream",
     "text": [
      "7.0\n",
      "25.0\n",
      "18.0\n"
     ]
    }
   ],
   "source": [
    "### we need to find iqr\n",
    "Q1=np.percentile(arr,25)\n",
    "print(Q1)\n",
    "\n",
    "Q3 = np.percentile(arr,75)\n",
    "print(Q3)\n",
    "\n",
    "iqr = Q3 - Q1\n",
    "print(iqr)"
   ]
  },
  {
   "cell_type": "code",
   "execution_count": 8,
   "id": "9f4c02ce",
   "metadata": {},
   "outputs": [
    {
     "name": "stdout",
     "output_type": "stream",
     "text": [
      "52.0\n",
      "-20.0\n"
     ]
    }
   ],
   "source": [
    "## upper fence \n",
    "upper_fence = Q3 + 1.5 * iqr\n",
    "print(upper_fence)\n",
    "## lower fence\n",
    "lower_fence = Q1 - 1.5 * iqr\n",
    "print(lower_fence)\n"
   ]
  },
  {
   "cell_type": "code",
   "execution_count": 12,
   "id": "770cc214",
   "metadata": {},
   "outputs": [
    {
     "data": {
      "text/plain": [
       "array([ 2,  3,  4,  6,  7,  8,  9, 12, 13, 16, 17, 23, 25, 27, 34, 37])"
      ]
     },
     "execution_count": 12,
     "metadata": {},
     "output_type": "execute_result"
    }
   ],
   "source": [
    "## outliers remove\n",
    "l = []\n",
    "for i in arr:\n",
    "    if i<upper_fence and i>lower_fence:\n",
    "        l.append(i)\n",
    "arr2= np.array(l)\n",
    "arr2"
   ]
  },
  {
   "cell_type": "code",
   "execution_count": 17,
   "id": "ee8837a6",
   "metadata": {},
   "outputs": [
    {
     "data": {
      "text/plain": [
       "<Axes: >"
      ]
     },
     "execution_count": 17,
     "metadata": {},
     "output_type": "execute_result"
    },
    {
     "data": {
      "image/png": "[encoded data removed]",
      "text/plain": [
       "<Figure size 640x480 with 1 Axes>"
      ]
     },
     "metadata": {},
     "output_type": "display_data"
    }
   ],
   "source": [
    "import seaborn as sns\n",
    "sns.boxplot(arr )"
   ]
  },
  {
   "cell_type": "code",
   "execution_count": 14,
   "id": "8b0a5552",
   "metadata": {},
   "outputs": [
    {
     "data": {
      "text/plain": [
       "<Axes: >"
      ]
     },
     "execution_count": 14,
     "metadata": {},
     "output_type": "execute_result"
    },
    {
     "data": {
      "image/png": "[encoded data removed]",
      "text/plain": [
       "<Figure size 640x480 with 1 Axes>"
      ]
     },
     "metadata": {},
     "output_type": "display_data"
    }
   ],
   "source": [
    "sns.boxplot(arr2)"
   ]
  },
  {
   "cell_type": "code",
   "execution_count": null,
   "id": "487d900b",
   "metadata": {},
   "outputs": [],
   "source": []
  }
 ],
 "metadata": {
  "kernelspec": {
   "display_name": "Python 3",
   "language": "python",
   "name": "python3"
  },
  "language_info": {
   "codemirror_mode": {
    "name": "ipython",
    "version": 3
   },
   "file_extension": ".py",
   "mimetype": "text/x-python",
   "name": "python",
   "nbconvert_exporter": "python",
   "pygments_lexer": "ipython3",
   "version": "3.11.9"
  }
 },
 "nbformat": 4,
 "nbformat_minor": 5
}
