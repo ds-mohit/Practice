{
 "cells": [
  {
   "cell_type": "markdown",
   "id": "7956bcdc",
   "metadata": {},
   "source": [
    "#### ```In this we analyse the data and find the central tendency```"
   ]
  },
  {
   "cell_type": "markdown",
   "id": "720a20c5",
   "metadata": {},
   "source": [
    "#### ```Measure of Central Tendency```\n",
    "--> is different ways we can come up to describe the middle part of the our data.\n",
    "\n",
    "``` 1. Mean ``` :--> It is the average of the data.\n",
    "mean = sum of all numbers/ total numbers\n",
    "\n",
    "Fancy representation in Statistics :--> $$\\bar{x} = \\frac{\\sum x_i}{n}$$\n",
    "\n",
    "``` 2. Median ``` :--> It is the middle number of the data.\n",
    "for odd length of data :--> directly middle element\n",
    "\n",
    "for even length of data :--> sum of middle two elements / 2\n",
    "\n",
    "``` 3. Mode ``` :--> It is the most frequent number of the data.\n",
    "\n",
    "```case 1 ```:--> when there is ```no mode``` means no element is repeated.\n",
    "\n",
    "```case 2 ```:--> when there is ```one mode ``` means one element is repeated.\n",
    "\n",
    "```case 3``` :--> when there is more than one mode means repeated length of elements are equal like 2,3 both repeated 3 times , means 2 and 3 are modes. this is known as ```bimodal . ```\n"
   ]
  },
  {
   "cell_type": "code",
   "execution_count": 1,
   "id": "9cdfae7b",
   "metadata": {},
   "outputs": [
    {
     "name": "stdout",
     "output_type": "stream",
     "text": [
      "3.0\n"
     ]
    }
   ],
   "source": [
    "def mean(*args):\n",
    "    return sum(args) / len(args)\n",
    "print(mean(1,2,3,4,5))"
   ]
  },
  {
   "cell_type": "markdown",
   "id": "95b01d5f",
   "metadata": {},
   "source": [
    "### ```Measure of Spread ```\n",
    "\n",
    "in this we find central point of our data but we also have to talk about measure of spread , how are data is spreaded out around it's centre.\n",
    "\n",
    "we will talk about Range and IQR(Interquartile range ) , variance and standard deviation "
   ]
  },
  {
   "cell_type": "markdown",
   "id": "d9c77fe2",
   "metadata": {},
   "source": [
    "#### ```Range``` : \n",
    "to find the range we need to substract the highest data point with the smallest data point.\n",
    "\n",
    "#### ```Interquartile range(IQR)``` :\n",
    "for understanding this first we need to understand quartiles because in IQR we are meeasuring siatance between one quarter and another quarter. \n",
    "\n",
    "e.g. 12,12,13,14,{15}Q1 ,17,20,20,28,{28.5 Q2} ,29,31,35,46,{46}Q3,48,51,59,60\n",
    "so IQR is Q3 - Q1 \n",
    "\n",
    "it tells if the IQR is low it means the data is close to the median. \n",
    "\n",
    "if IQR is high it means the data is highly spread from the centre.\n"
   ]
  },
  {
   "cell_type": "markdown",
   "id": "5ef91855",
   "metadata": {},
   "source": [
    "### ```OUTLIERS ```:"
   ]
  },
  {
   "cell_type": "markdown",
   "id": "8e17b841",
   "metadata": {},
   "source": []
  }
 ],
 "metadata": {
  "kernelspec": {
   "display_name": "Python 3",
   "language": "python",
   "name": "python3"
  },
  "language_info": {
   "codemirror_mode": {
    "name": "ipython",
    "version": 3
   },
   "file_extension": ".py",
   "mimetype": "text/x-python",
   "name": "python",
   "nbconvert_exporter": "python",
   "pygments_lexer": "ipython3",
   "version": "3.11.9"
  }
 },
 "nbformat": 4,
 "nbformat_minor": 5
}
