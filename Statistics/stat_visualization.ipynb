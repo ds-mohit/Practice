{
 "cells": [
  {
   "cell_type": "markdown",
   "id": "9a6b273f",
   "metadata": {},
   "source": [
    "#### Data table --> a tabular representation of data in the form of rows and columns"
   ]
  },
  {
   "cell_type": "markdown",
   "id": "efb1eb26",
   "metadata": {},
   "source": [
    "#### One-Way Table --> a basic table with one categorical variable and one continuous variable \n",
    "In this table , all varaibles that are dependent on a variable is known as individual ."
   ]
  },
  {
   "cell_type": "markdown",
   "id": "473f9072",
   "metadata": {},
   "source": [
    "there are two types of data --> categorical and quantative data\n",
    "\n",
    "continuous numeric data like age, salary, height , etc. are quantative variables.\n",
    "\n",
    "where as categorical data like gender , genre, et are known as qualitative variables"
   ]
  },
  {
   "cell_type": "markdown",
   "id": "5cdb65b1",
   "metadata": {},
   "source": [
    "### Bar Graph visualisation\n",
    "for bar graph we need frequency table\n",
    "\n",
    "### PieChart Visualisation\n",
    "for this we also need frequency table\n",
    "but this time we gona calculate percentage occurance \n",
    "\n",
    "### Line Graph\n",
    "for this we need to remember the bar graph and just have to put dot on the top of every bar and connect the dots \n",
    "\n",
    "When to use line graph --> when we need to find the trend / follow the trend of the continuous data .\n",
    "\n",
    "when to use bar graph --> when we need to find the frequency of the categorical data\n",
    "\n",
    "#### O-gives --> we need to take commulative frequencies .  \n",
    "now line graph created with commulative frequencies is known as o-gives.\n",
    "\n"
   ]
  },
  {
   "cell_type": "markdown",
   "id": "84f0c819",
   "metadata": {},
   "source": [
    "### Two-way Table --> In this table , there are more than one individual variables and dependent variables . \n",
    "\n",
    "\n",
    "##### Dot plot --> for this we need to find the frequency table of spwcific data which fulfill the need. \n",
    "In this, we stake dot on top of each other than bars but most important cause it will build a base for understanding histogram\n"
   ]
  },
  {
   "cell_type": "markdown",
   "id": "f1538feb",
   "metadata": {},
   "source": [
    "#### Relative freaquency Table -->\n",
    "in this we can make it via one way table or two way table.\n",
    "\n",
    "#### Joint Distribution --> \n",
    "A joint distribution table is similar to relative frequency table but it also contains percentages. But you know why it is called as joint distribution because the table will compare two different distributions."
   ]
  },
  {
   "cell_type": "markdown",
   "id": "28832e78",
   "metadata": {},
   "source": [
    "#### Histogram Visualisation -->\n"
   ]
  },
  {
   "cell_type": "markdown",
   "id": "8c6da926",
   "metadata": {},
   "source": []
  }
 ],
 "metadata": {
  "language_info": {
   "name": "python"
  }
 },
 "nbformat": 4,
 "nbformat_minor": 5
}
