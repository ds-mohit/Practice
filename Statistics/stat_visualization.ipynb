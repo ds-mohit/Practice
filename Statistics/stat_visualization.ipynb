{
 "cells": [
  {
   "cell_type": "markdown",
   "id": "9a6b273f",
   "metadata": {},
   "source": [
    "#### Data table --> a tabular representation of data in the form of rows and columns"
   ]
  },
  {
   "cell_type": "markdown",
   "id": "efb1eb26",
   "metadata": {},
   "source": [
    "#### One-Way Table --> a basic table with one categorical variable and one continuous variable \n",
    "In this table , all varaibles that are dependent on a variable is known as individual ."
   ]
  },
  {
   "cell_type": "markdown",
   "id": "473f9072",
   "metadata": {},
   "source": [
    "there are two types of data --> categorical and quantative data\n",
    "\n",
    "continuous numeric data like age, salary, height , etc. are quantative variables.\n",
    "\n",
    "where as categorical data like gender , genre, et are known as qualitative variables"
   ]
  },
  {
   "cell_type": "markdown",
   "id": "5cdb65b1",
   "metadata": {},
   "source": []
  }
 ],
 "metadata": {
  "language_info": {
   "name": "python"
  }
 },
 "nbformat": 4,
 "nbformat_minor": 5
}
