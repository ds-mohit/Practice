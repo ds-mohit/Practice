{
 "cells": [
  {
   "cell_type": "markdown",
   "id": "86afaba1",
   "metadata": {},
   "source": [
    "### ```Data Distribution```:\n",
    "in this we will see how data is spread around the mean .\n",
    "\n",
    "In this section we will see how data distribution start with a Histogram then it becomes a frequency polygon and eventually turns into a density curve that represents the distribution."
   ]
  },
  {
   "cell_type": "markdown",
   "id": "50b5a174",
   "metadata": {},
   "source": []
  }
 ],
 "metadata": {
  "language_info": {
   "name": "python"
  }
 },
 "nbformat": 4,
 "nbformat_minor": 5
}
