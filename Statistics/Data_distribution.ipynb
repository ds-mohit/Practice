{
 "cells": [
  {
   "cell_type": "markdown",
   "id": "86afaba1",
   "metadata": {},
   "source": [
    "### ```Data Distribution```:\n",
    "in this we will see how data is spread around the mean .\n",
    "\n",
    "In this section we will see how data distribution start with a Histogram then it becomes a frequency polygon and eventually turns into a density curve that represents the distribution."
   ]
  },
  {
   "cell_type": "markdown",
   "id": "50b5a174",
   "metadata": {},
   "source": [
    "### ```mean``` , ```variance``` and ```standard deviation```:\n",
    "\n",
    "for this first we need to understand what is population and sample in Statisitics:\n",
    "\n",
    "1. ``` Population ```:--> it is the total set of data that we have .\n",
    "2. ``` Sample ```:--> it is the subset of data that we have .\n",
    "\n",
    "```Variance ```: \n",
    "It is a statistical measure that quantifies the spread or dispersion of a set of data points around the mean . It is calculated as the average of the squared differences between each data point and the mean of the data set.\n",
    "\n",
    "Population variance:  \n",
    "$\\sigma^2 = \\frac{\\sum_{i=1}^N (x_i - \\mu)^2}{N}$  \n",
    "\n",
    "Sample variance:  \n",
    "$s^2 = \\frac{\\sum_{i=1}^n (x_i - \\bar{x})^2}{n - 1}$\n",
    " \n",
    " \n",
    "here if ``` N ``` means it is ``` population ```and ``` mean ``` is represented by $$\\mu$$ and ``` varance ``` is represented by $$\\sigma^2$$ and ``` Standard deviation ``` is represented by $$\\sigma$$\n",
    "\n",
    "and if n ``` means ``` it is ``` sample``` and ``` mean ``` is represented by $$\\bar{x}$$ and ``` varance ``` is represented by $$s^2$$ and ``` Standard deviation ``` is represented by $$s$$\n",
    "\n"
   ]
  },
  {
   "cell_type": "markdown",
   "id": "6000c1c0",
   "metadata": {},
   "source": [
    "```Standard Deviation```:\n",
    "\n",
    "It is a measure of the spread or dispersion of a set of data points around the mean . It is calculated as the square root of the variance.\n",
    "\n",
    "```Population Standard Deviation ```:\n",
    "$$\\sigma = \\sqrt{\\frac{\\sum_{i=1}^N (x_i - \\mu)^2}{N}}$$\n",
    "\n",
    "```Sample Standard Deviation ```:\n",
    "$$s = \\sqrt{\\frac{\\sum_{i=1}^n (x_i - \\bar{x})^2}{n - 1}}$$"
   ]
  },
  {
   "cell_type": "markdown",
   "id": "db9f5e00",
   "metadata": {},
   "source": [
    "``` Density Curve```:\n",
    "\n",
    "to understand a density curve should know first know about histogram .\n",
    "\n",
    "first we will create histogram then put dot on top of each bar then joint the dots and draw a line then this will be our frequency polygon and remove the bars.\n",
    "\n",
    "if we are using more and more bins the dots will be very closer and eventually it will become density line."
   ]
  },
  {
   "cell_type": "markdown",
   "id": "125c57d1",
   "metadata": {},
   "source": [
    "#### Types of distribution :\n",
    "1. Symmetrical / Normal / Gaussian Distribution : in this mean , mode and median is same . \n",
    "it follows bell curve .\n",
    "\n",
    "2. Skewed Distribution : if it is skewed then mean , mode and median are not same . it follows skewed curve .\n",
    "\n",
    "it has 2 parts :\n",
    "1. Left Skewed : if it has left skewed means it's tail is on left side then mean , mode and median are not same . it follows left skewed curve .\n",
    "\n",
    "2. Right Skewed : if it has right skewed means it's tail is on right side then mean , mode and median are not same . it follows right skewed curve .\n",
    "\n",
    "```Note```: if we have skwed distribution its better to find the median than mean for central tendency amd IQr .\n",
    " \n",
    "and in normal we gona use mean and Standard Deviation. \n",
    "\n"
   ]
  },
  {
   "cell_type": "markdown",
   "id": "ff7b3a1d",
   "metadata": {},
   "source": [
    "#### ``` Z - SCORE ```: \n",
    "for z-score we need to use Empirical Rule .\n",
    "\n",
    "in this there is 68-95-99.7 rule \n",
    "1. 68% of the data lies between std1 distance left and right of the mean. \n",
    "2. 95% of the data lies between std2 distance left and right of the mean.\n",
    "3. 99.7% of the data lies between std3 distance left and right of the mean.\n",
    "\n",
    "<img src = \"emph.png\">"
   ]
  },
  {
   "cell_type": "markdown",
   "id": "6a8f76b2",
   "metadata": {},
   "source": [
    "#### What is the use of z-score ?\n",
    "\n",
    "the z-score is a powerful statistical tool used to understand how far a data point is from the mean of a dataset , measured in terms of standard deviations.\n",
    "\n",
    "``` formula ```:\n",
    "z-score = (x - mean) / standard deviation\n",
    "$$z = \\frac{x - \\mu}{\\sigma}$$\n",
    "\n",
    "if the z-score value is in negative that means left side of the mean and of its positive that means right side of the mean ."
   ]
  },
  {
   "cell_type": "markdown",
   "id": "0efaf933",
   "metadata": {},
   "source": [
    "#### What other things we can do with z-score ?\n",
    "1. "
   ]
  }
 ],
 "metadata": {
  "language_info": {
   "name": "python"
  }
 },
 "nbformat": 4,
 "nbformat_minor": 5
}
