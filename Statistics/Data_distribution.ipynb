{
 "cells": [
  {
   "cell_type": "markdown",
   "id": "86afaba1",
   "metadata": {},
   "source": [
    "### ```Data Distribution```:\n",
    "in this we will see how data is spread around the mean .\n",
    "\n",
    "In this section we will see how data distribution start with a Histogram then it becomes a frequency polygon and eventually turns into a density curve that represents the distribution."
   ]
  },
  {
   "cell_type": "markdown",
   "id": "50b5a174",
   "metadata": {},
   "source": [
    "### ```mean``` , ```variance``` and ```standard deviation```:\n",
    "\n",
    "for this first we need to understand what is population and sample in Statisitics:\n",
    "\n",
    "1. ``` Population ```:--> it is the total set of data that we have .\n",
    "2. ``` Sample ```:--> it is the subset of data that we have .\n",
    "\n"
   ]
  }
 ],
 "metadata": {
  "language_info": {
   "name": "python"
  }
 },
 "nbformat": 4,
 "nbformat_minor": 5
}
