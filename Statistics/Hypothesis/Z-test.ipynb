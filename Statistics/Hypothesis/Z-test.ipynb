{
 "cells": [
  {
   "cell_type": "markdown",
   "id": "1ff51a40",
   "metadata": {},
   "source": [
    "### ```Z - Test``` :\n",
    "For using test , we need more than 30 samples.\n",
    "\n",
    "and we should know about standard deviation or variance . \n",
    "\n"
   ]
  },
  {
   "cell_type": "markdown",
   "id": "8582a22e",
   "metadata": {},
   "source": [
    "### ```Z - Test Formula ``` :\n",
    "\n",
    "```Z = (sample_mean - population_mean) / (standard_deviation / sqrt(sample_size))```\n",
    "\n",
    "1. Z-test for a single observation:\n",
    "\n",
    "$$\n",
    "z = \\frac{\\bar{x} - \\mu}{\\sigma / \\sqrt{n}}\n",
    "$$\n",
    "x = sample mean\n",
    "\n",
    "μ = population mean (hypothesized)\n",
    "\n",
    "𝜎 = population standard deviation\n",
    "\n",
    "n = sample size\n",
    "\n",
    "2. Z-test for a single sample mean (population σ unknown):\n",
    "$$\n",
    "z = \\frac{x - \\mu}{\\sigma}\n",
    "$$\n"
   ]
  },
  {
   "cell_type": "markdown",
   "id": "0e9e5b0b",
   "metadata": {},
   "source": []
  }
 ],
 "metadata": {
  "language_info": {
   "name": "python"
  }
 },
 "nbformat": 4,
 "nbformat_minor": 5
}
