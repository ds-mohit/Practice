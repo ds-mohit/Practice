{
 "cells": [
  {
   "cell_type": "markdown",
   "id": "1ff51a40",
   "metadata": {},
   "source": [
    "### ```Z - Test``` :\n",
    "For using test , we need more than 30 samples.\n",
    "\n",
    "and we should know about standard deviation or variance . \n",
    "\n"
   ]
  },
  {
   "cell_type": "markdown",
   "id": "8582a22e",
   "metadata": {},
   "source": [
    "### ```Z - Test Formula ``` :\n",
    "\n",
    "```Z = (sample_mean - population_mean) / (standard_deviation / sqrt(sample_size))```\n",
    "\n",
    "1. Z-test for a single observation:\n",
    "\n",
    "$$\n",
    "z = \\frac{\\bar{x} - \\mu}{\\sigma / \\sqrt{n}}\n",
    "$$\n",
    "x = sample mean\n",
    "\n",
    "μ = population mean (hypothesized)\n",
    "\n",
    "𝜎 = population standard deviation\n",
    "\n",
    "n = sample size\n",
    "\n",
    "2. Z-test for a single sample mean (population σ unknown):\n",
    "$$\n",
    "z = \\frac{x - \\mu}{\\sigma}\n",
    "$$\n"
   ]
  },
  {
   "cell_type": "markdown",
   "id": "bc0c07a6",
   "metadata": {},
   "source": [
    "there are two methods to perfrom z test :\n",
    "1. using critical value\n",
    "2. using p-value\n"
   ]
  },
  {
   "cell_type": "markdown",
   "id": "518b592c",
   "metadata": {},
   "source": [
    "### ```Z - Test Critical Value``` : \n",
    "ques --> the avg student marks are 80 with population standard deviation of 2.5 but a teacher believes the mean to be different so he took the marks of 36 individuals and found that their average is 82.5 .\n",
    "\n",
    "solution :\n",
    "𝜎 = 2.5 ,\n",
    "μ = 80 ,\n",
    "x = 82.5 ,\n",
    "n = 36 \n",
    "\n",
    "Assume significance value = 0.05\n",
    "\n",
    "so critical area = 0.95\n",
    "\n",
    "we are performing two - tailed test :\n",
    "\n",
    "h_o (null hypothesis): no difference\n",
    "\n",
    "h_1 (alternate hypothesis): there is a difference\n",
    "\n",
    "z = (82.5 - 80)/ 2.5 /sqrt(36)\n",
    "\n",
    "z =  2.5 * 6 / 2.5\n",
    "\n",
    "z = 6\n",
    "\n",
    "so range of critical values are between -1.96 to 1.96 because of 0.95 \n",
    "\n",
    "and here our z value is 6 . so it means there is difference and teacher is right .\n",
    "\n",
    "\n",
    "Ques 2 : one tailed question : it is believed that the avg score in statistics exam is 75 . A professor thinks student this year have performed worse . A random sample of 40 students shows an avg score of 72 , with a population standard deviation of 10 . Test the professor's belief at the 0.05 significance value . \n",
    "\n",
    "Sol : \n",
    "𝜎 = 10 ,\n",
    "μ = 75 ,\n",
    "x = 72 ,\n",
    "n = 40 \n",
    "\n",
    "so we find the z value using z- table for 0.05 which will decide the critical values range\n",
    "\n",
    "so it is - 1.64 beacuse of negative side.\n",
    "\n",
    "now find z = 72-75/10/sqrt(40)\n",
    "\n",
    "z = -1.89\n",
    "\n",
    "now it's out of range of critical values which means we are rejecting the null hypothesis. \n",
    "\n",
    "which means professor's belief is true . \n",
    "\n",
    "\n"
   ]
  },
  {
   "cell_type": "markdown",
   "id": "bf30aeab",
   "metadata": {},
   "source": [
    "### ``` using p-value ``` :\n",
    "Percentage value"
   ]
  },
  {
   "cell_type": "code",
   "execution_count": null,
   "id": "16ba5570",
   "metadata": {},
   "outputs": [],
   "source": []
  }
 ],
 "metadata": {
  "language_info": {
   "name": "python"
  }
 },
 "nbformat": 4,
 "nbformat_minor": 5
}
