{
 "cells": [
  {
   "cell_type": "markdown",
   "id": "1ff51a40",
   "metadata": {},
   "source": [
    "### ```Z - Test``` :\n",
    "For using test , we need more than 30 samples.\n",
    "\n",
    "and we should know about standard deviation or variance . \n",
    "\n"
   ]
  },
  {
   "cell_type": "markdown",
   "id": "8582a22e",
   "metadata": {},
   "source": [
    "### ```Z - Test Formula ``` :\n",
    "\n",
    "```Z = (sample_mean - population_mean) / (standard_deviation / sqrt(sample_size))```\n",
    "\n",
    "1. Z-test for a single observation:\n",
    "\n",
    "$$\n",
    "z = \\frac{\\bar{x} - \\mu}{\\sigma / \\sqrt{n}}\n",
    "$$\n",
    "x = sample mean\n",
    "\n",
    "μ = population mean (hypothesized)\n",
    "\n",
    "𝜎 = population standard deviation\n",
    "\n",
    "n = sample size\n",
    "\n",
    "2. Z-test for a single sample mean (population σ unknown):\n",
    "$$\n",
    "z = \\frac{x - \\mu}{\\sigma}\n",
    "$$\n"
   ]
  },
  {
   "cell_type": "markdown",
   "id": "bc0c07a6",
   "metadata": {},
   "source": [
    "there are two methods to perfrom z test :\n",
    "1. using critical value\n",
    "2. using p-value\n"
   ]
  },
  {
   "cell_type": "markdown",
   "id": "518b592c",
   "metadata": {},
   "source": [
    "### ```Z - Test Critical Value``` : \n",
    "ques --> the avg student marks are 80 with population standard deviation of 2.5 but a teacher believes the mean to be different so he took the marks of 36 individuals and found that their average is 82.5 .\n",
    "\n",
    "solution :\n",
    "𝜎 = 2.5 ,\n",
    "μ = 80 ,\n",
    "x = 82.5 ,\n",
    "n = 36 \n",
    "\n",
    "Assume significance value = 0.05\n",
    "\n",
    "so critical area = 0.95\n",
    "\n",
    "we are performing two - tailed test :\n",
    "\n",
    "h_o (null hypothesis): no difference\n",
    "\n",
    "h_1 (alternate hypothesis): there is a difference\n",
    "\n",
    "z = (82.5 - 80)/ 2.5 /sqrt(36)\n",
    "\n",
    "z =  2.5 * 6 / 2.5\n",
    "\n",
    "z = 6\n",
    "\n",
    "so range of critical values are between -1.96 to 1.96 because of 0.95 \n",
    "\n",
    "and here our z value is 6 . so it means there is difference and teacher is right .\n",
    "\n",
    "\n",
    "Ques 2 : one tailed question : it is believed that the avg score in statistics exam is 75 . A professor thinks student this year have performed worse . A random sample of 40 students shows an avg score of 72 , with a population standard deviation of 10 . Test the professor's belief at the 0.05 significance value . \n",
    "\n",
    "Sol : \n",
    "𝜎 = 10 ,\n",
    "μ = 75 ,\n",
    "x = 72 ,\n",
    "n = 40 \n",
    "\n",
    "so we find the z value using z- table for 0.05 which will decide the critical values range\n",
    "\n",
    "so it is - 1.64 beacuse of negative side.\n",
    "\n",
    "now find z = 72-75/10/sqrt(40)\n",
    "\n",
    "z = -1.89\n",
    "\n",
    "now it's out of range of critical values which means we are rejecting the null hypothesis. \n",
    "\n",
    "which means professor's belief is true . \n",
    "\n",
    "\n"
   ]
  },
  {
   "cell_type": "markdown",
   "id": "bf30aeab",
   "metadata": {},
   "source": [
    "### ``` using p-value ``` :\n",
    "Percentage value is called p-value ."
   ]
  },
  {
   "cell_type": "code",
   "execution_count": 14,
   "id": "16ba5570",
   "metadata": {},
   "outputs": [],
   "source": [
    "import numpy as np\n",
    "\n",
    "from scipy.stats import norm\n"
   ]
  },
  {
   "cell_type": "code",
   "execution_count": 15,
   "id": "401dabcb",
   "metadata": {},
   "outputs": [
    {
     "data": {
      "text/plain": [
       "35"
      ]
     },
     "execution_count": 15,
     "metadata": {},
     "output_type": "execute_result"
    }
   ],
   "source": [
    "sample = [172 , 174, 168, 169, 171, 173, 175, 170, 169, 172 ,156 ,179 ,166, 164, 178, 179, 180, 158, 185, 177 ,189 ,180 ,174, 174, 189,158,155,160,165,168,167,164,160,156,159] \n",
    "population_mean = 170\n",
    "population_std = 3\n",
    "sample_mean = np.mean(sample)\n",
    "n = len(sample)\n",
    "n\n"
   ]
  },
  {
   "cell_type": "code",
   "execution_count": 16,
   "id": "ab1815a8",
   "metadata": {},
   "outputs": [
    {
     "data": {
      "text/plain": [
       "0.16903085094570972"
      ]
     },
     "execution_count": 16,
     "metadata": {},
     "output_type": "execute_result"
    }
   ],
   "source": [
    "z_score = (sample_mean - population_mean) / (population_std / np.sqrt(n))\n",
    "z_score"
   ]
  },
  {
   "cell_type": "code",
   "execution_count": null,
   "id": "e29c37c4",
   "metadata": {},
   "outputs": [
    {
     "data": {
      "text/plain": [
       "1.959963984540054"
      ]
     },
     "execution_count": 21,
     "metadata": {},
     "output_type": "execute_result"
    }
   ],
   "source": [
    "## for critical values of z test \n",
    "## -1.96 to 1.96\n",
    "## which means we are accepting the null hypothesis\n",
    "c_value = norm.ppf(1-0.05/2) ## ppf = percent point function\n",
    "# this formula is for 2 tailed Text\n",
    "# and for 1 tailed test we use ppf(1-alpha)\n",
    "c_value"
   ]
  },
  {
   "cell_type": "code",
   "execution_count": 18,
   "id": "3d85b768",
   "metadata": {},
   "outputs": [
    {
     "data": {
      "text/plain": [
       "0.43288618749630814"
      ]
     },
     "execution_count": 18,
     "metadata": {},
     "output_type": "execute_result"
    }
   ],
   "source": [
    "## using p-value : \n",
    "p_value = 1 - norm.cdf(abs(z_score)) ## cdf = cumulative distribution function\n",
    "p_value"
   ]
  },
  {
   "cell_type": "code",
   "execution_count": 19,
   "id": "085c4c40",
   "metadata": {},
   "outputs": [
    {
     "name": "stdout",
     "output_type": "stream",
     "text": [
      "accept null hypothesis\n"
     ]
    }
   ],
   "source": [
    "## in case of p-value we can directly compare it with significance value\n",
    "## significance value = 0.05\n",
    "\n",
    "alpha = 0.05\n",
    "if p_value < alpha:\n",
    "    print(\"reject null hypothesis\")\n",
    "else:\n",
    "    print(\"accept null hypothesis\")"
   ]
  },
  {
   "cell_type": "code",
   "execution_count": null,
   "id": "4f4c4c3f",
   "metadata": {},
   "outputs": [],
   "source": []
  }
 ],
 "metadata": {
  "kernelspec": {
   "display_name": "Python 3",
   "language": "python",
   "name": "python3"
  },
  "language_info": {
   "codemirror_mode": {
    "name": "ipython",
    "version": 3
   },
   "file_extension": ".py",
   "mimetype": "text/x-python",
   "name": "python",
   "nbconvert_exporter": "python",
   "pygments_lexer": "ipython3",
   "version": "3.11.9"
  }
 },
 "nbformat": 4,
 "nbformat_minor": 5
}
