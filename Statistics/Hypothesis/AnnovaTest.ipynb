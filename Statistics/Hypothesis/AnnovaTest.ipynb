{
 "cells": [
  {
   "cell_type": "markdown",
   "id": "0270545d",
   "metadata": {},
   "source": [
    "### ```Annova Test ```:\n",
    "\n",
    "Anova ( Analysis of variance ) is used to compare means of more then two independent froups to check if at least one group is significantly different.\n"
   ]
  },
  {
   "cell_type": "markdown",
   "id": "c3a8d8ff",
   "metadata": {},
   "source": []
  }
 ],
 "metadata": {
  "language_info": {
   "name": "python"
  }
 },
 "nbformat": 4,
 "nbformat_minor": 5
}
