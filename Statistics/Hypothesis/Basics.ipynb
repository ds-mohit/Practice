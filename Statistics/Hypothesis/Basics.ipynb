{
 "cells": [
  {
   "cell_type": "markdown",
   "id": "636d3f06",
   "metadata": {},
   "source": [
    "## link for notes \n",
    "[https://www.youtube.com/redirect?event=video_description&redir_token=QUFFLUhqbWo0WXNldkRMWEF4YjRtcFB0RmR2NHpMbGpmQXxBQ3Jtc0ttZ25mcF9WdWNtd0tPV3BfT3FHUElYelpUZ3AtR2hrd0xWTC04SlBpeGx6RmJnN2xiZ3BoMDFpYlBoOVcyWW80Z2REa05vZTNUaFdST3JnYXFkckpGdUtQZDZwc0tNME9sUm9oVzFyNVFLY2tFTDB2SQ&q=https%3A%2F%2Fdrive.google.com%2Ffile%2Fd%2F1MZoDojzmUtYz8GI9aeih-tCThCDKXwp0%2Fview%3Fusp%3Dsharing&v=eF7HoC-cLRM]"
   ]
  },
  {
   "cell_type": "markdown",
   "id": "5e9a79b2",
   "metadata": {},
   "source": [
    "### ``` Descriptive Statistics ``` :\n",
    "\n",
    "1. Purpose : summarize & describe the data.\n",
    "2. Works with : Actual data you collected.\n",
    "3. Examples : mean, median, mode, variance, standard deviation, Graphs ,etc.\n",
    "4. Focus : \"What does the data say ?\"\n",
    "\n",
    "### ``` Inferential Statistics ``` :\n",
    "1. Purpose : Make predictions or draw conclusions from data.\n",
    "2. Works with : Goes beyond the data to generalise to a population.\n",
    "3. Examples : Hypothesis Testing, Confidence Intervals, intervals , p-values , t-tests ,  etc.\n",
    "4. Focus : \"What can we inferabout the population ?\""
   ]
  },
  {
   "cell_type": "markdown",
   "id": "78cb5eaa",
   "metadata": {},
   "source": [
    "### ``` Inferential Stats ```:\n",
    "It's the branch of statistics that help us make predictions or decisions about a population based on a sample of data. \n",
    "\n",
    "\n"
   ]
  },
  {
   "cell_type": "markdown",
   "id": "fc5ba709",
   "metadata": {},
   "source": [
    "### ``` Hypothesis Testing ```:\n",
    " It is a statistical method used to decide whether there's enough evidence in a sample to support a claim about a population.\n",
    " \n",
    " to test a hypothsis we need to define 2 hypothesis : Null Hypothesis and Alternate Hypothesis\n",
    "\n",
    " 1. Null Hypothesis : is always see the positive side cause there is a quote \" innocent until proven guilty \"\n",
    "\n",
    " 2. Alternate Hypothesis : is always see the negative side cause there is a quote \" guilty until proven innocent \"\n",
    "\n",
    " here we use significance value  which is decided by domain experts. \n",
    "\n",
    " by using significance we find confidence interval : 1- siginificance value = 1- 0.05 = 0.95 = 95% confidence interval\n",
    "\n",
    " if our result lie inside confidence interval that means we are accepting the null hypothesis.\n",
    " if our result lie outside confidence interval that means we are rejecting the null hypothesis. "
   ]
  },
  {
   "cell_type": "markdown",
   "id": "79aee285",
   "metadata": {},
   "source": [
    "### ``` Type 1 and Type 2 Errors ```:\n",
    "\n",
    "1. Type 1 Error : Rejecting the null hypothesis when it's true.\n",
    "2. Type 2 Error : Accepting the null hypothesis when it's false.\n",
    "\n",
    "by using this we make confusion matrix.\n",
    "\n"
   ]
  },
  {
   "cell_type": "markdown",
   "id": "9a3d6eb2",
   "metadata": {},
   "source": [
    "### ``` One Tailed and Two Tailed Tests ```:\n",
    "\n",
    "One-Tailed Test\n",
    "\n",
    "A one-tailed test checks for an effect in only one direction.\n",
    "\n",
    "Null hypothesis (H₀): No effect or no difference.\n",
    "\n",
    "Alternative hypothesis (H₁): Effect exists in a specific direction (greater than OR less than).\n",
    "\n",
    "👉 You use this when you already expect the result to go in one direction.\n",
    "\n",
    "Example (Right-tailed test):\n",
    "\n",
    "A battery company claims its batteries last at least 100 hours. You want to test if the average life is greater than 100 hours.\n",
    "\n",
    "H₀: μ = 100\n",
    "\n",
    "H₁: μ > 100 (one-tailed, right side)\n",
    "\n",
    "If the test statistic falls in the extreme right tail, you reject H₀.\n",
    "\n",
    "Example (Left-tailed test):\n",
    "\n",
    "A student must score at least 40 marks to pass. You want to test if the average score of a group is less than 40.\n",
    "\n",
    "H₀: μ = 40\n",
    "\n",
    "H₁: μ < 40 (one-tailed, left side)\n",
    "\n",
    "If the test statistic falls in the extreme left tail, you reject H₀.\n",
    "\n",
    "Two-Tailed Test\n",
    "\n",
    "A two-tailed test checks for an effect in both directions (higher OR lower).\n",
    "\n",
    "Null hypothesis (H₀): No effect or no difference.\n",
    "\n",
    "Alternative hypothesis (H₁): Effect exists, but you don’t know the direction.\n",
    "\n",
    "👉 You use this when you just want to know if something is different, not specifically higher or lower.\n",
    "\n",
    "Example:\n",
    "\n",
    "A soft drink company claims that each can contains 500 ml. You want to test if the average is different from 500 ml (could be more or less).\n",
    "\n",
    "H₀: μ = 500\n",
    "\n",
    "H₁: μ ≠ 500 (two-tailed)\n",
    "\n",
    "If the test statistic falls in the extreme left or right tail, you reject H₀.\n",
    "\n"
   ]
  },
  {
   "cell_type": "markdown",
   "id": "65de4a9e",
   "metadata": {},
   "source": []
  }
 ],
 "metadata": {
  "language_info": {
   "name": "python"
  }
 },
 "nbformat": 4,
 "nbformat_minor": 5
}
