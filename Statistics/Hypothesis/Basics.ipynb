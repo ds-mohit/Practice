{
 "cells": [
  {
   "cell_type": "markdown",
   "id": "5e9a79b2",
   "metadata": {},
   "source": [
    "### ``` Descriptive Statistics ``` :\n",
    "\n",
    "1. Purpose : summarize & describe the data.\n",
    "2. Works with : Actual data you collected.\n",
    "3. Examples : mean, median, mode, variance, standard deviation, Graphs ,etc.\n",
    "4. Focus : \"What does the data say ?\"\n",
    "\n",
    "### ``` Inferential Statistics ``` :\n",
    "1. Purpose : Make predictions or draw conclusions from data.\n",
    "2. Works with : Goes beyond the data to generalise to a population.\n",
    "3. Examples : Hypothesis Testing, Confidence Intervals, intervals , p-values , t-tests ,  etc.\n",
    "4. Focus : \"What can we inferabout the population ?\""
   ]
  },
  {
   "cell_type": "markdown",
   "id": "78cb5eaa",
   "metadata": {},
   "source": [
    "### ``` Inferential Stats ```:\n",
    "It's the branch of statistics that help us make predictions or decisions about a population based on a sample of data. \n",
    "\n",
    "\n"
   ]
  },
  {
   "cell_type": "markdown",
   "id": "fc5ba709",
   "metadata": {},
   "source": [
    "### ``` Hypothesis Testing ```:\n",
    " It is a statistical method used to decide whether there's enough evidence in a sample to support a claim about a population.\n",
    " \n",
    " to test a hypothsis we need to define 2 hypothesis : Null Hypothesis and Alternate Hypothesis\n",
    " "
   ]
  }
 ],
 "metadata": {
  "language_info": {
   "name": "python"
  }
 },
 "nbformat": 4,
 "nbformat_minor": 5
}
