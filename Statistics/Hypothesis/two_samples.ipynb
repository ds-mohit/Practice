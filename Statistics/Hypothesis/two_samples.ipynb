{
 "cells": [
  {
   "cell_type": "markdown",
   "id": "06223bcc",
   "metadata": {},
   "source": [
    "### ``` Two Samples ``` :\n",
    "\n",
    "you use two sample tests (whether T-test or Z -test ) when : \" you have two different groups (samples) and you want to compare their means to see if there's a statistically significant difference between them.\n",
    "\n",
    "``` Formula ``` : \n",
    "\n",
    "1. For z-test : \n",
    "```Z = (sample_mean1 - sample_mean2) / sqrt((standard_deviation1^2 / sample_size1 )+ (standard_deviation2^2 / sample_size2)) ```\n",
    "\n",
    "$$ Z = \\frac{\\bar{X}_1 - \\bar{X}_2}{\\sqrt{\\frac{\\sigma_1^2}{n_1} + \\frac{\\sigma_2^2}{n_2}}} $$\n",
    "\n",
    "2. For T-test :\n",
    "\n",
    "```T = (sample_mean1 - sample_mean2) / sqrt((standard_deviation1^2 / sample_size1 )+ (standard_deviation2^2 / sample_size2)) ```\n",
    "\n",
    "$$ T = \\frac{\\bar{X}_1 - \\bar{X}_2}{\\sqrt{\\frac{s_1^2}{n_1} + \\frac{s_2^2}{n_2}}} $$\n",
    "\n",
    "df = min(n1 - 1 , n2 - 1)\n"
   ]
  },
  {
   "cell_type": "markdown",
   "id": "a170e0c3",
   "metadata": {},
   "source": [
    "``` Important note ``` :\n",
    "When choosing between a Z-test and T-test , your main focus should be on the type of standard deviation \n",
    "\n",
    "if the sample std is given (and population standard deviation is unknown) , you should use the T-test\n",
    "when sample size is greater than 30 . "
   ]
  },
  {
   "cell_type": "markdown",
   "id": "0ce466d3",
   "metadata": {},
   "source": [
    "``` Question ``` :\n",
    " A teacher wants to know if there's a difference in math scores between boys and girls\n",
    "\n",
    "Boys : n = 30 , mean = 70 , std dev = 8\n",
    "\n",
    "Girls : n = 28 , mean = 74 , std dev  = 6\n",
    "\n",
    "Solution : \n",
    "here we gona use t-test because samples std dev is given .\n",
    "\n",
    "df  = min(30 - 1 , 28 - 1) = 27\n",
    "\n",
    "z = (70 - 74)/sqrt((8^2/30) + (6^2/28))\n",
    "\n",
    "z = "
   ]
  }
 ],
 "metadata": {
  "language_info": {
   "name": "python"
  }
 },
 "nbformat": 4,
 "nbformat_minor": 5
}
