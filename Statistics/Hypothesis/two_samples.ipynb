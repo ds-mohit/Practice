{
 "cells": [
  {
   "cell_type": "markdown",
   "id": "06223bcc",
   "metadata": {},
   "source": [
    "### ``` Two Samples ``` :\n",
    "\n",
    "you use two sample tests (whether T-test or Z -test ) when : \" you have two different groups (samples) and you want to compare their means to see if there's a statistically significant difference between them.\n",
    "\n",
    "``` Formula ``` : \n",
    "\n",
    "1. For z-test : \n",
    "```Z = (sample_mean1 - sample_mean2) / sqrt((standard_deviation1^2 / sample_size1 )+ (standard_deviation2^2 / sample_size2)) ```\n",
    "\n",
    "$$ Z = \\frac{\\bar{X}_1 - \\bar{X}_2}{\\sqrt{\\frac{\\sigma_1^2}{n_1} + \\frac{\\sigma_2^2}{n_2}}} $$\n",
    "\n",
    "2. For T-test :\n",
    "\n",
    "```T = (sample_mean1 - sample_mean2) / sqrt((standard_deviation1^2 / sample_size1 )+ (standard_deviation2^2 / sample_size2)) ```\n",
    "\n",
    "$$ T = \\frac{\\bar{X}_1 - \\bar{X}_2}{\\sqrt{\\frac{s_1^2}{n_1} + \\frac{s_2^2}{n_2}}} $$\n",
    "\n",
    "df = min(n1 - 1 , n2 - 1)\n"
   ]
  },
  {
   "cell_type": "markdown",
   "id": "a170e0c3",
   "metadata": {},
   "source": [
    "``` Important note ``` :\n",
    "When choosing between a Z-test and T-test , your main focus should be on the type of standard deviation \n",
    "\n",
    "if the sample std is given (and population standard deviation is unknown) , you should use the T-test\n",
    "when sample size is greater than 30 . "
   ]
  },
  {
   "cell_type": "markdown",
   "id": "0ce466d3",
   "metadata": {},
   "source": [
    "``` Question ``` :\n",
    " A teacher wants to know if there's a difference in math scores between boys and girls\n",
    "\n",
    "Boys : n = 30 , mean = 70 , std dev = 8\n",
    "\n",
    "Girls : n = 28 , mean = 74 , std dev  = 6\n",
    "\n",
    "Solution : \n",
    "here we gona use t-test because samples std dev is given .\n",
    "\n",
    "df  = min(30 - 1 , 28 - 1) = 27\n",
    "\n",
    "significance value  = 0.05 \n",
    "\n",
    "via these two we get critical values = 2.052 , -2.052\n",
    "\n",
    "z = (70 - 74)/sqrt((8^2/30) + (6^2/28))\n",
    "\n",
    "z = - 2.16\n",
    "\n",
    "here z value is out of critical values so we reject the null hypothesis .\n",
    "means there is a difference between math scores between boys and girls ."
   ]
  },
  {
   "cell_type": "code",
   "execution_count": 2,
   "id": "fac1e68e",
   "metadata": {},
   "outputs": [],
   "source": [
    "import numpy as np \n",
    "from scipy import stats"
   ]
  },
  {
   "cell_type": "code",
   "execution_count": 3,
   "id": "091be65a",
   "metadata": {},
   "outputs": [],
   "source": [
    "a = [85,88,90,92,87,85,89,91,86,88]\n",
    "b = [82,84,80,83,81,79,78,85,84,83]\n"
   ]
  },
  {
   "cell_type": "code",
   "execution_count": 5,
   "id": "72eaf089",
   "metadata": {},
   "outputs": [
    {
     "name": "stdout",
     "output_type": "stream",
     "text": [
      "5.829604009507161 1.610475598965881e-05\n"
     ]
    }
   ],
   "source": [
    "t_stats , p_value = stats.ttest_ind(a,b,equal_var=False)\n",
    "print(t_stats , p_value)"
   ]
  },
  {
   "cell_type": "code",
   "execution_count": 6,
   "id": "fe868d68",
   "metadata": {},
   "outputs": [
    {
     "name": "stdout",
     "output_type": "stream",
     "text": [
      "reject null hypothesis\n"
     ]
    }
   ],
   "source": [
    "alpha = 0.05\n",
    "\n",
    "if p_value < alpha:\n",
    "    print(\"reject null hypothesis\")\n",
    "else:\n",
    "    print(\"accept null hypothesis\") "
   ]
  }
 ],
 "metadata": {
  "kernelspec": {
   "display_name": "Python 3",
   "language": "python",
   "name": "python3"
  },
  "language_info": {
   "codemirror_mode": {
    "name": "ipython",
    "version": 3
   },
   "file_extension": ".py",
   "mimetype": "text/x-python",
   "name": "python",
   "nbconvert_exporter": "python",
   "pygments_lexer": "ipython3",
   "version": "3.11.9"
  }
 },
 "nbformat": 4,
 "nbformat_minor": 5
}
