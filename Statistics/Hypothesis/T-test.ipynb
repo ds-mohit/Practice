{
 "cells": [
  {
   "cell_type": "markdown",
   "id": "47b953f2",
   "metadata": {},
   "source": [
    "### ``` T-Test ``` :\n",
    "in this sample size cab be below 30 and standard deviation is unknown . "
   ]
  },
  {
   "cell_type": "markdown",
   "id": "45e96527",
   "metadata": {},
   "source": [
    "### ``` Formula ``` :\n",
    "\n",
    "$$ t = \\frac{\\bar{x} - \\mu}{\\frac{s}{\\sqrt{n}}} $$\n",
    "\n",
    "in this we need to calculate the degree of freedom = n-1 \n"
   ]
  },
  {
   "cell_type": "markdown",
   "id": "375f51b0",
   "metadata": {},
   "source": [
    "### ``` Example ``` :\n",
    "\n",
    "A backery claims that their cupcakes weigh at least 150 grams on avg . A customer suspect's this isn't true. they take a random sample of 10 cupcakes and find :\n",
    "Sample mean = 145 grams\n",
    "Sample standard deviation = 8 grams\n",
    "\n",
    "at a 5% significance level , test the claim using a one sample test ?\n",
    "\n",
    "sol : \n",
    "x = 145\n",
    "s = 8\n",
    "n = 10\n",
    "mu = 150\n",
    "alpha = 0.05\n",
    "\n",
    "t = (x - mu) / (s / sqrt(n))\n",
    "\n",
    "t = (145 - 150) / (8 / sqrt(10))\n",
    "\n",
    "t = -1.975\n",
    "\n",
    "df = n-1 = 9 ## degree of freedom \n",
    "we use it in t distribution table\n",
    "so critical values are --> 2.262 , -2.262\n",
    "\n",
    "t = -1.975 is inside of the critical values , so we accept the null hypothesis .\n",
    "\n",
    "which means customer's belief is true .\n",
    "\n"
   ]
  },
  {
   "cell_type": "code",
   "execution_count": 11,
   "id": "0223d7eb",
   "metadata": {},
   "outputs": [],
   "source": [
    "## t - test using p-value\n",
    "import numpy as np\n",
    "import scipy.stats as stats"
   ]
  },
  {
   "cell_type": "code",
   "execution_count": 5,
   "id": "87e2826b",
   "metadata": {},
   "outputs": [
    {
     "name": "stdout",
     "output_type": "stream",
     "text": [
      "171.3 2.3118054512532935 10\n"
     ]
    }
   ],
   "source": [
    "sample = [172 , 174 ,168 ,169, 171 , 173 , 175 , 170 , 169 , 172]\n",
    "\n",
    "sample_mean = np.mean(sample)\n",
    "sample_std = np.std(sample , ddof=1)\n",
    "sample_size = len(sample)\n",
    "print(sample_mean , sample_std , sample_size)"
   ]
  },
  {
   "cell_type": "code",
   "execution_count": 6,
   "id": "966284de",
   "metadata": {},
   "outputs": [
    {
     "data": {
      "text/plain": [
       "1.7782469350914734"
      ]
     },
     "execution_count": 6,
     "metadata": {},
     "output_type": "execute_result"
    }
   ],
   "source": [
    "mean_population = 170\n",
    "alpha = 0.05\n",
    "\n",
    "t_stats = (sample_mean - mean_population) / (sample_std / np.sqrt(sample_size))\n",
    "t_stats"
   ]
  },
  {
   "cell_type": "code",
   "execution_count": 12,
   "id": "8328feef",
   "metadata": {},
   "outputs": [
    {
     "data": {
      "text/plain": [
       "0.10907771593031335"
      ]
     },
     "execution_count": 12,
     "metadata": {},
     "output_type": "execute_result"
    }
   ],
   "source": [
    "\n",
    "p_value = 2 * (1 - stats.t.cdf(t_stats, df=sample_size - 1))\n",
    "p_value"
   ]
  },
  {
   "cell_type": "code",
   "execution_count": 13,
   "id": "8ea3b6ca",
   "metadata": {},
   "outputs": [
    {
     "name": "stdout",
     "output_type": "stream",
     "text": [
      "Accept Null Hypothesis\n"
     ]
    }
   ],
   "source": [
    "if p_value < alpha:\n",
    "    print(\"Reject Null Hypothesis\")\n",
    "else:\n",
    "    print(\"Accept Null Hypothesis\")"
   ]
  },
  {
   "cell_type": "code",
   "execution_count": null,
   "id": "6ff1346d",
   "metadata": {},
   "outputs": [],
   "source": []
  }
 ],
 "metadata": {
  "kernelspec": {
   "display_name": "Python 3",
   "language": "python",
   "name": "python3"
  },
  "language_info": {
   "codemirror_mode": {
    "name": "ipython",
    "version": 3
   },
   "file_extension": ".py",
   "mimetype": "text/x-python",
   "name": "python",
   "nbconvert_exporter": "python",
   "pygments_lexer": "ipython3",
   "version": "3.11.9"
  }
 },
 "nbformat": 4,
 "nbformat_minor": 5
}
