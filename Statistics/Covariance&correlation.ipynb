{
 "cells": [
  {
   "cell_type": "markdown",
   "id": "4e965b46",
   "metadata": {},
   "source": [
    "``` Covariance``` : \n",
    "1. It tells how 2 variables change together.\n",
    "2. It is used majorly in machine learning but it's a part of statistics.\n",
    "\n",
    "It give result in 2 ways : \n",
    "\n",
    "positive and negative\n",
    "\n",
    "``` Formula ``` : \n",
    "\n",
    "$$Cov(x,y) = \\frac{1}{n-1} \\sum_{i=1}^{n} (x_i - \\bar{x}) (y_i - \\bar{y})$$"
   ]
  },
  {
   "cell_type": "markdown",
   "id": "350b7b0e",
   "metadata": {},
   "source": [
    "so basically it just tells us the direction the relation is positive or negative. But to actually see the strength of the relation we need to use correlation."
   ]
  },
  {
   "cell_type": "markdown",
   "id": "7feaa877",
   "metadata": {},
   "source": [
    "### ``` Correlation ``` :\n",
    "It tells us the strength of the relation between 2 variables.\n",
    "\n",
    "``` Formula ``` :\n",
    "\n",
    "$$Corr(x,y) = \\frac{Cov(x,y)}{{\\sigma(x)\\sigma(y)}}$$"
   ]
  },
  {
   "cell_type": "markdown",
   "id": "86471032",
   "metadata": {},
   "source": [
    "so the result is between -1 to 1.\n",
    "\n",
    "if it is 1 then it is perfectly positive and if it is -1 then it is perfectly negative.\n",
    "if o means no relation ."
   ]
  },
  {
   "cell_type": "markdown",
   "id": "fd93c2ea",
   "metadata": {},
   "source": []
  }
 ],
 "metadata": {
  "language_info": {
   "name": "python"
  }
 },
 "nbformat": 4,
 "nbformat_minor": 5
}
