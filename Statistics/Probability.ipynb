{
 "cells": [
  {
   "cell_type": "markdown",
   "id": "feae385f",
   "metadata": {},
   "source": [
    "#### ```Probability``` : The probability of an event.\n",
    "\n",
    "probability = total no. of favourable outcomes / total no. of possible outcomes\n",
    "\n",
    "Probability is going to allow us to determine how reliable our statistical result actually are."
   ]
  },
  {
   "cell_type": "markdown",
   "id": "fead8748",
   "metadata": {},
   "source": [
    "#### ```Probability Roadmap``` : \n",
    "1. Basic probability concept.\n",
    "2. Types of Events.\n",
    "3. Probability Rules.\n",
    "4. Conditional Probability.\n",
    "5. Bayes' Theorem.\n",
    "\n"
   ]
  },
  {
   "cell_type": "markdown",
   "id": "43941831",
   "metadata": {},
   "source": [
    "#### ```Types of Events``` :\n",
    "1. Independent Events : are events where the occurance of one event does not affect the occurance of another event.\n",
    "\n",
    "P(A ^ B ) = P(A) * P(B)\n",
    "\n",
    "2. Dependent Events : are events where the occurance of one event affects the occurance of another event.\n",
    "\n",
    "P(A ^ B ) = P(A) * P(B | A)\n",
    "\n",
    "3. Mutually Exclusive Events : are events where the occurance of one event does not affect the occurance of another event.\n",
    "\n",
    "Two Events A and B are mutually exclusive if:\n",
    "P(A ^ B ) = 0\n",
    "\n",
    "\n",
    "\n"
   ]
  },
  {
   "cell_type": "markdown",
   "id": "e01d59df",
   "metadata": {},
   "source": [
    "#### ```Probability Rules``` :\n",
    "1. ``` Addition Rule ``` :  this help us to find the probability that at least one of the two event occurs.\n",
    "i.e. the probability of A or B occurs.\n",
    "\n",
    "P($ A \\cup B$) = P(A) + P(B) - P($A \\cap B$)\n",
    "\n",
    "where : $A \\cup B$ is the probability of A or B occuring.\n",
    "\n",
    "P($A \\cap B$) is the probability of Both A and B occuring.\n",
    "\n",
    "Special case : Mutually Exclusive Events. \n",
    "\n",
    "P($A \\cup B$) = P(A) + P(B)\n",
    "\n",
    "\n"
   ]
  },
  {
   "cell_type": "markdown",
   "id": "08537b87",
   "metadata": {},
   "source": [
    "2. ``` Multiplication Rule ```: \n",
    "It is used to find the probability of two events occurring together.\n",
    "i.e. The probability of A and B occuring.\n",
    "\n",
    "--> for Independent Events:\n",
    "\n",
    "P($A \\cap B$) = P(A) * P(B)\n",
    "\n",
    "--> for Dependent Events:\n",
    "\n",
    "P($A \\cap B$) = P(A) * P(B | A)\n",
    "use this when the probability of B depends on whether A has occured . "
   ]
  },
  {
   "cell_type": "markdown",
   "id": "aad778c1",
   "metadata": {},
   "source": [
    "#### ```Conditional Probability```:\n",
    "\n",
    "Conditional probability is used to find the probability of an event given another event has occured.\n",
    "\n",
    "P(A | B) = P(A and B) / P(B)\n",
    "\n"
   ]
  },
  {
   "cell_type": "markdown",
   "id": "504eaddf",
   "metadata": {},
   "source": [
    "#### ```Bayes' Theorem```:\n",
    "\n",
    "Bayes' Theorem is used to find the probability of an event given another event has occured.\n",
    "\n",
    "P(A | B) = P(B | A) * P(A) / P(B)"
   ]
  },
  {
   "cell_type": "markdown",
   "id": "d0def6ff",
   "metadata": {},
   "source": []
  }
 ],
 "metadata": {
  "language_info": {
   "name": "python"
  }
 },
 "nbformat": 4,
 "nbformat_minor": 5
}
