{
 "cells": [
  {
   "cell_type": "markdown",
   "id": "feae385f",
   "metadata": {},
   "source": [
    "#### ```Probability``` : The probability of an event."
   ]
  },
  {
   "cell_type": "markdown",
   "id": "fead8748",
   "metadata": {},
   "source": []
  }
 ],
 "metadata": {
  "language_info": {
   "name": "python"
  }
 },
 "nbformat": 4,
 "nbformat_minor": 5
}
