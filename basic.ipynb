{
 "cells": [
  {
   "cell_type": "markdown",
   "id": "62c562d4",
   "metadata": {},
   "source": [
    "### This is the practice file for python"
   ]
  },
  {
   "cell_type": "markdown",
   "id": "d260e08b",
   "metadata": {},
   "source": [
    "#### Variables --> in Python variables are containers for storing data values."
   ]
  },
  {
   "cell_type": "code",
   "execution_count": null,
   "id": "faa7c2ea",
   "metadata": {},
   "outputs": [
    {
     "name": "stdout",
     "output_type": "stream",
     "text": [
      "11\n"
     ]
    }
   ],
   "source": [
    "## for e.g.\n",
    "var1=5\n",
    "var2=6\n",
    "## Rules for declaring variables\n",
    "## 1. It should not start with a number\n",
    "## 2. It should not start with a special character e.g @,#,$,%\n",
    "## 3. It should not contain a space\n",
    "print(var1+var2)"
   ]
  },
  {
   "cell_type": "code",
   "execution_count": 2,
   "id": "12265a95",
   "metadata": {},
   "outputs": [],
   "source": [
    "## Naming Convention\n",
    "## 1. Camel Case -->  helloWorld\n",
    "## 2. Pascal Case --> HelloWorld\n",
    "## 3. Snake Case --> hello_world"
   ]
  },
  {
   "cell_type": "code",
   "execution_count": 4,
   "id": "db086e10",
   "metadata": {},
   "outputs": [
    {
     "name": "stdout",
     "output_type": "stream",
     "text": [
      "5\n",
      "5\n",
      "5\n"
     ]
    }
   ],
   "source": [
    "variableName=5 ## Camel case\n",
    "print(variableName)\n",
    "\n",
    "VariableName=5 ## Pascal case\n",
    "print(VariableName)\n",
    "\n",
    "variable_name=5  ## Snake case\n",
    "print(variable_name)"
   ]
  },
  {
   "cell_type": "code",
   "execution_count": 5,
   "id": "4fe1c4a1",
   "metadata": {},
   "outputs": [
    {
     "name": "stdout",
     "output_type": "stream",
     "text": [
      "<class 'int'>\n"
     ]
    }
   ],
   "source": [
    "## Data Types\n",
    "a = 12\n",
    "print(type(a))"
   ]
  },
  {
   "cell_type": "code",
   "execution_count": 6,
   "id": "d5a0c4fc",
   "metadata": {},
   "outputs": [
    {
     "name": "stdout",
     "output_type": "stream",
     "text": [
      "<class 'float'>\n"
     ]
    }
   ],
   "source": [
    "a = 10.2\n",
    "print(type(a))"
   ]
  },
  {
   "cell_type": "code",
   "execution_count": 9,
   "id": "187b724c",
   "metadata": {},
   "outputs": [
    {
     "name": "stdout",
     "output_type": "stream",
     "text": [
      "<class 'float'>\n"
     ]
    }
   ],
   "source": [
    "a = 15/3\n",
    "print(type(a))"
   ]
  },
  {
   "cell_type": "code",
   "execution_count": 12,
   "id": "c72282c6",
   "metadata": {},
   "outputs": [
    {
     "name": "stdout",
     "output_type": "stream",
     "text": [
      "<class 'complex'>\n"
     ]
    }
   ],
   "source": [
    "a = 15j # here j is used to represent the imaginary number \n",
    "## only j is used for it not any other aplhabet\n",
    "print(type(a))"
   ]
  },
  {
   "cell_type": "code",
   "execution_count": null,
   "id": "b5b4c573",
   "metadata": {},
   "outputs": [],
   "source": []
  }
 ],
 "metadata": {
  "kernelspec": {
   "display_name": "Python 3",
   "language": "python",
   "name": "python3"
  },
  "language_info": {
   "codemirror_mode": {
    "name": "ipython",
    "version": 3
   },
   "file_extension": ".py",
   "mimetype": "text/x-python",
   "name": "python",
   "nbconvert_exporter": "python",
   "pygments_lexer": "ipython3",
   "version": "3.11.9"
  }
 },
 "nbformat": 4,
 "nbformat_minor": 5
}
